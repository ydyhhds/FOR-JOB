{
 "cells": [
  {
   "cell_type": "markdown",
   "id": "29cb7d9a",
   "metadata": {},
   "source": [
    "##### 1、erp-库存台账"
   ]
  },
  {
   "cell_type": "code",
   "execution_count": 13,
   "id": "42625727",
   "metadata": {},
   "outputs": [],
   "source": [
    "import glob \n",
    "import pandas as pd\n",
    "import os\n",
    "\n",
    "\n",
    "def erp_warehouse(input_path,output_file):\n",
    "    \"\"\"每个月修改input_path、output_file就行\"\"\"\n",
    "    data_frame = []\n",
    "    for input_file in glob.glob(os.path.join(input_path,\"*.xlsx\")):\n",
    "        data = pd.read_excel(input_file)\n",
    "        data = data[data[\"期末库存\"]>0]\n",
    "        data[\"日期\"] = os.path.basename(input_file)\n",
    "        data_frame.append(data)\n",
    "    data_frame_concat = pd.concat(data_frame)\n",
    "    data_frame_concat.to_excel(output_file)\n",
    "    \n",
    "input_path = r\"C:\\Users\\vip\\Desktop\\新建文件夹 (2)\"\n",
    "output_file = r\"C:\\Users\\vip\\Desktop\\1.xlsx\"   \n",
    "erp_warehouse(input_path,output_file)"
   ]
  },
  {
   "cell_type": "markdown",
   "id": "62aed1d0",
   "metadata": {},
   "source": [
    "##### 2、wms-库存台账"
   ]
  },
  {
   "cell_type": "code",
   "execution_count": 1,
   "id": "313ebd93",
   "metadata": {
    "scrolled": true
   },
   "outputs": [
    {
     "name": "stderr",
     "output_type": "stream",
     "text": [
      "C:\\Users\\vip\\AppData\\Local\\Temp/ipykernel_17996/1473492332.py:26: DtypeWarning: Columns (62,64,65,66) have mixed types.Specify dtype option on import or set low_memory=False.\n",
      "  wms_warehouse(input_path,output_file)\n"
     ]
    }
   ],
   "source": [
    "import glob\n",
    "import pandas as pd \n",
    "import sys \n",
    "import os\n",
    "\n",
    "\n",
    "def wms_warehouse(input_path,output_file):\n",
    "    all_files = glob.glob(os.path.join(input_path,\"*.csv\"))\n",
    "    all_data_frames = []\n",
    "    for file in all_files:\n",
    "        data_frame = pd.read_csv(file,encoding=\"utf8\")\n",
    "        data_frame[\"filename\"] = os.path.basename(file)\n",
    "        data_frame[\"sum\"] = data_frame.loc[:,\"期末正品库存\"] + data_frame.loc[:,\"期末残次品库存\"]\n",
    "        data_frame = data_frame[data_frame[\"sum\"]>0]\n",
    "        all_data_frames.append(data_frame)\n",
    "    data_frame_concat = pd.concat(all_data_frames,axis = 0,ignore_index = True)\n",
    "    data_frame_concat.to_excel(output_file,encoding=\"utf8\")\n",
    "    \n",
    "\n",
    "# input_path = r\"D:\\我的坚果云\\Work  Share\\许程晨\\2、Raw Data\\8.0 库存台账 统计-库存-库存台账-展开更多-包含期间未发生库存变更商品\\2、wms\\4月_2022\"\n",
    "# output_file = r\"D:\\我的坚果云\\Work  Share\\许程晨\\2、Raw Data\\8.0 库存台账 统计-库存-库存台账-展开更多-包含期间未发生库存变更商品\\2、wms\\wms_warehouse_202204.xlsx\"\n",
    "\n",
    "\n",
    "output_file = r\"C:\\Users\\vip\\Documents\\我的坚果云\\Work  Share\\许程晨\\2、Raw Data\\8.0 库存台账 统计-库存-库存台账-展开更多-包含期间未发生库存变更商品\\2、wms\\5月_2022.xlsx\"\n",
    "input_path = r\"C:\\Users\\vip\\Documents\\我的坚果云\\Work  Share\\许程晨\\2、Raw Data\\8.0 库存台账 统计-库存-库存台账-展开更多-包含期间未发生库存变更商品\\2、wms\\5月_2022\"\n",
    "wms_warehouse(input_path,output_file)\n"
   ]
  },
  {
   "cell_type": "markdown",
   "id": "2066857b",
   "metadata": {},
   "source": [
    "##### 3、菜鸟-库存台账"
   ]
  },
  {
   "cell_type": "code",
   "execution_count": 9,
   "id": "300cfb6d",
   "metadata": {},
   "outputs": [
    {
     "name": "stderr",
     "output_type": "stream",
     "text": [
      "C:\\Users\\ChengChen Xu\\Anaconda3\\lib\\site-packages\\openpyxl\\styles\\stylesheet.py:226: UserWarning: Workbook contains no default style, apply openpyxl's default\n",
      "  warn(\"Workbook contains no default style, apply openpyxl's default\")\n"
     ]
    }
   ],
   "source": [
    "import glob\n",
    "import pandas as pd \n",
    "import sys \n",
    "import os \n",
    "# input_path = sys.argv[1]\n",
    "# output_path = sys.argv[2]\n",
    "\n",
    "\n",
    "def cainiao_warehouse(input_path,output_file):\n",
    "    all_files = glob.glob(os.path.join(input_path,\"*.xlsx\"))\n",
    "    all_data_frames = []\n",
    "    for file in all_files:\n",
    "        data_frame = pd.read_excel(file,sheet_name=\"Sheet0\")\n",
    "        data_frame[\"filename\"] = os.path.basename(file)\n",
    "        all_data_frames.append(data_frame)\n",
    "    data_frame_concat = pd.concat(all_data_frames,axis = 0,ignore_index = True)\n",
    "    data_frame_concat.to_excel(output_file,encoding=\"utf8\")\n",
    "\n",
    "\n",
    "input_path = r\"D:\\我的坚果云\\Work  Share\\许程晨\\2、Raw Data\\8.0 库存台账 统计-库存-库存台账-展开更多-包含期间未发生库存变更商品\\3、菜鸟协同仓仓储\\202204\"\n",
    "output_file = r\"D:\\我的坚果云\\Work  Share\\许程晨\\2、Raw Data\\8.0 库存台账 统计-库存-库存台账-展开更多-包含期间未发生库存变更商品\\3、菜鸟协同仓仓储\\cainiao_warehouse_202204.xlsx\"\n",
    "\n",
    "cainiao_warehouse(input_path,output_file)"
   ]
  }
 ],
 "metadata": {
  "kernelspec": {
   "display_name": "Python 3 (ipykernel)",
   "language": "python",
   "name": "python3"
  },
  "language_info": {
   "codemirror_mode": {
    "name": "ipython",
    "version": 3
   },
   "file_extension": ".py",
   "mimetype": "text/x-python",
   "name": "python",
   "nbconvert_exporter": "python",
   "pygments_lexer": "ipython3",
   "version": "3.9.7"
  }
 },
 "nbformat": 4,
 "nbformat_minor": 5
}
