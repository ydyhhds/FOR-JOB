{
 "cells": [
  {
   "cell_type": "markdown",
   "id": "3c63edfc",
   "metadata": {},
   "source": [
    "# 0.1 导入库"
   ]
  },
  {
   "cell_type": "code",
   "execution_count": 1,
   "id": "6b97d738",
   "metadata": {},
   "outputs": [],
   "source": [
    "import numpy as np"
   ]
  },
  {
   "cell_type": "code",
   "execution_count": 2,
   "id": "621e3aaa",
   "metadata": {},
   "outputs": [],
   "source": [
    "import pandas as pd"
   ]
  },
  {
   "cell_type": "markdown",
   "id": "d0e6f4af",
   "metadata": {},
   "source": [
    "# 1.1 路径1:erp-销售出库明细"
   ]
  },
  {
   "cell_type": "markdown",
   "id": "96566a40",
   "metadata": {},
   "source": [
    " <br>\n",
    " \n",
    " **tips ：每月修改`input_file`值，即可修改销售出库明细原始数据的路径。**"
   ]
  },
  {
   "cell_type": "code",
   "execution_count": 3,
   "id": "508eff43",
   "metadata": {},
   "outputs": [],
   "source": [
    "input_file = r\"D:\\我的坚果云\\Work  Share\\许程晨\\2、Raw Data\\2.0 erp-销售出库明细\\erp_销售出库明细_202204.csv\""
   ]
  },
  {
   "cell_type": "markdown",
   "id": "af83b48a",
   "metadata": {},
   "source": [
    "# 1.2 路径2:单品列表明细"
   ]
  },
  {
   "cell_type": "markdown",
   "id": "c6179cf2",
   "metadata": {},
   "source": [
    " <br>\n",
    " \n",
    " **tips ：每月修改`input_file2`值，即可修改调拨费明细原始数据的路径。**"
   ]
  },
  {
   "cell_type": "code",
   "execution_count": 5,
   "id": "e4c49ac7",
   "metadata": {},
   "outputs": [],
   "source": [
    "input_file2 = r\"D:\\我的坚果云\\Work  Share\\许程晨\\2、Raw Data\\10.0 单品列表\\单品列表_0407.csv\""
   ]
  },
  {
   "cell_type": "markdown",
   "id": "e13c981f",
   "metadata": {},
   "source": [
    "# 2.1 数据框1:erp-销售出库明细"
   ]
  },
  {
   "cell_type": "code",
   "execution_count": 7,
   "id": "1f5097e4",
   "metadata": {},
   "outputs": [
    {
     "data": {
      "text/plain": [
       "Index(['订单编号', '原始单号', '子单原始单号', '原始子订单号', '订单类型', '支付账号', '出库单编号', '仓库',\n",
       "       '仓库类型', '店铺', '出库单状态', '出库状态', '分拣序号', '商家编码', '货品编号', '货品名称', '货品简称',\n",
       "       '品牌', '分类', '规格码', '规格名称', '条形码', '货品数量', '货品原单价', '货品原总金额', '订单总优惠',\n",
       "       '邮费', '货品成交价', '货品成交总价', '货品总优惠', '货到付款金额', '货品成本', '货品总成本', '订单支付金额',\n",
       "       '应收金额', '退款前支付金额', '单品支付金额', '分摊邮费', '预估邮资', '邮资成本', '订单包装成本', '订单毛利',\n",
       "       '毛利率', '客户网名', '收件人', '证件号码', '收货地区', '收货地址', '收件人手机', '收件人电话', '物流公司',\n",
       "       '实际重量', '预估重量', '需开发票', '制单人', '打单员', '拣货员', '打包员', '检视员', '业务员', '验货员',\n",
       "       '打印波次', '物流单打印状态', '发货单打印状态', '分拣单打印状态', '物流单号', '分拣单编号', '外部单号',\n",
       "       '付款时间', '发货时间', '赠品方式', '买家留言', '客服备注', '打印备注', '备注', '包装', '来源组合装编码',\n",
       "       '拆自组合装', '来源组合装数量', '体积', '分销商', '下单时间', '审核时间', 'Unnamed: 83'],\n",
       "      dtype='object')"
      ]
     },
     "execution_count": 7,
     "metadata": {},
     "output_type": "execute_result"
    }
   ],
   "source": [
    "pd.read_csv(input_file,nrows=1).columns"
   ]
  },
  {
   "cell_type": "code",
   "execution_count": 6,
   "id": "071c421b",
   "metadata": {},
   "outputs": [],
   "source": [
    "use_cols = [\"仓库\",\"店铺\",\"付款时间\",\"发货时间\",\"订单编号\",\"出库单编号\",\n",
    "            \"物流单号\",\"原始单号\",\"商家编码\",\"规格名称\",\"品牌\",\"分类\",'货品数量']"
   ]
  },
  {
   "cell_type": "code",
   "execution_count": 10,
   "id": "7e02fd84",
   "metadata": {},
   "outputs": [
    {
     "name": "stderr",
     "output_type": "stream",
     "text": [
      "C:\\Users\\ChengChen Xu\\Anaconda3\\lib\\site-packages\\IPython\\core\\interactiveshell.py:3444: DtypeWarning: Columns (43) have mixed types.Specify dtype option on import or set low_memory=False.\n",
      "  exec(code_obj, self.user_global_ns, self.user_ns)\n"
     ]
    },
    {
     "data": {
      "text/html": [
       "<div>\n",
       "<style scoped>\n",
       "    .dataframe tbody tr th:only-of-type {\n",
       "        vertical-align: middle;\n",
       "    }\n",
       "\n",
       "    .dataframe tbody tr th {\n",
       "        vertical-align: top;\n",
       "    }\n",
       "\n",
       "    .dataframe thead th {\n",
       "        text-align: right;\n",
       "    }\n",
       "</style>\n",
       "<table border=\"1\" class=\"dataframe\">\n",
       "  <thead>\n",
       "    <tr style=\"text-align: right;\">\n",
       "      <th></th>\n",
       "      <th>订单编号</th>\n",
       "      <th>原始单号</th>\n",
       "      <th>出库单编号</th>\n",
       "      <th>仓库</th>\n",
       "      <th>店铺</th>\n",
       "      <th>商家编码</th>\n",
       "      <th>品牌</th>\n",
       "      <th>分类</th>\n",
       "      <th>规格名称</th>\n",
       "      <th>货品数量</th>\n",
       "      <th>客户网名</th>\n",
       "      <th>收货地区</th>\n",
       "      <th>物流公司</th>\n",
       "      <th>实际重量</th>\n",
       "      <th>预估重量</th>\n",
       "      <th>物流单号</th>\n",
       "      <th>付款时间</th>\n",
       "      <th>发货时间</th>\n",
       "      <th>客服备注</th>\n",
       "      <th>包装</th>\n",
       "    </tr>\n",
       "  </thead>\n",
       "  <tbody>\n",
       "    <tr>\n",
       "      <th>0</th>\n",
       "      <td>JY2022043011112</td>\n",
       "      <td>=\"2604614725982213159\"</td>\n",
       "      <td>CK2022043018748</td>\n",
       "      <td>华南广州标准7号仓-菜鸟百威</td>\n",
       "      <td>franziskaner旗舰店</td>\n",
       "      <td>BW000535</td>\n",
       "      <td>范佳乐</td>\n",
       "      <td>啤酒</td>\n",
       "      <td>范佳乐小麦11.8度500ML1X12纸箱听装（12听）</td>\n",
       "      <td>3.0</td>\n",
       "      <td>NaN</td>\n",
       "      <td>广东省 江门市 鹤山市</td>\n",
       "      <td>丹鸟-小家电</td>\n",
       "      <td>6.50</td>\n",
       "      <td>26.000</td>\n",
       "      <td>=\"611329539368638\"</td>\n",
       "      <td>2022-04-30 17:55:58</td>\n",
       "      <td>2022-04-30 19:00:05</td>\n",
       "      <td>NaN</td>\n",
       "      <td>无</td>\n",
       "    </tr>\n",
       "    <tr>\n",
       "      <th>1</th>\n",
       "      <td>JY2022043011112</td>\n",
       "      <td>=\"2604614725982213159\"</td>\n",
       "      <td>CK2022043018748</td>\n",
       "      <td>华南广州标准7号仓-菜鸟百威</td>\n",
       "      <td>franziskaner旗舰店</td>\n",
       "      <td>BW000535</td>\n",
       "      <td>范佳乐</td>\n",
       "      <td>啤酒</td>\n",
       "      <td>范佳乐小麦11.8度500ML1X12纸箱听装（12听）</td>\n",
       "      <td>1.0</td>\n",
       "      <td>NaN</td>\n",
       "      <td>广东省 江门市 鹤山市</td>\n",
       "      <td>丹鸟-小家电</td>\n",
       "      <td>6.50</td>\n",
       "      <td>26.000</td>\n",
       "      <td>=\"611329539368638\"</td>\n",
       "      <td>2022-04-30 17:55:58</td>\n",
       "      <td>2022-04-30 19:00:05</td>\n",
       "      <td>NaN</td>\n",
       "      <td>无</td>\n",
       "    </tr>\n",
       "    <tr>\n",
       "      <th>2</th>\n",
       "      <td>JY2022043010912</td>\n",
       "      <td>=\"2603548944916245556\"</td>\n",
       "      <td>CK2022043018747</td>\n",
       "      <td>华东嘉兴标准2号仓-菜鸟百威</td>\n",
       "      <td>百威啤酒官方旗舰店</td>\n",
       "      <td>BW000568</td>\n",
       "      <td>百威</td>\n",
       "      <td>啤酒</td>\n",
       "      <td>百威255ml*24听（24听）</td>\n",
       "      <td>1.0</td>\n",
       "      <td>NaN</td>\n",
       "      <td>浙江省 金华市 义乌市</td>\n",
       "      <td>丹鸟-小家电</td>\n",
       "      <td>9.60</td>\n",
       "      <td>35.588</td>\n",
       "      <td>=\"611329535943679\"</td>\n",
       "      <td>2022-04-30 17:37:45</td>\n",
       "      <td>2022-04-30 19:54:21</td>\n",
       "      <td>NaN</td>\n",
       "      <td>无</td>\n",
       "    </tr>\n",
       "    <tr>\n",
       "      <th>3</th>\n",
       "      <td>JY2022043010912</td>\n",
       "      <td>=\"2603548944916245556\"</td>\n",
       "      <td>CK2022043018747</td>\n",
       "      <td>华东嘉兴标准2号仓-菜鸟百威</td>\n",
       "      <td>百威啤酒官方旗舰店</td>\n",
       "      <td>BW001263</td>\n",
       "      <td>百威</td>\n",
       "      <td>啤酒</td>\n",
       "      <td>百威9.7度450ML5X4纸箱听装（整箱）</td>\n",
       "      <td>3.0</td>\n",
       "      <td>NaN</td>\n",
       "      <td>浙江省 金华市 义乌市</td>\n",
       "      <td>丹鸟-小家电</td>\n",
       "      <td>9.60</td>\n",
       "      <td>35.588</td>\n",
       "      <td>=\"611329535943679\"</td>\n",
       "      <td>2022-04-30 17:37:45</td>\n",
       "      <td>2022-04-30 19:54:21</td>\n",
       "      <td>NaN</td>\n",
       "      <td>无</td>\n",
       "    </tr>\n",
       "    <tr>\n",
       "      <th>4</th>\n",
       "      <td>JY2022043010884</td>\n",
       "      <td>=\"1553423341624049282\"</td>\n",
       "      <td>CK2022043018745</td>\n",
       "      <td>华南广州标准7号仓-菜鸟百威</td>\n",
       "      <td>哈尔滨啤酒旗舰店</td>\n",
       "      <td>BW000724</td>\n",
       "      <td>哈啤</td>\n",
       "      <td>啤酒</td>\n",
       "      <td>哈尔滨小麦王10度550ML1X20纸箱听装-经典电商超享装</td>\n",
       "      <td>1.0</td>\n",
       "      <td>NaN</td>\n",
       "      <td>广东省 深圳市 龙岗区</td>\n",
       "      <td>丹鸟-小家电</td>\n",
       "      <td>11.62</td>\n",
       "      <td>11.716</td>\n",
       "      <td>=\"611329537682478\"</td>\n",
       "      <td>2022-04-30 17:35:50</td>\n",
       "      <td>2022-04-30 19:00:05</td>\n",
       "      <td>NaN</td>\n",
       "      <td>无</td>\n",
       "    </tr>\n",
       "  </tbody>\n",
       "</table>\n",
       "</div>"
      ],
      "text/plain": [
       "              订单编号                    原始单号            出库单编号              仓库  \\\n",
       "0  JY2022043011112  =\"2604614725982213159\"  CK2022043018748  华南广州标准7号仓-菜鸟百威   \n",
       "1  JY2022043011112  =\"2604614725982213159\"  CK2022043018748  华南广州标准7号仓-菜鸟百威   \n",
       "2  JY2022043010912  =\"2603548944916245556\"  CK2022043018747  华东嘉兴标准2号仓-菜鸟百威   \n",
       "3  JY2022043010912  =\"2603548944916245556\"  CK2022043018747  华东嘉兴标准2号仓-菜鸟百威   \n",
       "4  JY2022043010884  =\"1553423341624049282\"  CK2022043018745  华南广州标准7号仓-菜鸟百威   \n",
       "\n",
       "                店铺      商家编码   品牌  分类                            规格名称  货品数量  \\\n",
       "0  franziskaner旗舰店  BW000535  范佳乐  啤酒    范佳乐小麦11.8度500ML1X12纸箱听装（12听）   3.0   \n",
       "1  franziskaner旗舰店  BW000535  范佳乐  啤酒    范佳乐小麦11.8度500ML1X12纸箱听装（12听）   1.0   \n",
       "2        百威啤酒官方旗舰店  BW000568   百威  啤酒                百威255ml*24听（24听）   1.0   \n",
       "3        百威啤酒官方旗舰店  BW001263   百威  啤酒          百威9.7度450ML5X4纸箱听装（整箱）   3.0   \n",
       "4         哈尔滨啤酒旗舰店  BW000724   哈啤  啤酒  哈尔滨小麦王10度550ML1X20纸箱听装-经典电商超享装   1.0   \n",
       "\n",
       "  客户网名         收货地区    物流公司   实际重量    预估重量                物流单号  \\\n",
       "0  NaN  广东省 江门市 鹤山市  丹鸟-小家电   6.50  26.000  =\"611329539368638\"   \n",
       "1  NaN  广东省 江门市 鹤山市  丹鸟-小家电   6.50  26.000  =\"611329539368638\"   \n",
       "2  NaN  浙江省 金华市 义乌市  丹鸟-小家电   9.60  35.588  =\"611329535943679\"   \n",
       "3  NaN  浙江省 金华市 义乌市  丹鸟-小家电   9.60  35.588  =\"611329535943679\"   \n",
       "4  NaN  广东省 深圳市 龙岗区  丹鸟-小家电  11.62  11.716  =\"611329537682478\"   \n",
       "\n",
       "                  付款时间                 发货时间 客服备注 包装  \n",
       "0  2022-04-30 17:55:58  2022-04-30 19:00:05  NaN  无  \n",
       "1  2022-04-30 17:55:58  2022-04-30 19:00:05  NaN  无  \n",
       "2  2022-04-30 17:37:45  2022-04-30 19:54:21  NaN  无  \n",
       "3  2022-04-30 17:37:45  2022-04-30 19:54:21  NaN  无  \n",
       "4  2022-04-30 17:35:50  2022-04-30 19:00:05  NaN  无  "
      ]
     },
     "execution_count": 10,
     "metadata": {},
     "output_type": "execute_result"
    }
   ],
   "source": [
    "# 改为csv\n",
    "df = pd.read_csv(input_file,usecols=[\"仓库\",\"店铺\",\"付款时间\",\"发货时间\",\"订单编号\",\"出库单编号\",\n",
    "                                     \"物流单号\",\"原始单号\",\"商家编码\",\"规格名称\",\"品牌\",\"分类\",\n",
    "                                     \"客户网名\",\"客服备注\",\"包装\",\"物流公司\",\"收货地区\",'货品数量',\n",
    "                                      '实际重量', '预估重量'])\n",
    "df[:5]"
   ]
  },
  {
   "cell_type": "code",
   "execution_count": 11,
   "id": "82da7705",
   "metadata": {},
   "outputs": [
    {
     "data": {
      "text/plain": [
       "(510731, 20)"
      ]
     },
     "execution_count": 11,
     "metadata": {},
     "output_type": "execute_result"
    }
   ],
   "source": [
    "df.shape"
   ]
  },
  {
   "cell_type": "code",
   "execution_count": 12,
   "id": "761ef4f8",
   "metadata": {},
   "outputs": [],
   "source": [
    "df = df.loc[~df[\"仓库\"].str.contains(\"标准\"),:]"
   ]
  },
  {
   "cell_type": "code",
   "execution_count": 13,
   "id": "75a99f69",
   "metadata": {},
   "outputs": [
    {
     "data": {
      "text/plain": [
       "(354024, 20)"
      ]
     },
     "execution_count": 13,
     "metadata": {},
     "output_type": "execute_result"
    }
   ],
   "source": [
    "df.shape"
   ]
  },
  {
   "cell_type": "code",
   "execution_count": 14,
   "id": "3d2dbbee",
   "metadata": {},
   "outputs": [
    {
     "data": {
      "text/html": [
       "<div>\n",
       "<style scoped>\n",
       "    .dataframe tbody tr th:only-of-type {\n",
       "        vertical-align: middle;\n",
       "    }\n",
       "\n",
       "    .dataframe tbody tr th {\n",
       "        vertical-align: top;\n",
       "    }\n",
       "\n",
       "    .dataframe thead th {\n",
       "        text-align: right;\n",
       "    }\n",
       "</style>\n",
       "<table border=\"1\" class=\"dataframe\">\n",
       "  <thead>\n",
       "    <tr style=\"text-align: right;\">\n",
       "      <th></th>\n",
       "      <th>8</th>\n",
       "    </tr>\n",
       "  </thead>\n",
       "  <tbody>\n",
       "    <tr>\n",
       "      <th>订单编号</th>\n",
       "      <td>JY2022043011073</td>\n",
       "    </tr>\n",
       "    <tr>\n",
       "      <th>原始单号</th>\n",
       "      <td>SO2204300556713436523</td>\n",
       "    </tr>\n",
       "    <tr>\n",
       "      <th>出库单编号</th>\n",
       "      <td>CK2022043018726</td>\n",
       "    </tr>\n",
       "    <tr>\n",
       "      <th>仓库</th>\n",
       "      <td>云腾_武汉仓</td>\n",
       "    </tr>\n",
       "    <tr>\n",
       "      <th>店铺</th>\n",
       "      <td>酒水云集</td>\n",
       "    </tr>\n",
       "    <tr>\n",
       "      <th>商家编码</th>\n",
       "      <td>AXE00166</td>\n",
       "    </tr>\n",
       "    <tr>\n",
       "      <th>品牌</th>\n",
       "      <td>斧头牌</td>\n",
       "    </tr>\n",
       "    <tr>\n",
       "      <th>分类</th>\n",
       "      <td>洗洁精</td>\n",
       "    </tr>\n",
       "    <tr>\n",
       "      <th>规格名称</th>\n",
       "      <td>AXE柠檬护肤洗洁精1.01kg补x4+泵头x1（电商专供）</td>\n",
       "    </tr>\n",
       "    <tr>\n",
       "      <th>货品数量</th>\n",
       "      <td>1.0</td>\n",
       "    </tr>\n",
       "    <tr>\n",
       "      <th>客户网名</th>\n",
       "      <td>谭昕</td>\n",
       "    </tr>\n",
       "    <tr>\n",
       "      <th>收货地区</th>\n",
       "      <td>山东省 日照市 东港区</td>\n",
       "    </tr>\n",
       "    <tr>\n",
       "      <th>物流公司</th>\n",
       "      <td>圆通速递</td>\n",
       "    </tr>\n",
       "    <tr>\n",
       "      <th>实际重量</th>\n",
       "      <td>4.64</td>\n",
       "    </tr>\n",
       "    <tr>\n",
       "      <th>预估重量</th>\n",
       "      <td>4.673</td>\n",
       "    </tr>\n",
       "    <tr>\n",
       "      <th>物流单号</th>\n",
       "      <td>YT2215717607817</td>\n",
       "    </tr>\n",
       "    <tr>\n",
       "      <th>付款时间</th>\n",
       "      <td>2022-04-30 17:21:53</td>\n",
       "    </tr>\n",
       "    <tr>\n",
       "      <th>发货时间</th>\n",
       "      <td>2022-04-30 17:59:58</td>\n",
       "    </tr>\n",
       "    <tr>\n",
       "      <th>客服备注</th>\n",
       "      <td>NaN</td>\n",
       "    </tr>\n",
       "    <tr>\n",
       "      <th>包装</th>\n",
       "      <td>无</td>\n",
       "    </tr>\n",
       "  </tbody>\n",
       "</table>\n",
       "</div>"
      ],
      "text/plain": [
       "                                    8\n",
       "订单编号                  JY2022043011073\n",
       "原始单号            SO2204300556713436523\n",
       "出库单编号                 CK2022043018726\n",
       "仓库                             云腾_武汉仓\n",
       "店铺                               酒水云集\n",
       "商家编码                         AXE00166\n",
       "品牌                                斧头牌\n",
       "分类                                洗洁精\n",
       "规格名称   AXE柠檬护肤洗洁精1.01kg补x4+泵头x1（电商专供）\n",
       "货品数量                              1.0\n",
       "客户网名                               谭昕\n",
       "收货地区                      山东省 日照市 东港区\n",
       "物流公司                             圆通速递\n",
       "实际重量                             4.64\n",
       "预估重量                            4.673\n",
       "物流单号                  YT2215717607817\n",
       "付款时间              2022-04-30 17:21:53\n",
       "发货时间              2022-04-30 17:59:58\n",
       "客服备注                              NaN\n",
       "包装                                  无"
      ]
     },
     "execution_count": 14,
     "metadata": {},
     "output_type": "execute_result"
    }
   ],
   "source": [
    "df[:1].T"
   ]
  },
  {
   "cell_type": "markdown",
   "id": "0348c7fd",
   "metadata": {},
   "source": [
    "# 2.2 数据框2：单品列表(去重)"
   ]
  },
  {
   "cell_type": "code",
   "execution_count": 15,
   "id": "37fe23ad",
   "metadata": {},
   "outputs": [
    {
     "name": "stderr",
     "output_type": "stream",
     "text": [
      "C:\\Users\\ChengChen Xu\\Anaconda3\\lib\\site-packages\\IPython\\core\\interactiveshell.py:3444: DtypeWarning: Columns (30) have mixed types.Specify dtype option on import or set low_memory=False.\n",
      "  exec(code_obj, self.user_global_ns, self.user_ns)\n"
     ]
    }
   ],
   "source": [
    "df2 = pd.read_csv(input_file2)"
   ]
  },
  {
   "cell_type": "markdown",
   "id": "59ed000d",
   "metadata": {},
   "source": [
    "**tips:确保商家编码唯一值，`避免笛卡尔集`**"
   ]
  },
  {
   "cell_type": "code",
   "execution_count": 16,
   "id": "706c2bb4",
   "metadata": {},
   "outputs": [
    {
     "data": {
      "text/plain": [
       "True     23120\n",
       "False    12746\n",
       "dtype: int64"
      ]
     },
     "execution_count": 16,
     "metadata": {},
     "output_type": "execute_result"
    }
   ],
   "source": [
    "df2.duplicated(subset=[\"商家编码\"]).value_counts()"
   ]
  },
  {
   "cell_type": "code",
   "execution_count": 17,
   "id": "c84bb701",
   "metadata": {},
   "outputs": [],
   "source": [
    "df2.drop_duplicates(subset=[\"商家编码\"],inplace=True,ignore_index=True)\n",
    "\n",
    "df2 = df2.reindex(columns=[\"商家编码\",\"毛重\",\"体积\",\"每箱数量\",\"重/泡\"],fill_value=0)\n",
    "\n",
    "df2[\"重/泡\"] = df2[\"重/泡\"].map({\"泡\":\"泡货\",\"重\":\"重货\"})"
   ]
  },
  {
   "cell_type": "code",
   "execution_count": 18,
   "id": "5ac1ffe4",
   "metadata": {},
   "outputs": [
    {
     "data": {
      "text/plain": [
       "False    12746\n",
       "dtype: int64"
      ]
     },
     "execution_count": 18,
     "metadata": {},
     "output_type": "execute_result"
    }
   ],
   "source": [
    "df2.duplicated(subset=[\"商家编码\"]).value_counts()"
   ]
  },
  {
   "cell_type": "markdown",
   "id": "f3c8a932",
   "metadata": {},
   "source": [
    "# 3.1 df1销售出库明细 和 df2单品列表 合并(merge)"
   ]
  },
  {
   "cell_type": "code",
   "execution_count": 19,
   "id": "9a6c52c5",
   "metadata": {},
   "outputs": [
    {
     "data": {
      "text/html": [
       "<div>\n",
       "<style scoped>\n",
       "    .dataframe tbody tr th:only-of-type {\n",
       "        vertical-align: middle;\n",
       "    }\n",
       "\n",
       "    .dataframe tbody tr th {\n",
       "        vertical-align: top;\n",
       "    }\n",
       "\n",
       "    .dataframe thead th {\n",
       "        text-align: right;\n",
       "    }\n",
       "</style>\n",
       "<table border=\"1\" class=\"dataframe\">\n",
       "  <thead>\n",
       "    <tr style=\"text-align: right;\">\n",
       "      <th></th>\n",
       "      <th>订单编号</th>\n",
       "      <th>原始单号</th>\n",
       "      <th>出库单编号</th>\n",
       "      <th>仓库</th>\n",
       "      <th>店铺</th>\n",
       "      <th>商家编码</th>\n",
       "      <th>品牌</th>\n",
       "      <th>分类</th>\n",
       "      <th>规格名称</th>\n",
       "      <th>货品数量</th>\n",
       "      <th>...</th>\n",
       "      <th>预估重量</th>\n",
       "      <th>物流单号</th>\n",
       "      <th>付款时间</th>\n",
       "      <th>发货时间</th>\n",
       "      <th>客服备注</th>\n",
       "      <th>包装</th>\n",
       "      <th>毛重</th>\n",
       "      <th>体积</th>\n",
       "      <th>每箱数量</th>\n",
       "      <th>重/泡</th>\n",
       "    </tr>\n",
       "  </thead>\n",
       "  <tbody>\n",
       "    <tr>\n",
       "      <th>0</th>\n",
       "      <td>JY2022043011073</td>\n",
       "      <td>SO2204300556713436523</td>\n",
       "      <td>CK2022043018726</td>\n",
       "      <td>云腾_武汉仓</td>\n",
       "      <td>酒水云集</td>\n",
       "      <td>AXE00166</td>\n",
       "      <td>斧头牌</td>\n",
       "      <td>洗洁精</td>\n",
       "      <td>AXE柠檬护肤洗洁精1.01kg补x4+泵头x1（电商专供）</td>\n",
       "      <td>1.0</td>\n",
       "      <td>...</td>\n",
       "      <td>4.673</td>\n",
       "      <td>YT2215717607817</td>\n",
       "      <td>2022-04-30 17:21:53</td>\n",
       "      <td>2022-04-30 17:59:58</td>\n",
       "      <td>NaN</td>\n",
       "      <td>无</td>\n",
       "      <td>4.673</td>\n",
       "      <td>8438.976</td>\n",
       "      <td>1.0</td>\n",
       "      <td>重货</td>\n",
       "    </tr>\n",
       "    <tr>\n",
       "      <th>1</th>\n",
       "      <td>JY2022043010847</td>\n",
       "      <td>SO2204300556713436198</td>\n",
       "      <td>CK2022043018616</td>\n",
       "      <td>云腾_武汉仓</td>\n",
       "      <td>酒水云集</td>\n",
       "      <td>AXE00033</td>\n",
       "      <td>斧头牌</td>\n",
       "      <td>洁厕液</td>\n",
       "      <td>斧头牌晶怡除菌洁厕液500g（1瓶）</td>\n",
       "      <td>5.0</td>\n",
       "      <td>...</td>\n",
       "      <td>2.825</td>\n",
       "      <td>YT2215724125511</td>\n",
       "      <td>2022-04-30 16:40:25</td>\n",
       "      <td>2022-04-30 17:58:06</td>\n",
       "      <td>NaN</td>\n",
       "      <td>无</td>\n",
       "      <td>0.565</td>\n",
       "      <td>1110.168</td>\n",
       "      <td>12.0</td>\n",
       "      <td>重货</td>\n",
       "    </tr>\n",
       "    <tr>\n",
       "      <th>2</th>\n",
       "      <td>JY2022043010502</td>\n",
       "      <td>SO2204300556713429829</td>\n",
       "      <td>CK2022043018452</td>\n",
       "      <td>云腾_武汉仓</td>\n",
       "      <td>酒水云集</td>\n",
       "      <td>AXE00166</td>\n",
       "      <td>斧头牌</td>\n",
       "      <td>洗洁精</td>\n",
       "      <td>AXE柠檬护肤洗洁精1.01kg补x4+泵头x1（电商专供）</td>\n",
       "      <td>1.0</td>\n",
       "      <td>...</td>\n",
       "      <td>4.673</td>\n",
       "      <td>=\"9759686139617\"</td>\n",
       "      <td>2022-04-30 16:30:32</td>\n",
       "      <td>2022-04-30 17:33:56</td>\n",
       "      <td>NaN</td>\n",
       "      <td>无</td>\n",
       "      <td>4.673</td>\n",
       "      <td>8438.976</td>\n",
       "      <td>1.0</td>\n",
       "      <td>重货</td>\n",
       "    </tr>\n",
       "    <tr>\n",
       "      <th>3</th>\n",
       "      <td>JY2022043010353</td>\n",
       "      <td>SO2204300556713430343</td>\n",
       "      <td>CK2022043018400</td>\n",
       "      <td>云腾_武汉仓</td>\n",
       "      <td>酒水云集</td>\n",
       "      <td>AXE00322</td>\n",
       "      <td>斧头牌</td>\n",
       "      <td>洗洁精</td>\n",
       "      <td>AXE西柚护肤洗洁精1.01kg补x4+泵头x1（4瓶）</td>\n",
       "      <td>1.0</td>\n",
       "      <td>...</td>\n",
       "      <td>0.000</td>\n",
       "      <td>YT2215722626384</td>\n",
       "      <td>2022-04-30 16:24:40</td>\n",
       "      <td>2022-04-30 17:33:41</td>\n",
       "      <td>NaN</td>\n",
       "      <td>无</td>\n",
       "      <td>NaN</td>\n",
       "      <td>NaN</td>\n",
       "      <td>NaN</td>\n",
       "      <td>NaN</td>\n",
       "    </tr>\n",
       "    <tr>\n",
       "      <th>4</th>\n",
       "      <td>JY202204304264</td>\n",
       "      <td>SO2204300556713384219</td>\n",
       "      <td>CK2022043018391</td>\n",
       "      <td>云腾_新疆仓</td>\n",
       "      <td>酒水云集</td>\n",
       "      <td>AXE00156</td>\n",
       "      <td>斧头牌</td>\n",
       "      <td>洗洁精</td>\n",
       "      <td>AXE西柚护肤洗洁精1.01kg补x4+泵头x1（4瓶）</td>\n",
       "      <td>1.0</td>\n",
       "      <td>...</td>\n",
       "      <td>4.650</td>\n",
       "      <td>=\"73181262866626\"</td>\n",
       "      <td>2022-04-30 09:51:11</td>\n",
       "      <td>2022-04-30 19:17:54</td>\n",
       "      <td>NaN</td>\n",
       "      <td>无</td>\n",
       "      <td>4.650</td>\n",
       "      <td>8467.200</td>\n",
       "      <td>1.0</td>\n",
       "      <td>重货</td>\n",
       "    </tr>\n",
       "    <tr>\n",
       "      <th>...</th>\n",
       "      <td>...</td>\n",
       "      <td>...</td>\n",
       "      <td>...</td>\n",
       "      <td>...</td>\n",
       "      <td>...</td>\n",
       "      <td>...</td>\n",
       "      <td>...</td>\n",
       "      <td>...</td>\n",
       "      <td>...</td>\n",
       "      <td>...</td>\n",
       "      <td>...</td>\n",
       "      <td>...</td>\n",
       "      <td>...</td>\n",
       "      <td>...</td>\n",
       "      <td>...</td>\n",
       "      <td>...</td>\n",
       "      <td>...</td>\n",
       "      <td>...</td>\n",
       "      <td>...</td>\n",
       "      <td>...</td>\n",
       "      <td>...</td>\n",
       "    </tr>\n",
       "    <tr>\n",
       "      <th>354019</th>\n",
       "      <td>JY202112039862</td>\n",
       "      <td>CO210622181753216228485-10</td>\n",
       "      <td>CK2021120313141</td>\n",
       "      <td>虚拟仓-天猫直送仓</td>\n",
       "      <td>天猫超市</td>\n",
       "      <td>TY000054</td>\n",
       "      <td>统一</td>\n",
       "      <td>饮料</td>\n",
       "      <td>统一 茶里王 台式乌龙茶 无糖茶 420ML*12瓶 整箱装</td>\n",
       "      <td>261.0</td>\n",
       "      <td>...</td>\n",
       "      <td>4067.610</td>\n",
       "      <td>NaN</td>\n",
       "      <td>2021-12-03 17:19:39</td>\n",
       "      <td>2022-04-27 13:09:21</td>\n",
       "      <td>PO210621115105227172509</td>\n",
       "      <td>无</td>\n",
       "      <td>5.800</td>\n",
       "      <td>9500.000</td>\n",
       "      <td>1.0</td>\n",
       "      <td>重货</td>\n",
       "    </tr>\n",
       "    <tr>\n",
       "      <th>354020</th>\n",
       "      <td>JY202112039863</td>\n",
       "      <td>CO210622184356216202637-10</td>\n",
       "      <td>CK2021120313140</td>\n",
       "      <td>虚拟仓-天猫直送仓</td>\n",
       "      <td>天猫超市</td>\n",
       "      <td>LC000003</td>\n",
       "      <td>统一</td>\n",
       "      <td>饮料</td>\n",
       "      <td>统一绿茶茉莉花味PET 500ml*15瓶（整箱）</td>\n",
       "      <td>813.0</td>\n",
       "      <td>...</td>\n",
       "      <td>6788.550</td>\n",
       "      <td>NaN</td>\n",
       "      <td>2021-12-03 17:19:39</td>\n",
       "      <td>2022-04-27 13:09:21</td>\n",
       "      <td>PO210621115108227200192</td>\n",
       "      <td>无</td>\n",
       "      <td>8.350</td>\n",
       "      <td>15435.000</td>\n",
       "      <td>1.0</td>\n",
       "      <td>重货</td>\n",
       "    </tr>\n",
       "    <tr>\n",
       "      <th>354021</th>\n",
       "      <td>JY2021120219906</td>\n",
       "      <td>线下分销-北京永侠20211202</td>\n",
       "      <td>CK2021120253460</td>\n",
       "      <td>虚拟仓-康之诚直发仓</td>\n",
       "      <td>线下分销-北京永侠</td>\n",
       "      <td>QCKF0001</td>\n",
       "      <td>雀巢咖啡</td>\n",
       "      <td>饮料</td>\n",
       "      <td>NaN</td>\n",
       "      <td>85.0</td>\n",
       "      <td>...</td>\n",
       "      <td>0.000</td>\n",
       "      <td>NaN</td>\n",
       "      <td>2021-12-02 17:16:17</td>\n",
       "      <td>2022-04-15 16:57:59</td>\n",
       "      <td>杜蕾斯-EKA-天猫超市</td>\n",
       "      <td>无</td>\n",
       "      <td>0.000</td>\n",
       "      <td>0.000</td>\n",
       "      <td>0.0</td>\n",
       "      <td>NaN</td>\n",
       "    </tr>\n",
       "    <tr>\n",
       "      <th>354022</th>\n",
       "      <td>JY2021110228853</td>\n",
       "      <td>线下分销-北京永侠2021113</td>\n",
       "      <td>CK2021110252257</td>\n",
       "      <td>虚拟仓-康之诚直发仓</td>\n",
       "      <td>线下分销-北京永侠</td>\n",
       "      <td>QCKF0001</td>\n",
       "      <td>雀巢咖啡</td>\n",
       "      <td>饮料</td>\n",
       "      <td>NaN</td>\n",
       "      <td>1500.0</td>\n",
       "      <td>...</td>\n",
       "      <td>0.000</td>\n",
       "      <td>NaN</td>\n",
       "      <td>2021-11-02 14:59:14</td>\n",
       "      <td>2022-04-15 16:57:59</td>\n",
       "      <td>线下分销-北京永侠2021113</td>\n",
       "      <td>无</td>\n",
       "      <td>0.000</td>\n",
       "      <td>0.000</td>\n",
       "      <td>0.0</td>\n",
       "      <td>NaN</td>\n",
       "    </tr>\n",
       "    <tr>\n",
       "      <th>354023</th>\n",
       "      <td>JY2021110228853</td>\n",
       "      <td>线下分销-北京永侠2021113</td>\n",
       "      <td>CK2021110252257</td>\n",
       "      <td>虚拟仓-康之诚直发仓</td>\n",
       "      <td>线下分销-北京永侠</td>\n",
       "      <td>QCKF0002</td>\n",
       "      <td>雀巢咖啡</td>\n",
       "      <td>饮料</td>\n",
       "      <td>NaN</td>\n",
       "      <td>1500.0</td>\n",
       "      <td>...</td>\n",
       "      <td>0.000</td>\n",
       "      <td>NaN</td>\n",
       "      <td>2021-11-02 14:59:14</td>\n",
       "      <td>2022-04-15 16:57:59</td>\n",
       "      <td>线下分销-北京永侠2021113</td>\n",
       "      <td>无</td>\n",
       "      <td>0.000</td>\n",
       "      <td>0.000</td>\n",
       "      <td>0.0</td>\n",
       "      <td>NaN</td>\n",
       "    </tr>\n",
       "  </tbody>\n",
       "</table>\n",
       "<p>354024 rows × 24 columns</p>\n",
       "</div>"
      ],
      "text/plain": [
       "                   订单编号                        原始单号            出库单编号  \\\n",
       "0       JY2022043011073       SO2204300556713436523  CK2022043018726   \n",
       "1       JY2022043010847       SO2204300556713436198  CK2022043018616   \n",
       "2       JY2022043010502       SO2204300556713429829  CK2022043018452   \n",
       "3       JY2022043010353       SO2204300556713430343  CK2022043018400   \n",
       "4        JY202204304264       SO2204300556713384219  CK2022043018391   \n",
       "...                 ...                         ...              ...   \n",
       "354019   JY202112039862  CO210622181753216228485-10  CK2021120313141   \n",
       "354020   JY202112039863  CO210622184356216202637-10  CK2021120313140   \n",
       "354021  JY2021120219906           线下分销-北京永侠20211202  CK2021120253460   \n",
       "354022  JY2021110228853            线下分销-北京永侠2021113  CK2021110252257   \n",
       "354023  JY2021110228853            线下分销-北京永侠2021113  CK2021110252257   \n",
       "\n",
       "                仓库         店铺      商家编码    品牌   分类  \\\n",
       "0           云腾_武汉仓       酒水云集  AXE00166   斧头牌  洗洁精   \n",
       "1           云腾_武汉仓       酒水云集  AXE00033   斧头牌  洁厕液   \n",
       "2           云腾_武汉仓       酒水云集  AXE00166   斧头牌  洗洁精   \n",
       "3           云腾_武汉仓       酒水云集  AXE00322   斧头牌  洗洁精   \n",
       "4           云腾_新疆仓       酒水云集  AXE00156   斧头牌  洗洁精   \n",
       "...            ...        ...       ...   ...  ...   \n",
       "354019   虚拟仓-天猫直送仓       天猫超市  TY000054    统一   饮料   \n",
       "354020   虚拟仓-天猫直送仓       天猫超市  LC000003    统一   饮料   \n",
       "354021  虚拟仓-康之诚直发仓  线下分销-北京永侠  QCKF0001  雀巢咖啡   饮料   \n",
       "354022  虚拟仓-康之诚直发仓  线下分销-北京永侠  QCKF0001  雀巢咖啡   饮料   \n",
       "354023  虚拟仓-康之诚直发仓  线下分销-北京永侠  QCKF0002  雀巢咖啡   饮料   \n",
       "\n",
       "                                  规格名称    货品数量  ...      预估重量  \\\n",
       "0       AXE柠檬护肤洗洁精1.01kg补x4+泵头x1（电商专供）     1.0  ...     4.673   \n",
       "1                   斧头牌晶怡除菌洁厕液500g（1瓶）     5.0  ...     2.825   \n",
       "2       AXE柠檬护肤洗洁精1.01kg补x4+泵头x1（电商专供）     1.0  ...     4.673   \n",
       "3         AXE西柚护肤洗洁精1.01kg补x4+泵头x1（4瓶）     1.0  ...     0.000   \n",
       "4         AXE西柚护肤洗洁精1.01kg补x4+泵头x1（4瓶）     1.0  ...     4.650   \n",
       "...                                ...     ...  ...       ...   \n",
       "354019  统一 茶里王 台式乌龙茶 无糖茶 420ML*12瓶 整箱装   261.0  ...  4067.610   \n",
       "354020       统一绿茶茉莉花味PET 500ml*15瓶（整箱）   813.0  ...  6788.550   \n",
       "354021                             NaN    85.0  ...     0.000   \n",
       "354022                             NaN  1500.0  ...     0.000   \n",
       "354023                             NaN  1500.0  ...     0.000   \n",
       "\n",
       "                     物流单号                 付款时间                 发货时间  \\\n",
       "0         YT2215717607817  2022-04-30 17:21:53  2022-04-30 17:59:58   \n",
       "1         YT2215724125511  2022-04-30 16:40:25  2022-04-30 17:58:06   \n",
       "2        =\"9759686139617\"  2022-04-30 16:30:32  2022-04-30 17:33:56   \n",
       "3         YT2215722626384  2022-04-30 16:24:40  2022-04-30 17:33:41   \n",
       "4       =\"73181262866626\"  2022-04-30 09:51:11  2022-04-30 19:17:54   \n",
       "...                   ...                  ...                  ...   \n",
       "354019                NaN  2021-12-03 17:19:39  2022-04-27 13:09:21   \n",
       "354020                NaN  2021-12-03 17:19:39  2022-04-27 13:09:21   \n",
       "354021                NaN  2021-12-02 17:16:17  2022-04-15 16:57:59   \n",
       "354022                NaN  2021-11-02 14:59:14  2022-04-15 16:57:59   \n",
       "354023                NaN  2021-11-02 14:59:14  2022-04-15 16:57:59   \n",
       "\n",
       "                           客服备注 包装     毛重         体积  每箱数量  重/泡  \n",
       "0                           NaN  无  4.673   8438.976   1.0   重货  \n",
       "1                           NaN  无  0.565   1110.168  12.0   重货  \n",
       "2                           NaN  无  4.673   8438.976   1.0   重货  \n",
       "3                           NaN  无    NaN        NaN   NaN  NaN  \n",
       "4                           NaN  无  4.650   8467.200   1.0   重货  \n",
       "...                         ... ..    ...        ...   ...  ...  \n",
       "354019  PO210621115105227172509  无  5.800   9500.000   1.0   重货  \n",
       "354020  PO210621115108227200192  无  8.350  15435.000   1.0   重货  \n",
       "354021             杜蕾斯-EKA-天猫超市  无  0.000      0.000   0.0  NaN  \n",
       "354022         线下分销-北京永侠2021113  无  0.000      0.000   0.0  NaN  \n",
       "354023         线下分销-北京永侠2021113  无  0.000      0.000   0.0  NaN  \n",
       "\n",
       "[354024 rows x 24 columns]"
      ]
     },
     "execution_count": 19,
     "metadata": {},
     "output_type": "execute_result"
    }
   ],
   "source": [
    "df1_left_merge_df2 = pd.merge(df,df2,on=\"商家编码\",how=\"left\")\n",
    "\n",
    "df1_left_merge_df2"
   ]
  },
  {
   "cell_type": "code",
   "execution_count": 20,
   "id": "584d017a",
   "metadata": {},
   "outputs": [],
   "source": [
    "df1_left_merge_df2[\"订单类型\"] = \"销售订单\"\n",
    "\n",
    "df1_left_merge_df2[\"箱数\"] = df1_left_merge_df2[\"货品数量\"]/df1_left_merge_df2[\"每箱数量\"]\n",
    "df1_left_merge_df2[\"体积\"] = df1_left_merge_df2[\"体积\"]/1000000\n",
    "df1_left_merge_df2[\"总体积 (m³)\"] = df1_left_merge_df2[\"体积\"]*df1_left_merge_df2[\"货品数量\"]"
   ]
  },
  {
   "cell_type": "code",
   "execution_count": 21,
   "id": "031772dc",
   "metadata": {},
   "outputs": [],
   "source": [
    "df1_left_merge_df2 = df1_left_merge_df2.rename(columns={'仓库':\"仓库名称\",\"店铺\":\"店铺/货主\",\"订单类型\":\"订单类型\",\"付款时间\":\"订单日期\",\n",
    "                                   \"发货时间\":\"发货日期\",'订单编号':\"订单编号/包裹号\",\"出库单编号\":\"出库单号/销售订单编码\",\n",
    "                                   \"物流单号\":\"物流单号/运单号\",'原始单号':\"原始单号/外部订单号\",\"商家编码\":\"商家编码\",'规格名称':\"SKU\",\n",
    "                                   \"品牌\":\"品牌\",\"分类\":\"货品种类\",'货品数量':\"货品数量\",'每箱数量':\"箱规\",\"箱数\":\"箱数\",\n",
    "                                   '体积':\"单位体积 (m³)\",\"总体积 (m³)\":\"总体积 (m³)\",\"毛重\":\"单位重量 (kg)\",'实际重量':\"总重量 (kg)\",\n",
    "                                   '客户网名':'客户网名','客服备注':'客服备注','物流公司':'物流公司','收货地区':'收货地区','包装':\"包装\",'预估重量':\"预估重量\"})"
   ]
  },
  {
   "cell_type": "code",
   "execution_count": 22,
   "id": "76195b28",
   "metadata": {},
   "outputs": [
    {
     "data": {
      "text/plain": [
       "['仓库名称',\n",
       " '店铺/货主',\n",
       " '订单类型',\n",
       " '订单日期',\n",
       " '发货日期',\n",
       " '订单编号/包裹号',\n",
       " '出库单号/销售订单编码',\n",
       " '物流单号/运单号',\n",
       " '原始单号/外部订单号',\n",
       " '商家编码',\n",
       " 'SKU',\n",
       " '品牌',\n",
       " '货品种类',\n",
       " '货品数量',\n",
       " '箱规',\n",
       " '箱数',\n",
       " '单位体积 (m³)',\n",
       " '总体积 (m³)',\n",
       " '单位重量 (kg)',\n",
       " '总重量 (kg)',\n",
       " '客户网名',\n",
       " '客服备注',\n",
       " '物流公司',\n",
       " '收货地区',\n",
       " '包装']"
      ]
     },
     "execution_count": 22,
     "metadata": {},
     "output_type": "execute_result"
    }
   ],
   "source": [
    "columns = {'仓库':\"仓库名称\",\"店铺\":\"店铺/货主\",\"订单类型\":\"订单类型\",\"付款时间\":\"订单日期\",\n",
    "                                   \"发货时间\":\"发货日期\",'订单编号':\"订单编号/包裹号\",\"出库单编号\":\"出库单号/销售订单编码\",\n",
    "                                   \"物流单号\":\"物流单号/运单号\",'原始单号':\"原始单号/外部订单号\",\"商家编码\":\"商家编码\",'规格名称':\"SKU\",\n",
    "                                   \"品牌\":\"品牌\",\"分类\":\"货品种类\",'货品数量':\"货品数量\",'每箱数量':\"箱规\",\"箱数\":\"箱数\",\n",
    "                                   '体积':\"单位体积 (m³)\",\"总体积 (m³)\":\"总体积 (m³)\",\"毛重\":\"单位重量 (kg)\",\"总重量 (kg)\":\"总重量 (kg)\",\n",
    "                                   '客户网名':'客户网名','客服备注':'客服备注','物流公司':'物流公司','收货地区':'收货地区','包装':\"包装\"}\n",
    "columns = list(columns.values())\n",
    "columns"
   ]
  },
  {
   "cell_type": "code",
   "execution_count": 23,
   "id": "ca0fa5f0",
   "metadata": {},
   "outputs": [],
   "source": [
    "df1_left_merge_df2 = df1_left_merge_df2.reindex(columns=(columns))"
   ]
  },
  {
   "cell_type": "code",
   "execution_count": 24,
   "id": "82e9f2eb",
   "metadata": {},
   "outputs": [
    {
     "data": {
      "text/plain": [
       "(354024, 25)"
      ]
     },
     "execution_count": 24,
     "metadata": {},
     "output_type": "execute_result"
    }
   ],
   "source": [
    "df1_left_merge_df2.shape"
   ]
  },
  {
   "cell_type": "markdown",
   "id": "f8279732",
   "metadata": {},
   "source": [
    "\n",
    "# 4.1 账单化输出"
   ]
  },
  {
   "cell_type": "markdown",
   "id": "778af4c1",
   "metadata": {},
   "source": [
    " <br>\n",
    " \n",
    " **tips ：每月修改`month_E`值，即可修改账单化文件输入路径。**"
   ]
  },
  {
   "cell_type": "code",
   "execution_count": 25,
   "id": "63671074",
   "metadata": {},
   "outputs": [],
   "source": [
    "month_E = \"apr\""
   ]
  },
  {
   "cell_type": "code",
   "execution_count": 27,
   "id": "cceff572",
   "metadata": {},
   "outputs": [],
   "source": [
    "output_file = r\"D:\\我的坚果云\\Work  Share\\许程晨\\4、In Process\\0、DL_Billing_许程晨\\202204\\erp_sales_mar{0}_2022billing.xlsx\".format(month_E)\n",
    "\n",
    "df1_left_merge_df2.to_excel(output_file)"
   ]
  },
  {
   "cell_type": "code",
   "execution_count": 28,
   "id": "2c0b541f",
   "metadata": {},
   "outputs": [],
   "source": [
    "df1_left_merge_df2.to_excel(r\"C:\\Users\\ChengChen Xu\\Desktop\\1.xlsx\")"
   ]
  },
  {
   "cell_type": "code",
   "execution_count": null,
   "id": "ce8cee9a",
   "metadata": {},
   "outputs": [],
   "source": []
  }
 ],
 "metadata": {
  "kernelspec": {
   "display_name": "Python 3 (ipykernel)",
   "language": "python",
   "name": "python3"
  },
  "language_info": {
   "codemirror_mode": {
    "name": "ipython",
    "version": 3
   },
   "file_extension": ".py",
   "mimetype": "text/x-python",
   "name": "python",
   "nbconvert_exporter": "python",
   "pygments_lexer": "ipython3",
   "version": "3.9.7"
  }
 },
 "nbformat": 4,
 "nbformat_minor": 5
}
