{
 "cells": [
  {
   "cell_type": "code",
   "execution_count": 20,
   "id": "b697a1f5",
   "metadata": {},
   "outputs": [],
   "source": [
    "def Tier(weight):\n",
    "    if weight > 3 :\n",
    "        Tier = \"X >3kg\"\n",
    "    elif weight > 2 :\n",
    "        Tier = \"X >2kg,≤3kg\"\n",
    "    elif weight > 3 :\n",
    "        Tier = \"X >1kg,≤2kg\"\n",
    "    elif weight > 2 :\n",
    "        Tier = \"X >0.5kg, ≤1kg\"\n",
    "    else :\n",
    "        Tier = \"X ≤0.5kg\"\n",
    "    return Tier"
   ]
  },
  {
   "cell_type": "code",
   "execution_count": null,
   "id": "4c22a901",
   "metadata": {},
   "outputs": [],
   "source": [
    "df[\"重量段\"] = df[\"预估重量\"].map(Tier)\n",
    "df[\"计费重量\"] = df[\"预估重量\"].map(math.ceil)"
   ]
  },
  {
   "cell_type": "code",
   "execution_count": null,
   "id": "b12995b8",
   "metadata": {},
   "outputs": [],
   "source": []
  },
  {
   "cell_type": "code",
   "execution_count": null,
   "id": "9704926c",
   "metadata": {},
   "outputs": [],
   "source": []
  },
  {
   "cell_type": "code",
   "execution_count": null,
   "id": "ff41f743",
   "metadata": {},
   "outputs": [],
   "source": []
  },
  {
   "cell_type": "markdown",
   "id": "9be18caa",
   "metadata": {},
   "source": [
    "##### 1、订单处理费_订单结构"
   ]
  },
  {
   "cell_type": "code",
   "execution_count": 17,
   "id": "4ac4f337",
   "metadata": {},
   "outputs": [],
   "source": [
    "input_path = r\"C:\\Users\\vip\\Desktop\\202107-202112\"\n",
    "input_file = r\"审计销售出库明细导出。。07.xlsx\""
   ]
  },
  {
   "cell_type": "code",
   "execution_count": 12,
   "id": "b5937d3e",
   "metadata": {},
   "outputs": [],
   "source": [
    "import os\n",
    "import pandas as pd\n",
    "import math\n",
    "import glob "
   ]
  },
  {
   "cell_type": "markdown",
   "id": "2c243f40",
   "metadata": {},
   "source": [
    "glob.glob(os.path.join(input_path,\"*.xlsx\"))\n",
    "\n",
    "data_frame = []\n",
    "for input_file in glob.glob(os.path.join(input_path,\"*.xlsx\")):\n",
    "    data = pd.read_excel(input_file)\n",
    "    data = data[data[\"期末库存\"]>0]\n",
    "    data[\"日期\"] = os.path.basename(input_file)\n",
    "    data_frame.append(data)\n",
    "    data_frame_concat = pd.concat(data_frame)\n",
    "    data_frame_concat.to_excel(output_file)\n",
    "    "
   ]
  },
  {
   "cell_type": "code",
   "execution_count": 43,
   "id": "d467f51a",
   "metadata": {},
   "outputs": [
    {
     "data": {
      "text/html": [
       "<div>\n",
       "<style scoped>\n",
       "    .dataframe tbody tr th:only-of-type {\n",
       "        vertical-align: middle;\n",
       "    }\n",
       "\n",
       "    .dataframe tbody tr th {\n",
       "        vertical-align: top;\n",
       "    }\n",
       "\n",
       "    .dataframe thead th {\n",
       "        text-align: right;\n",
       "    }\n",
       "</style>\n",
       "<table border=\"1\" class=\"dataframe\">\n",
       "  <thead>\n",
       "    <tr style=\"text-align: right;\">\n",
       "      <th></th>\n",
       "      <th>店铺名称</th>\n",
       "      <th>店铺编号</th>\n",
       "      <th>商家编码</th>\n",
       "      <th>品牌编码</th>\n",
       "      <th>品牌名称</th>\n",
       "      <th>规格名称</th>\n",
       "      <th>货品数量</th>\n",
       "      <th>订单支付金额</th>\n",
       "      <th>退款前支付金额</th>\n",
       "      <th>省份</th>\n",
       "      <th>...</th>\n",
       "      <th>物流公司编码</th>\n",
       "      <th>实际重量</th>\n",
       "      <th>预估重量</th>\n",
       "      <th>发货时间</th>\n",
       "      <th>体积</th>\n",
       "      <th>订单类型</th>\n",
       "      <th>仓库编号</th>\n",
       "      <th>仓库名称</th>\n",
       "      <th>订单编号</th>\n",
       "      <th>出库单编号</th>\n",
       "    </tr>\n",
       "  </thead>\n",
       "  <tbody>\n",
       "    <tr>\n",
       "      <th>0</th>\n",
       "      <td>荷美尔康智专卖店</td>\n",
       "      <td>DP0195</td>\n",
       "      <td>SHB00019</td>\n",
       "      <td>HMR01</td>\n",
       "      <td>荷美尔</td>\n",
       "      <td>（冷冻）荷美尔经典香煎培根120g（1包）</td>\n",
       "      <td>10</td>\n",
       "      <td>163.0</td>\n",
       "      <td>163.0</td>\n",
       "      <td>广东省</td>\n",
       "      <td>...</td>\n",
       "      <td>SF-LYTH</td>\n",
       "      <td>-</td>\n",
       "      <td>0.0</td>\n",
       "      <td>2021-10-01 08:09:04</td>\n",
       "      <td>-</td>\n",
       "      <td>网店销售</td>\n",
       "      <td>101</td>\n",
       "      <td>普冷广州仓库-康智-荷美尔</td>\n",
       "      <td>JY2021093011159</td>\n",
       "      <td>CK2021093013255</td>\n",
       "    </tr>\n",
       "    <tr>\n",
       "      <th>1</th>\n",
       "      <td>荷美尔康智专卖店</td>\n",
       "      <td>DP0195</td>\n",
       "      <td>SHB00019</td>\n",
       "      <td>HMR01</td>\n",
       "      <td>荷美尔</td>\n",
       "      <td>（冷冻）荷美尔经典香煎培根120g（1包）</td>\n",
       "      <td>5</td>\n",
       "      <td>70.2</td>\n",
       "      <td>70.2</td>\n",
       "      <td>广东省</td>\n",
       "      <td>...</td>\n",
       "      <td>SF-LYTH</td>\n",
       "      <td>-</td>\n",
       "      <td>0.0</td>\n",
       "      <td>2021-10-01 08:09:04</td>\n",
       "      <td>-</td>\n",
       "      <td>网店销售</td>\n",
       "      <td>101</td>\n",
       "      <td>普冷广州仓库-康智-荷美尔</td>\n",
       "      <td>JY202110011511</td>\n",
       "      <td>CK202110011468</td>\n",
       "    </tr>\n",
       "    <tr>\n",
       "      <th>2</th>\n",
       "      <td>vita维他旗舰店</td>\n",
       "      <td>DP0191</td>\n",
       "      <td>WTN00178</td>\n",
       "      <td>WTN</td>\n",
       "      <td>维他奶</td>\n",
       "      <td>维他奶 冰爽柠檬茶（250ML*6盒/组）*4组/箱</td>\n",
       "      <td>1</td>\n",
       "      <td>9.9</td>\n",
       "      <td>9.9</td>\n",
       "      <td>吉林省</td>\n",
       "      <td>...</td>\n",
       "      <td>DISTRIBUTOR_1732074</td>\n",
       "      <td>-</td>\n",
       "      <td>1.8</td>\n",
       "      <td>2021-10-01 08:11:06</td>\n",
       "      <td>-</td>\n",
       "      <td>网店销售</td>\n",
       "      <td>KZCSY004</td>\n",
       "      <td>菜鸟沈阳协同仓-维他奶</td>\n",
       "      <td>JY2021093013046</td>\n",
       "      <td>CK2021093015261</td>\n",
       "    </tr>\n",
       "    <tr>\n",
       "      <th>3</th>\n",
       "      <td>vita维他旗舰店</td>\n",
       "      <td>DP0191</td>\n",
       "      <td>WTN00178</td>\n",
       "      <td>WTN</td>\n",
       "      <td>维他奶</td>\n",
       "      <td>维他奶 冰爽柠檬茶（250ML*6盒/组）*4组/箱</td>\n",
       "      <td>1</td>\n",
       "      <td>9.9</td>\n",
       "      <td>9.9</td>\n",
       "      <td>辽宁省</td>\n",
       "      <td>...</td>\n",
       "      <td>DISTRIBUTOR_1732074</td>\n",
       "      <td>-</td>\n",
       "      <td>1.8</td>\n",
       "      <td>2021-10-01 08:11:36</td>\n",
       "      <td>-</td>\n",
       "      <td>网店销售</td>\n",
       "      <td>KZCSY004</td>\n",
       "      <td>菜鸟沈阳协同仓-维他奶</td>\n",
       "      <td>JY2021093015375</td>\n",
       "      <td>CK2021093016987</td>\n",
       "    </tr>\n",
       "    <tr>\n",
       "      <th>4</th>\n",
       "      <td>vita维他旗舰店</td>\n",
       "      <td>DP0191</td>\n",
       "      <td>WTN00178</td>\n",
       "      <td>WTN</td>\n",
       "      <td>维他奶</td>\n",
       "      <td>维他奶 冰爽柠檬茶（250ML*6盒/组）*4组/箱</td>\n",
       "      <td>1</td>\n",
       "      <td>9.9</td>\n",
       "      <td>9.9</td>\n",
       "      <td>吉林省</td>\n",
       "      <td>...</td>\n",
       "      <td>DISTRIBUTOR_1732074</td>\n",
       "      <td>-</td>\n",
       "      <td>1.8</td>\n",
       "      <td>2021-10-01 08:11:37</td>\n",
       "      <td>-</td>\n",
       "      <td>网店销售</td>\n",
       "      <td>KZCSY004</td>\n",
       "      <td>菜鸟沈阳协同仓-维他奶</td>\n",
       "      <td>JY2021093015287</td>\n",
       "      <td>CK2021093016925</td>\n",
       "    </tr>\n",
       "  </tbody>\n",
       "</table>\n",
       "<p>5 rows × 23 columns</p>\n",
       "</div>"
      ],
      "text/plain": [
       "        店铺名称    店铺编号      商家编码   品牌编码 品牌名称                        规格名称  货品数量  \\\n",
       "0   荷美尔康智专卖店  DP0195  SHB00019  HMR01  荷美尔       （冷冻）荷美尔经典香煎培根120g（1包）    10   \n",
       "1   荷美尔康智专卖店  DP0195  SHB00019  HMR01  荷美尔       （冷冻）荷美尔经典香煎培根120g（1包）     5   \n",
       "2  vita维他旗舰店  DP0191  WTN00178    WTN  维他奶  维他奶 冰爽柠檬茶（250ML*6盒/组）*4组/箱     1   \n",
       "3  vita维他旗舰店  DP0191  WTN00178    WTN  维他奶  维他奶 冰爽柠檬茶（250ML*6盒/组）*4组/箱     1   \n",
       "4  vita维他旗舰店  DP0191  WTN00178    WTN  维他奶  维他奶 冰爽柠檬茶（250ML*6盒/组）*4组/箱     1   \n",
       "\n",
       "   订单支付金额  退款前支付金额   省份  ...               物流公司编码 实际重量 预估重量  \\\n",
       "0   163.0    163.0  广东省  ...              SF-LYTH    -  0.0   \n",
       "1    70.2     70.2  广东省  ...              SF-LYTH    -  0.0   \n",
       "2     9.9      9.9  吉林省  ...  DISTRIBUTOR_1732074    -  1.8   \n",
       "3     9.9      9.9  辽宁省  ...  DISTRIBUTOR_1732074    -  1.8   \n",
       "4     9.9      9.9  吉林省  ...  DISTRIBUTOR_1732074    -  1.8   \n",
       "\n",
       "                 发货时间 体积  订单类型      仓库编号           仓库名称             订单编号  \\\n",
       "0 2021-10-01 08:09:04  -  网店销售       101  普冷广州仓库-康智-荷美尔  JY2021093011159   \n",
       "1 2021-10-01 08:09:04  -  网店销售       101  普冷广州仓库-康智-荷美尔   JY202110011511   \n",
       "2 2021-10-01 08:11:06  -  网店销售  KZCSY004    菜鸟沈阳协同仓-维他奶  JY2021093013046   \n",
       "3 2021-10-01 08:11:36  -  网店销售  KZCSY004    菜鸟沈阳协同仓-维他奶  JY2021093015375   \n",
       "4 2021-10-01 08:11:37  -  网店销售  KZCSY004    菜鸟沈阳协同仓-维他奶  JY2021093015287   \n",
       "\n",
       "             出库单编号  \n",
       "0  CK2021093013255  \n",
       "1   CK202110011468  \n",
       "2  CK2021093015261  \n",
       "3  CK2021093016987  \n",
       "4  CK2021093016925  \n",
       "\n",
       "[5 rows x 23 columns]"
      ]
     },
     "execution_count": 43,
     "metadata": {},
     "output_type": "execute_result"
    }
   ],
   "source": [
    "data = pd.read_excel(os.path.join(input_path,input_file),parse_dates=True)\n",
    "data[:5]"
   ]
  },
  {
   "cell_type": "code",
   "execution_count": 44,
   "id": "6407bb0c",
   "metadata": {},
   "outputs": [],
   "source": [
    "data = data[data[\"品牌名称\"]!=\"包材\"]\n",
    "data = data[data[\"品牌名称\"]!=\"的卢包材\"]"
   ]
  },
  {
   "cell_type": "code",
   "execution_count": 45,
   "id": "cca60340",
   "metadata": {},
   "outputs": [],
   "source": [
    "data[\"发货时间\"] = pd.to_datetime(data[\"发货时间\"])"
   ]
  },
  {
   "cell_type": "code",
   "execution_count": 50,
   "id": "e8e49ef8",
   "metadata": {},
   "outputs": [],
   "source": [
    "data = data.set_index(\"发货时间\",drop=False)"
   ]
  },
  {
   "cell_type": "code",
   "execution_count": 52,
   "id": "8344ec2f",
   "metadata": {},
   "outputs": [],
   "source": [
    "data[\"月份\"] = data.index.month"
   ]
  },
  {
   "cell_type": "code",
   "execution_count": 54,
   "id": "7b9d848f",
   "metadata": {},
   "outputs": [],
   "source": [
    "data_pivot = data.pivot_table(index=[\"月份\",\"店铺名称\",\"出库单编号\",\"品牌名称\"],values=\"货品数量\",aggfunc=\"sum\")"
   ]
  },
  {
   "cell_type": "code",
   "execution_count": 59,
   "id": "c5e45d0d",
   "metadata": {},
   "outputs": [],
   "source": [
    "all_dataframe = []\n",
    "all_data_frames.append(data_pivot)\n",
    "data_frame_concat = pd.concat(all_data_frames,axis = 0,ignore_index = True)\n",
    "data_frame_concat.to_excel(\"C:\\Users\\vip\\Desktop\\已处理\\订单处理费.xlsx\""
   ]
  },
  {
   "cell_type": "code",
   "execution_count": null,
   "id": "0c75f608",
   "metadata": {},
   "outputs": [],
   "source": []
  },
  {
   "cell_type": "code",
   "execution_count": null,
   "id": "7874af97",
   "metadata": {},
   "outputs": [],
   "source": []
  },
  {
   "cell_type": "code",
   "execution_count": null,
   "id": "3425400b",
   "metadata": {},
   "outputs": [],
   "source": []
  },
  {
   "cell_type": "code",
   "execution_count": null,
   "id": "6c65a6ad",
   "metadata": {},
   "outputs": [],
   "source": []
  }
 ],
 "metadata": {
  "kernelspec": {
   "display_name": "Python 3 (ipykernel)",
   "language": "python",
   "name": "python3"
  },
  "language_info": {
   "codemirror_mode": {
    "name": "ipython",
    "version": 3
   },
   "file_extension": ".py",
   "mimetype": "text/x-python",
   "name": "python",
   "nbconvert_exporter": "python",
   "pygments_lexer": "ipython3",
   "version": "3.9.7"
  }
 },
 "nbformat": 4,
 "nbformat_minor": 5
}
