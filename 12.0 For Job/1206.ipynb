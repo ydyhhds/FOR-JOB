{
 "cells": [
  {
   "cell_type": "markdown",
   "id": "301a9d42",
   "metadata": {},
   "source": [
    "##### 1206 的卢账单仓储费汇总"
   ]
  },
  {
   "cell_type": "code",
   "execution_count": null,
   "id": "e3132db8",
   "metadata": {},
   "outputs": [],
   "source": [
    "#  CSV "
   ]
  },
  {
   "cell_type": "code",
   "execution_count": 5,
   "id": "e4115088",
   "metadata": {},
   "outputs": [
    {
     "name": "stderr",
     "output_type": "stream",
     "text": [
      "C:\\Users\\vip\\anaconda3\\lib\\site-packages\\IPython\\core\\interactiveshell.py:3444: DtypeWarning: Columns (62,64,65,66) have mixed types.Specify dtype option on import or set low_memory=False.\n",
      "  exec(code_obj, self.user_global_ns, self.user_ns)\n",
      "C:\\Users\\vip\\anaconda3\\lib\\site-packages\\IPython\\core\\interactiveshell.py:3444: DtypeWarning: Columns (64,65,66) have mixed types.Specify dtype option on import or set low_memory=False.\n",
      "  exec(code_obj, self.user_global_ns, self.user_ns)\n"
     ]
    }
   ],
   "source": [
    "# 1、WMS-Warehouse 合并\n",
    "import glob\n",
    "import pandas as pd \n",
    "import sys \n",
    "import os \n",
    "# input_path = sys.argv[1]\n",
    "# output_path = sys.argv[2]\n",
    "input_path = r\"C:\\Users\\vip\\Documents\\我的坚果云\\Work  Share\\许程晨\\2、Raw Data\\8.0 库存台账 统计-库存-库存台账-展开更多-包含期间未发生库存变更商品\\2、wms\\2月_2022\"\n",
    "output_file = r\"C:\\Users\\vip\\Documents\\我的坚果云\\Work  Share\\许程晨\\2、Raw Data\\8.0 库存台账 统计-库存-库存台账-展开更多-包含期间未发生库存变更商品\\2、wms\\wms_warehouse_202202.xlsx\"\n",
    "all_files = glob.glob(os.path.join(input_path,\"*.csv\"))\n",
    "all_data_frames = []\n",
    "for file in all_files:\n",
    "    data_frame = pd.read_csv(file,encoding=\"utf8\")\n",
    "    data_frame[\"filename\"] = os.path.basename(file)\n",
    "    data_frame[\"sum\"] = data_frame.loc[:,\"期末正品库存\"] + data_frame.loc[:,\"期末残次品库存\"]\n",
    "    data_frame = data_frame[data_frame[\"sum\"]>0]\n",
    "    all_data_frames.append(data_frame)\n",
    "data_frame_concat = pd.concat(all_data_frames,axis = 0,ignore_index = True)\n",
    "data_frame_concat.to_excel(output_file,encoding=\"utf8\")"
   ]
  },
  {
   "cell_type": "code",
   "execution_count": 7,
   "id": "6abd6fdc",
   "metadata": {
    "collapsed": true
   },
   "outputs": [
    {
     "ename": "ValueError",
     "evalue": "No objects to concatenate",
     "output_type": "error",
     "traceback": [
      "\u001b[1;31m---------------------------------------------------------------------------\u001b[0m",
      "\u001b[1;31mValueError\u001b[0m                                Traceback (most recent call last)",
      "\u001b[1;32mC:\\Users\\CHENGC~1\\AppData\\Local\\Temp/ipykernel_4084/2843198008.py\u001b[0m in \u001b[0;36m<module>\u001b[1;34m\u001b[0m\n\u001b[0;32m     14\u001b[0m     \u001b[0mdata_frame\u001b[0m\u001b[1;33m[\u001b[0m\u001b[1;34m\"filename\"\u001b[0m\u001b[1;33m]\u001b[0m \u001b[1;33m=\u001b[0m \u001b[0mos\u001b[0m\u001b[1;33m.\u001b[0m\u001b[0mpath\u001b[0m\u001b[1;33m.\u001b[0m\u001b[0mbasename\u001b[0m\u001b[1;33m(\u001b[0m\u001b[0mfile\u001b[0m\u001b[1;33m)\u001b[0m\u001b[1;33m\u001b[0m\u001b[1;33m\u001b[0m\u001b[0m\n\u001b[0;32m     15\u001b[0m     \u001b[0mall_data_frames\u001b[0m\u001b[1;33m.\u001b[0m\u001b[0mappend\u001b[0m\u001b[1;33m(\u001b[0m\u001b[0mdata_frame\u001b[0m\u001b[1;33m)\u001b[0m\u001b[1;33m\u001b[0m\u001b[1;33m\u001b[0m\u001b[0m\n\u001b[1;32m---> 16\u001b[1;33m \u001b[0mdata_frame_concat\u001b[0m \u001b[1;33m=\u001b[0m \u001b[0mpd\u001b[0m\u001b[1;33m.\u001b[0m\u001b[0mconcat\u001b[0m\u001b[1;33m(\u001b[0m\u001b[0mall_data_frames\u001b[0m\u001b[1;33m,\u001b[0m\u001b[0maxis\u001b[0m \u001b[1;33m=\u001b[0m \u001b[1;36m0\u001b[0m\u001b[1;33m,\u001b[0m\u001b[0mignore_index\u001b[0m \u001b[1;33m=\u001b[0m \u001b[1;32mTrue\u001b[0m\u001b[1;33m)\u001b[0m\u001b[1;33m\u001b[0m\u001b[1;33m\u001b[0m\u001b[0m\n\u001b[0m\u001b[0;32m     17\u001b[0m \u001b[0mdata_frame_concat\u001b[0m\u001b[1;33m.\u001b[0m\u001b[0mto_excel\u001b[0m\u001b[1;33m(\u001b[0m\u001b[0moutput_file\u001b[0m\u001b[1;33m,\u001b[0m\u001b[0mencoding\u001b[0m\u001b[1;33m=\u001b[0m\u001b[1;34m\"utf8\"\u001b[0m\u001b[1;33m)\u001b[0m\u001b[1;33m\u001b[0m\u001b[1;33m\u001b[0m\u001b[0m\n",
      "\u001b[1;32m~\\Anaconda3\\lib\\site-packages\\pandas\\util\\_decorators.py\u001b[0m in \u001b[0;36mwrapper\u001b[1;34m(*args, **kwargs)\u001b[0m\n\u001b[0;32m    309\u001b[0m                     \u001b[0mstacklevel\u001b[0m\u001b[1;33m=\u001b[0m\u001b[0mstacklevel\u001b[0m\u001b[1;33m,\u001b[0m\u001b[1;33m\u001b[0m\u001b[1;33m\u001b[0m\u001b[0m\n\u001b[0;32m    310\u001b[0m                 )\n\u001b[1;32m--> 311\u001b[1;33m             \u001b[1;32mreturn\u001b[0m \u001b[0mfunc\u001b[0m\u001b[1;33m(\u001b[0m\u001b[1;33m*\u001b[0m\u001b[0margs\u001b[0m\u001b[1;33m,\u001b[0m \u001b[1;33m**\u001b[0m\u001b[0mkwargs\u001b[0m\u001b[1;33m)\u001b[0m\u001b[1;33m\u001b[0m\u001b[1;33m\u001b[0m\u001b[0m\n\u001b[0m\u001b[0;32m    312\u001b[0m \u001b[1;33m\u001b[0m\u001b[0m\n\u001b[0;32m    313\u001b[0m         \u001b[1;32mreturn\u001b[0m \u001b[0mwrapper\u001b[0m\u001b[1;33m\u001b[0m\u001b[1;33m\u001b[0m\u001b[0m\n",
      "\u001b[1;32m~\\Anaconda3\\lib\\site-packages\\pandas\\core\\reshape\\concat.py\u001b[0m in \u001b[0;36mconcat\u001b[1;34m(objs, axis, join, ignore_index, keys, levels, names, verify_integrity, sort, copy)\u001b[0m\n\u001b[0;32m    292\u001b[0m     \u001b[0mValueError\u001b[0m\u001b[1;33m:\u001b[0m \u001b[0mIndexes\u001b[0m \u001b[0mhave\u001b[0m \u001b[0moverlapping\u001b[0m \u001b[0mvalues\u001b[0m\u001b[1;33m:\u001b[0m \u001b[1;33m[\u001b[0m\u001b[1;34m'a'\u001b[0m\u001b[1;33m]\u001b[0m\u001b[1;33m\u001b[0m\u001b[1;33m\u001b[0m\u001b[0m\n\u001b[0;32m    293\u001b[0m     \"\"\"\n\u001b[1;32m--> 294\u001b[1;33m     op = _Concatenator(\n\u001b[0m\u001b[0;32m    295\u001b[0m         \u001b[0mobjs\u001b[0m\u001b[1;33m,\u001b[0m\u001b[1;33m\u001b[0m\u001b[1;33m\u001b[0m\u001b[0m\n\u001b[0;32m    296\u001b[0m         \u001b[0maxis\u001b[0m\u001b[1;33m=\u001b[0m\u001b[0maxis\u001b[0m\u001b[1;33m,\u001b[0m\u001b[1;33m\u001b[0m\u001b[1;33m\u001b[0m\u001b[0m\n",
      "\u001b[1;32m~\\Anaconda3\\lib\\site-packages\\pandas\\core\\reshape\\concat.py\u001b[0m in \u001b[0;36m__init__\u001b[1;34m(self, objs, axis, join, keys, levels, names, ignore_index, verify_integrity, copy, sort)\u001b[0m\n\u001b[0;32m    349\u001b[0m \u001b[1;33m\u001b[0m\u001b[0m\n\u001b[0;32m    350\u001b[0m         \u001b[1;32mif\u001b[0m \u001b[0mlen\u001b[0m\u001b[1;33m(\u001b[0m\u001b[0mobjs\u001b[0m\u001b[1;33m)\u001b[0m \u001b[1;33m==\u001b[0m \u001b[1;36m0\u001b[0m\u001b[1;33m:\u001b[0m\u001b[1;33m\u001b[0m\u001b[1;33m\u001b[0m\u001b[0m\n\u001b[1;32m--> 351\u001b[1;33m             \u001b[1;32mraise\u001b[0m \u001b[0mValueError\u001b[0m\u001b[1;33m(\u001b[0m\u001b[1;34m\"No objects to concatenate\"\u001b[0m\u001b[1;33m)\u001b[0m\u001b[1;33m\u001b[0m\u001b[1;33m\u001b[0m\u001b[0m\n\u001b[0m\u001b[0;32m    352\u001b[0m \u001b[1;33m\u001b[0m\u001b[0m\n\u001b[0;32m    353\u001b[0m         \u001b[1;32mif\u001b[0m \u001b[0mkeys\u001b[0m \u001b[1;32mis\u001b[0m \u001b[1;32mNone\u001b[0m\u001b[1;33m:\u001b[0m\u001b[1;33m\u001b[0m\u001b[1;33m\u001b[0m\u001b[0m\n",
      "\u001b[1;31mValueError\u001b[0m: No objects to concatenate"
     ]
    }
   ],
   "source": [
    "# 2、菜鸟-Warehouse 合并\n",
    "import glob\n",
    "import pandas as pd \n",
    "import sys \n",
    "import os \n",
    "# input_path = sys.argv[1]\n",
    "# output_path = sys.argv[2]\n",
    "input_path = r\"C:\\Users\\vip\\Documents\\我的坚果云\\Work  Share\\许程晨\\2、Raw Data\\8.0 库存台账 统计-库存-库存台账-展开更多-包含期间未发生库存变更商品\\3、菜鸟协同仓仓储\\202202\"\n",
    "output_file = r\"C:\\Users\\vip\\Documents\\我的坚果云\\Work  Share\\许程晨\\2、Raw Data\\8.0 库存台账 统计-库存-库存台账-展开更多-包含期间未发生库存变更商品\\3、菜鸟协同仓仓储\\cainiao_warehouse_202202.xlsx\"\n",
    "all_files = glob.glob(os.path.join(input_path,\"*.xlsx\"))\n",
    "all_data_frames = []\n",
    "for file in all_files:\n",
    "    data_frame = pd.read_excel(file,sheet_name=\"Sheet0\")\n",
    "    data_frame[\"filename\"] = os.path.basename(file)\n",
    "    all_data_frames.append(data_frame)\n",
    "data_frame_concat = pd.concat(all_data_frames,axis = 0,ignore_index = True)\n",
    "data_frame_concat.to_excel(output_file,encoding=\"utf8\")"
   ]
  },
  {
   "cell_type": "code",
   "execution_count": 12,
   "id": "74fbd7fb",
   "metadata": {},
   "outputs": [],
   "source": [
    "# 3、erp-Warehouse 合并\n",
    "import glob \n",
    "import pandas as pd\n",
    "import os\n",
    "data_frame = []\n",
    "input_path = r\"D:\\我的坚果云\\Work  Share\\许程晨\\2、Raw Data\\8.0 库存台账 统计-库存-库存台账-展开更多-包含期间未发生库存变更商品\\1、erp\\03月_2022年\"\n",
    "output_file = r\"D:\\我的坚果云\\Work  Share\\许程晨\\2、Raw Data\\8.0 库存台账 统计-库存-库存台账-展开更多-包含期间未发生库存变更商品\\1、erp\\erp_warehouse_202203.xlsx\"\n",
    "for input_file in glob.glob(os.path.join(input_path,\"*.csv\")):\n",
    "    data = pd.read_csv(input_file,encoding=\"gbk\")\n",
    "    data = data[data[\"期末库存\"]>0]\n",
    "    data[\"日期\"] = os.path.basename(input_file)\n",
    "    data_frame.append(data)\n",
    "data_frame_concat = pd.concat(data_frame)\n",
    "data_frame_concat.to_excel(output_file,encoding=\"gbk\")"
   ]
  },
  {
   "cell_type": "code",
   "execution_count": 6,
   "id": "1ec21db9",
   "metadata": {},
   "outputs": [],
   "source": [
    "# 4、金掌柜销售数据合并\n",
    "import glob\n",
    "import pandas as pd \n",
    "import sys \n",
    "import os \n",
    "# input_path = sys.argv[1]\n",
    "# output_path = sys.argv[2]\n",
    "input_path = r\"C:\\Users\\vip\\Documents\\我的坚果云\\Work  Share\\许程晨\\2、Raw Data\\1.0 金掌柜包裹导出---------------------路径 大宝 出库-包裹查询(新版)-包裹导出\\202202\"\n",
    "output_file = r\"C:\\Users\\vip\\Documents\\我的坚果云\\Work  Share\\许程晨\\2、Raw Data\\1.0 金掌柜包裹导出---------------------路径 大宝 出库-包裹查询(新版)-包裹导出\\dabao_sales_202202.xlsx\"\n",
    "all_files = glob.glob(os.path.join(input_path,\"*.csv\"))\n",
    "all_data_frames = []\n",
    "for file in all_files:\n",
    "    data_frame = pd.read_csv(file,encoding=\"utf8\")\n",
    "    data_frame[\"filename\"] = os.path.basename(file)\n",
    "    all_data_frames.append(data_frame)\n",
    "data_frame_concat = pd.concat(all_data_frames,axis = 0,ignore_index = True)\n",
    "data_frame_concat.to_excel(output_file,encoding=\"utf8\")"
   ]
  },
  {
   "cell_type": "markdown",
   "id": "dc117221",
   "metadata": {},
   "source": [
    "##### 1209 物流费用分摊合并"
   ]
  },
  {
   "cell_type": "code",
   "execution_count": 2,
   "id": "f183860d",
   "metadata": {},
   "outputs": [],
   "source": [
    "# 5、的卢账单 2.2合并\n",
    "import glob\n",
    "import pandas as pd \n",
    "import sys \n",
    "import os \n",
    "# input_path = sys.argv[1]\n",
    "# output_path = sys.argv[2]\n",
    "input_path = r\"C:\\Users\\vip\\Documents\\我的坚果云\\Work  Share\\许程晨\\5、Billing Summary\\1.0 DL\\未处理-Summary\\202201\\Others\"\n",
    "output_file = r\"C:\\Users\\vip\\Documents\\我的坚果云\\Work  Share\\许程晨\\5、Billing Summary\\1.0 DL\\未处理-Summary\\202201\\Others_2.2.xlsx\"\n",
    "all_files = glob.glob(os.path.join(input_path,\"*.xlsx\"))\n",
    "all_data_frames = []\n",
    "for file in all_files:\n",
    "    data_frame = pd.read_excel(file,sheet_name=\"2.2 订单处理费、快递费\")\n",
    "    data_frame[\"filename\"] = os.path.basename(file)\n",
    "    all_data_frames.append(data_frame)\n",
    "data_frame_concat = pd.concat(all_data_frames,axis = 0,ignore_index = True)\n",
    "data_frame_concat.to_excel(output_file,encoding=\"utf8\")"
   ]
  },
  {
   "cell_type": "code",
   "execution_count": 3,
   "id": "5ad1473a",
   "metadata": {},
   "outputs": [],
   "source": [
    "# 6、的卢账单 2.3合并\n",
    "import glob\n",
    "import pandas as pd \n",
    "import sys \n",
    "import os \n",
    "# input_path = sys.argv[1]\n",
    "# output_path = sys.argv[2]\n",
    "input_path = r\"C:\\Users\\vip\\Documents\\我的坚果云\\Work  Share\\许程晨\\5、Billing Summary\\1.0 DL\\未处理-Summary\\202201\\Others\"\n",
    "output_file = r\"C:\\Users\\vip\\Documents\\我的坚果云\\Work  Share\\许程晨\\5、Billing Summary\\1.0 DL\\未处理-Summary\\202201\\Others_2.3.xlsx\"\n",
    "all_files = glob.glob(os.path.join(input_path,\"*.xlsx\"))\n",
    "all_data_frames = []\n",
    "for file in all_files:\n",
    "    data_frame = pd.read_excel(file,sheet_name=\"2.3 运输费、改包费、贴码费、包材费\")\n",
    "    data_frame[\"filename\"] = os.path.basename(file)\n",
    "    all_data_frames.append(data_frame)\n",
    "data_frame_concat = pd.concat(all_data_frames,axis = 0,ignore_index = True)\n",
    "data_frame_concat.to_excel(output_file,encoding=\"utf8\")"
   ]
  },
  {
   "cell_type": "code",
   "execution_count": 1,
   "id": "d7697d29",
   "metadata": {},
   "outputs": [],
   "source": [
    "# 7、2.3 pvt\n",
    "# 1209---读入2.3，并命名为Delivery\n",
    "import pandas as pd \n",
    "Delivery = pd.read_excel(r\"C:\\Users\\vip\\Desktop\\2.2 & 2.3.xlsx\",sheet_name = \"Sheet1\",index_col =[0,1,2])\n",
    "Delivery.stack().to_excel(r\"C:\\Users\\vip\\Desktop\\2.3_Unstack.xlsx\")"
   ]
  },
  {
   "cell_type": "code",
   "execution_count": 2,
   "id": "0d67635f",
   "metadata": {},
   "outputs": [],
   "source": [
    "# 8、2.2 pvt\n",
    "# 1209---读入其他出库，并命名为其他出库\n",
    "Delivery = pd.read_excel(r\"C:\\Users\\vip\\Desktop\\2.2 & 2.3.xlsx\",sheet_name = \"Sheet2\",index_col =[0,1,2])\n",
    "Delivery.stack().to_excel(r\"C:\\Users\\vip\\Desktop\\2.2_Unstack.xlsx\")"
   ]
  },
  {
   "cell_type": "code",
   "execution_count": 3,
   "id": "07301d2f",
   "metadata": {},
   "outputs": [],
   "source": [
    "import glob\n",
    "import pandas as pd \n",
    "import sys \n",
    "import os \n",
    "# input_path = sys.argv[1]\n",
    "# output_path = sys.argv[2]\n",
    "input_path = r\"C:\\Users\\vip\\Desktop\\新建文件夹 (2)\"\n",
    "output_file = r\"C:\\Users\\vip\\Desktop\\新建文件夹 (2)\\2.2 订单处理费、快递费.xlsx\"\n",
    "all_files = glob.glob(os.path.join(input_path,\"*.xlsx\"))\n",
    "all_data_frames = []\n",
    "for file in all_files:\n",
    "    data_frame = pd.read_excel(file,sheet_name=\"2.2 订单处理费、快递费\")\n",
    "    data_frame[\"filename\"] = os.path.basename(file)\n",
    "    all_data_frames.append(data_frame)\n",
    "data_frame_concat = pd.concat(all_data_frames,axis = 0,ignore_index = True)\n",
    "data_frame_concat.to_excel(output_file,encoding=\"utf8\")"
   ]
  },
  {
   "cell_type": "code",
   "execution_count": 1,
   "id": "dbf859bd",
   "metadata": {},
   "outputs": [],
   "source": [
    "import glob\n",
    "import pandas as pd \n",
    "import sys \n",
    "import os \n",
    "# input_path = sys.argv[1]\n",
    "# output_path = sys.argv[2]\n",
    "input_path = r\"C:\\Users\\vip\\Desktop\\新建文件夹 (2)\"\n",
    "output_file = r\"C:\\Users\\vip\\Desktop\\2.3 运输费、改包费、贴码费、包材费.xlsx\"\n",
    "all_files = glob.glob(os.path.join(input_path,\"*.xlsx\"))\n",
    "all_data_frames = []\n",
    "for file in all_files:\n",
    "    data_frame = pd.read_excel(file,sheet_name=\"2.3 运输费、改包费、贴码费、包材费\")\n",
    "    data_frame[\"filename\"] = os.path.basename(file)\n",
    "    all_data_frames.append(data_frame)\n",
    "data_frame_concat = pd.concat(all_data_frames,axis = 0,ignore_index = True)\n",
    "data_frame_concat.to_excel(output_file,encoding=\"utf8\")"
   ]
  },
  {
   "cell_type": "code",
   "execution_count": 2,
   "id": "ce81eb6d",
   "metadata": {},
   "outputs": [],
   "source": [
    "# 1209 \n",
    "import pandas as pd "
   ]
  },
  {
   "cell_type": "code",
   "execution_count": null,
   "id": "3fcb416b",
   "metadata": {},
   "outputs": [],
   "source": [
    "# 1209---读入2.2，并命名为Last_Mile\n",
    "Last_Mile = pd.read_excel(\"2.2 & 2.3 Final.xlsx\",sheet_name = \"2.2\",index_col =[0,1,2])\n",
    "writer_last_mile = pd.ExcelWriter(\"Last_Mile.xlsx\")\n",
    "Last_Mile.stack().to_excel(writer_last_mile)\n",
    "writer_last_mile.save()"
   ]
  },
  {
   "cell_type": "code",
   "execution_count": 3,
   "id": "47b65544",
   "metadata": {},
   "outputs": [],
   "source": [
    "# 1209---读入2.3，并命名为Delivery\n",
    "Delivery = pd.read_excel(r\"C:\\Users\\vip\\Desktop\\2.3 pvt v2.0.xlsx\",sheet_name = \"Sheet1\",index_col =[0,1,2])\n",
    "writer_Delivery = pd.ExcelWriter(r\"C:\\users\\vip\\desktop\\Delivery1.xlsx\")\n",
    "Delivery.stack().to_excel(writer_Delivery)\n",
    "writer_Delivery.save()"
   ]
  },
  {
   "cell_type": "code",
   "execution_count": null,
   "id": "7dda482f",
   "metadata": {},
   "outputs": [],
   "source": [
    "# 1209---读入其他出库，并命名为其他出库\n",
    "Delivery = pd.read_excel(\"其他出库.xlsx\",sheet_name = \"Sheet1\",index_col =[0,1,2])\n",
    "writer_Delivery = pd.ExcelWriter(\"其他出库_format.xlsx\")\n",
    "Delivery.stack().to_excel(writer_Delivery)\n",
    "writer_Delivery.save()"
   ]
  },
  {
   "cell_type": "code",
   "execution_count": null,
   "id": "333fda6e",
   "metadata": {},
   "outputs": [],
   "source": [
    "# part1 \n",
    "import glob\n",
    "import pandas as pd \n",
    "import sys \n",
    "import os \n",
    "# input_path = sys.argv[1]\n",
    "# output_path = sys.argv[2]\n",
    "input_path = r\"【2021年1月】销售出库明细(wms)v1.0.csv\"\n",
    "data_frame = pd.read_csv(input_path,encoding=\"utf8\")\n",
    "data_frame = data_frame[data_frame[\"物流编号\"].str.contains(\"的卢供应商\")== False]\n"
   ]
  },
  {
   "cell_type": "code",
   "execution_count": null,
   "id": "c2469383",
   "metadata": {},
   "outputs": [],
   "source": [
    "data_frame.to_excel(\"1.xlsx\")"
   ]
  },
  {
   "cell_type": "code",
   "execution_count": null,
   "id": "1b758dab",
   "metadata": {},
   "outputs": [],
   "source": [
    "data_frame"
   ]
  },
  {
   "cell_type": "code",
   "execution_count": null,
   "id": "dafa11d5",
   "metadata": {},
   "outputs": [],
   "source": [
    "input_path = r\"【2021年1月】销售出库明细(wms)v1.0.csv\"\n",
    "data_frame = pd.read_csv(input_path,encoding=\"utf8\")\n",
    "data_frame = data_frame[data_frame[\"物流编号\"].str.contains(\"的卢供应商\")== False]"
   ]
  },
  {
   "cell_type": "markdown",
   "id": "d6f3e82b",
   "metadata": {},
   "source": [
    "##### 1210 百威啤酒官方旗舰店 ---菜鸟金掌柜账单合并"
   ]
  },
  {
   "cell_type": "code",
   "execution_count": 13,
   "id": "34cd8ce5",
   "metadata": {},
   "outputs": [
    {
     "name": "stderr",
     "output_type": "stream",
     "text": [
      "C:\\Users\\vip\\anaconda3\\lib\\site-packages\\IPython\\core\\interactiveshell.py:3444: DtypeWarning: Columns (20,22,24) have mixed types.Specify dtype option on import or set low_memory=False.\n",
      "  exec(code_obj, self.user_global_ns, self.user_ns)\n",
      "C:\\Users\\vip\\anaconda3\\lib\\site-packages\\IPython\\core\\interactiveshell.py:3444: DtypeWarning: Columns (20,22,24,28,50) have mixed types.Specify dtype option on import or set low_memory=False.\n",
      "  exec(code_obj, self.user_global_ns, self.user_ns)\n",
      "C:\\Users\\vip\\anaconda3\\lib\\site-packages\\IPython\\core\\interactiveshell.py:3444: DtypeWarning: Columns (20,22,24,28,32,50) have mixed types.Specify dtype option on import or set low_memory=False.\n",
      "  exec(code_obj, self.user_global_ns, self.user_ns)\n",
      "C:\\Users\\vip\\anaconda3\\lib\\site-packages\\IPython\\core\\interactiveshell.py:3444: DtypeWarning: Columns (1,4,19,20,21,22,24,26,28,31,32,36,41,42,43,44,45,46,50,65,71) have mixed types.Specify dtype option on import or set low_memory=False.\n",
      "  exec(code_obj, self.user_global_ns, self.user_ns)\n",
      "C:\\Users\\vip\\anaconda3\\lib\\site-packages\\IPython\\core\\interactiveshell.py:3444: DtypeWarning: Columns (20,21,22,24) have mixed types.Specify dtype option on import or set low_memory=False.\n",
      "  exec(code_obj, self.user_global_ns, self.user_ns)\n",
      "C:\\Users\\vip\\anaconda3\\lib\\site-packages\\IPython\\core\\interactiveshell.py:3444: DtypeWarning: Columns (20,21,22,24,28,32,50) have mixed types.Specify dtype option on import or set low_memory=False.\n",
      "  exec(code_obj, self.user_global_ns, self.user_ns)\n"
     ]
    }
   ],
   "source": [
    "# 表头\n",
    "import glob\n",
    "import pandas as pd \n",
    "import sys \n",
    "import os \n",
    "# input_path = sys.argv[1]\n",
    "# output_path = sys.argv[2]\n",
    "input_path = r\"C:\\Users\\vip\\Documents\\我的坚果云\\Work  Share\\许程晨\\5、Billing Summary\\10.0 菜鸟金掌柜\\新建文件夹\"\n",
    "output_file = r\"C:\\Users\\vip\\Documents\\我的坚果云\\Work  Share\\许程晨\\5、Billing Summary\\10.0 菜鸟金掌柜\\新建文件夹.xlsx\"\n",
    "all_files = glob.glob(os.path.join(input_path,\"*.csv\"))\n",
    "all_data_frames = []\n",
    "for file in all_files:\n",
    "    data_frame = pd.read_csv(file,encoding=\"gbk\")\n",
    "    data_frame[\"filename\"] = os.path.basename(file)\n",
    "    data_frame = data_frame[data_frame.loc[:,\"费用项\"] ==\"正向配送费\"]\n",
    "    all_data_frames.append(data_frame)\n",
    "data_frame_concat = pd.concat(all_data_frames,axis = 0,ignore_index = True)\n",
    "data_frame_concat.to_excel(output_file,encoding = \"gbk\")"
   ]
  },
  {
   "cell_type": "code",
   "execution_count": null,
   "id": "d63358a5",
   "metadata": {},
   "outputs": [],
   "source": [
    "# 0308表头\n",
    "import glob\n",
    "import pandas as pd \n",
    "import sys \n",
    "import os \n",
    "# input_path = sys.argv[1]\n",
    "# output_path = sys.argv[2]\n",
    "input_path = r\"C:\\Users\\vip\\Desktop\\新建文件夹 (2)\"\n",
    "output_file = r\"C:\\Users\\vip\\Desktop\\新建文件夹3.xlsx\"\n",
    "all_files = glob.glob(os.path.join(input_path,\"*.csv\"))\n",
    "all_data_frames = []\n",
    "for file in all_files:\n",
    "    data_frame = pd.read_csv(file,encoding=\"gbk\")\n",
    "    data_frame[\"filename\"] = os.path.basename(file)\n",
    "    data_frame = data_frame[data_frame.loc[:,\"费用项\"] ==\"正向配送费\"]\n",
    "    all_data_frames.append(data_frame)\n",
    "data_frame_concat = pd.concat(all_data_frames,axis = 0,ignore_index = True)\n",
    "data_frame_concat.to_excel(output_file,encoding = \"gbk\")"
   ]
  },
  {
   "cell_type": "code",
   "execution_count": null,
   "id": "5bb127d0",
   "metadata": {},
   "outputs": [],
   "source": [
    "# 正向配送费 & 协同\n",
    "import glob\n",
    "import pandas as pd \n",
    "import sys \n",
    "import os \n",
    "# input_path = sys.argv[1]\n",
    "# output_path = sys.argv[2]\n",
    "input_path = r\"C:\\Users\\vip\\Documents\\我的坚果云\\Work  Share\\许程晨\\2、Raw Data\\10.菜鸟金掌柜\\百威啤酒官方旗舰店\"\n",
    "output_file = r\"C:\\Users\\vip\\Documents\\我的坚果云\\Work  Share\\许程晨\\2、Raw Data\\10.菜鸟金掌柜\\Budweiser.xlsx\"\n",
    "all_files = glob.glob(os.path.join(input_path,\"*.csv\"))\n",
    "all_data_frames = []\n",
    "for file in all_files:\n",
    "    data_frame = pd.read_csv(file,encoding = \"gbk\")\n",
    "    data_frame[\"filename\"] = os.path.basename(file)\n",
    "    data_frame = data_frame[data_frame.loc[:,\"费用项\"].isnull() == False]\n",
    "    data_frame = data_frame[data_frame.loc[:,\"仓库名称\"].isnull() == False]\n",
    "    data_frame = data_frame[data_frame.loc[:,\"费用项\"].str.contains(\"正向配送费\")]\n",
    "    data_frame = data_frame[data_frame.loc[:,\"仓库名称\"].str.contains(\"协同\")]\n",
    "    all_data_frames.append(data_frame)\n",
    "data_frame_concat = pd.concat(all_data_frames,axis = 0,ignore_index = True)\n",
    "data_frame_concat.to_excel(output_file,encoding = \"gbk\")"
   ]
  },
  {
   "cell_type": "code",
   "execution_count": null,
   "id": "32f8a511",
   "metadata": {},
   "outputs": [],
   "source": [
    "# 1210 erp-滞销仓数据汇总(B&C)"
   ]
  },
  {
   "cell_type": "code",
   "execution_count": null,
   "id": "a4c38288",
   "metadata": {},
   "outputs": [],
   "source": [
    "# 正向配送费 & 协同\n",
    "import glob\n",
    "import pandas as pd \n",
    "import sys \n",
    "import os \n",
    "# input_path = sys.argv[1]\n",
    "# output_path = sys.argv[2]\n",
    "input_path = r\"C:\\Users\\vip\\Documents\\我的坚果云\\Work  Share\\许程晨\\2、Raw Data\\10.菜鸟金掌柜\\报废\"\n",
    "output_file = r\"C:\\Users\\vip\\Documents\\我的坚果云\\Work  Share\\许程晨\\2、Raw Data\\10.菜鸟金掌柜\\报废.xlsx\"\n",
    "all_files = glob.glob(os.path.join(input_path,\"*.xlsx\"))\n",
    "all_data_frames = []\n",
    "for file in all_files:\n",
    "    data_frame = pd.read_excel(file)\n",
    "    data_frame[\"filename\"] = os.path.basename(file)\n",
    "    data_frame = data_frame[data_frame.loc[:,\"仓库名称\"].isnull() == False]\n",
    "    data_frame = data_frame[data_frame.loc[:,\"仓库名称\"].str.contains(\"滞销\")]\n",
    "    all_data_frames.append(data_frame)\n",
    "data_frame_concat = pd.concat(all_data_frames,axis = 0,ignore_index = True)\n",
    "excel_writer = pd.ExcelWriter(output_file)\n",
    "data_frame_concat.to_excel(excel_writer)\n",
    "excel_writer.save()\n",
    "\n",
    "\n",
    "# Delivery = pd.read_excel(\"其他出库.xlsx\",sheet_name = \"Sheet1\",index_col =[0,1,2])\n",
    "# writer_Delivery = pd.ExcelWriter(\"其他出库_format.xlsx\")\n",
    "# Delivery.stack().to_excel(writer_Delivery)\n",
    "# writer_Delivery.save()"
   ]
  },
  {
   "cell_type": "code",
   "execution_count": null,
   "id": "478db876",
   "metadata": {},
   "outputs": [],
   "source": [
    "# 1215、合并多个CSV文件"
   ]
  },
  {
   "cell_type": "code",
   "execution_count": null,
   "id": "5ccfc029",
   "metadata": {},
   "outputs": [],
   "source": [
    "import pandas as pd \n",
    "import glob \n",
    "import os "
   ]
  },
  {
   "cell_type": "code",
   "execution_count": 2,
   "id": "550d0d6a",
   "metadata": {},
   "outputs": [],
   "source": [
    "os.chdir(r\"C:\\Users\\vip\\Documents\\我的坚果云\\Work  Share\\许程晨\\2、Raw Data\\2.0 erp-销售出库明细\\11月\")"
   ]
  },
  {
   "cell_type": "code",
   "execution_count": null,
   "id": "73f326d9",
   "metadata": {},
   "outputs": [],
   "source": [
    "data_frame = []\n",
    "out_file = r\"C:\\Users\\vip\\Documents\\我的坚果云\\Work  Share\\许程晨\\2、Raw Data\\10.菜鸟金掌柜\\合并.xlsx\"\n",
    "for input_file in glob.glob(os.path.join(os.getcwd(),\"*.csv\")):\n",
    "    data = pd.read_csv(input_file)\n",
    "    data_frame.append(data)\n",
    "data_frame_concat = pd.concat(data_frame)\n",
    "out_file_writer = pd.ExcelWriter(out_file)\n",
    "data_frame_concat.to_excel(out_file_writer,encoding=\"utf-8\")\n",
    "out_file_writer.save()"
   ]
  },
  {
   "cell_type": "markdown",
   "id": "192892e5",
   "metadata": {},
   "source": [
    "##### 1216、erp数据销售出库明细合并"
   ]
  },
  {
   "cell_type": "code",
   "execution_count": 1,
   "id": "2af59304",
   "metadata": {},
   "outputs": [],
   "source": [
    "import pandas as pd \n",
    "import os \n",
    "import glob \n"
   ]
  },
  {
   "cell_type": "code",
   "execution_count": null,
   "id": "b7c30638",
   "metadata": {},
   "outputs": [],
   "source": [
    "input_path = r\"C:\\Users\\vip\\Documents\\我的坚果云\\Work  Share\\许程晨\\2、Raw Data\\2.0 erp-销售出库明细\\11月\"\n",
    "output_file = r\"C:\\Users\\vip\\Documents\\我的坚果云\\Work  Share\\许程晨\\2、Raw Data\\2.0 erp-销售出库明细\\11月百威.xlsx\"\n",
    "glob(os.path.join(input_path,\"*.csv\"))"
   ]
  },
  {
   "cell_type": "code",
   "execution_count": null,
   "id": "16c77a6c",
   "metadata": {},
   "outputs": [],
   "source": [
    "data_frame = []\n",
    "for input_file in glob.glob(os.path.join(input_path,\"*.csv\")):\n",
    "    data = pd.read_csv(input_file)\n",
    "    data = data[data[\"品牌\"].isin([\"百威\",\"哈尔滨\",\"科罗娜\",\"鹅岛\",\"福佳\",\"健力士\",\"三宝乐\",\"范佳乐\",\"拳击猫\",\"蓝妹\",\"麦克斯\",\"玩啤客\",\"夏特思\",\"Karmeliet|卡麦利特,LEFFE|乐飞\",\"乐飞\",\"时代\"\n",
    ",\"哈啤\"])]\n",
    "    data_frame.append(data)\n",
    "data_frame_concat = pd.concat(data_frame)\n",
    "out_file_writer = pd.ExcelWriter(output_file)\n",
    "data_frame_concat.to_excel(out_file_writer,encoding=\"utf-8\")\n",
    "out_file_writer.save()"
   ]
  },
  {
   "cell_type": "code",
   "execution_count": null,
   "id": "f2296900",
   "metadata": {},
   "outputs": [],
   "source": [
    "data_frame = []\n",
    "for input_file in glob.glob(os.path.join(input_path,\"*.csv\")):\n",
    "    data = pd.read_csv(input_file)\n",
    "    data = data[data[\"品牌\"].isin([\"百威\",\"哈尔滨\",\"科罗娜\",\"鹅岛\",\"福佳\",\"健力士\",\"三宝乐\",\"范佳乐\",\"拳击猫\",\"蓝妹\",\"麦克斯\",\"玩啤客\",\"夏特思\",\"Karmeliet|卡麦利特,LEFFE|乐飞\",\"乐飞\",\"时代\"\n",
    ",\"哈啤\"])]\n",
    "    data.head()\n",
    "    data_frame.append(data)"
   ]
  },
  {
   "cell_type": "code",
   "execution_count": null,
   "id": "d9c8a876",
   "metadata": {},
   "outputs": [],
   "source": [
    "data = pd.read_excel(r\"C:\\Users\\vip\\Documents\\我的坚果云\\Work  Share\\许程晨\\2、Raw Data\\2.0 erp-销售出库明细\\11月\\1216_1.xlsx\")\n",
    "data = data[data[\"品牌\"].isin([\"百威\",\"哈尔滨\",\"科罗娜\",\"鹅岛\",\"福佳\",\"健力士\",\"三宝乐\",\"范佳乐\",\"拳击猫\",\"蓝妹\",\"麦克斯\",\"玩啤客\",\"夏特思\",\"Karmeliet|卡麦利特,LEFFE|乐飞\",\"乐飞\",\"时代\"\n",
    ",\"哈啤\"])]\n",
    "data_excelwriter = pd.ExcelWriter(r\"C:\\Users\\vip\\Documents\\我的坚果云\\Work  Share\\许程晨\\2、Raw Data\\2.0 erp-销售出库明细\\11月\\1216_1.xlsx\")\n",
    "data.to_excel(data_excelwriter)\n",
    "data_excelwriter.save()"
   ]
  },
  {
   "cell_type": "code",
   "execution_count": null,
   "id": "f7ff6500",
   "metadata": {},
   "outputs": [],
   "source": [
    "# 1217 "
   ]
  },
  {
   "cell_type": "code",
   "execution_count": 8,
   "id": "36e4bab2",
   "metadata": {},
   "outputs": [
    {
     "name": "stderr",
     "output_type": "stream",
     "text": [
      "C:\\Users\\vip\\anaconda3\\lib\\site-packages\\IPython\\core\\interactiveshell.py:3444: DtypeWarning: Columns (5,43,44,45,47,48,49,73,80) have mixed types.Specify dtype option on import or set low_memory=False.\n",
      "  exec(code_obj, self.user_global_ns, self.user_ns)\n",
      "C:\\Users\\vip\\anaconda3\\lib\\site-packages\\IPython\\core\\interactiveshell.py:3444: DtypeWarning: Columns (5,16,19,43,44,45,47,48,49,70,71,73,74) have mixed types.Specify dtype option on import or set low_memory=False.\n",
      "  exec(code_obj, self.user_global_ns, self.user_ns)\n"
     ]
    }
   ],
   "source": [
    "input_path = r\"C:\\Users\\vip\\Documents\\我的坚果云\\Work  Share\\许程晨\\2、Raw Data\\2.0 erp-销售出库明细\\12月\"\n",
    "output_file = r\"C:\\Users\\vip\\Documents\\我的坚果云\\Work  Share\\许程晨\\2、Raw Data\\2.0 erp-销售出库明细\\统一.xlsx\"\n",
    "data_frame = []\n",
    "for input_file in glob.glob(os.path.join(input_path,\"*.csv\")):\n",
    "    data = pd.read_csv(input_file,encoding=\"utf8\")\n",
    "    data = data[data[\"品牌\"].isin([\"统一\",\"爱夸\"])]\n",
    "    data_frame.append(data)\n",
    "data_frame_concat = pd.concat(data_frame)\n",
    "out_file_writer = pd.ExcelWriter(output_file)\n",
    "data_frame_concat.to_excel(out_file_writer,encoding=\"utf-8\")\n",
    "out_file_writer.save()"
   ]
  },
  {
   "cell_type": "code",
   "execution_count": 9,
   "id": "d0d28e4d",
   "metadata": {},
   "outputs": [],
   "source": [
    "os.chdir(r\"C:\\Users\\vip\\Documents\\我的坚果云\\Work  Share\\许程晨\\2、Raw Data\\2.1 wms-销售出库明细\\10-11月\") "
   ]
  },
  {
   "cell_type": "code",
   "execution_count": 5,
   "id": "55538053",
   "metadata": {},
   "outputs": [],
   "source": [
    "input_path=r\"C:\\Users\\vip\\Documents\\我的坚果云\\Work  Share\\许程晨\\2、Raw Data\\2.1 wms-销售出库明细\\1\"\n",
    "output_file = r\"C:\\Users\\vip\\Documents\\我的坚果云\\Work  Share\\许程晨\\2、Raw Data\\baili.xlsx\"\n",
    "data_frame = []\n",
    "for input_file in glob.glob(os.path.join(input_path,\"*.csv\")):\n",
    "    data = pd.read_csv(input_file)\n",
    "    data = data[data[\"品牌\"].isin(list)]\n",
    "    data_frame.append(data)\n",
    "data_frame_concat = pd.concat(data_frame)\n",
    "out_file_writer = pd.ExcelWriter(output_file)\n",
    "data_frame_concat.to_excel(out_file_writer,encoding=\"utf-8\")\n",
    "out_file_writer.save()"
   ]
  },
  {
   "cell_type": "code",
   "execution_count": 2,
   "id": "bc3cd965",
   "metadata": {},
   "outputs": [],
   "source": [
    "list = [\"百利\",\"帝亚吉欧\",\"翰格蓝爵\",\"尊尼获加\"]"
   ]
  },
  {
   "cell_type": "code",
   "execution_count": 15,
   "id": "d0200e80",
   "metadata": {},
   "outputs": [
    {
     "data": {
      "text/plain": [
       "['franziskaner旗舰店',\n",
       " '百威英博精酿啤酒旗舰店',\n",
       " 'Mikes旗舰店',\n",
       " '千摆渡旗舰店',\n",
       " '爱上威士忌精选',\n",
       " '奈森克林旗舰店',\n",
       " 'moccona旗舰店',\n",
       " '抖音小店-摩可纳咖啡旗舰店',\n",
       " '圣悠活旗舰店',\n",
       " '洋酒名品店',\n",
       " '抖音小店-康智酒类专营店',\n",
       " '考拉海购-康智酒类专营店',\n",
       " '拼多多-百岁山官方旗舰店',\n",
       " 'Provamel旗舰店',\n",
       " '京东pop-蜜纽康旗舰店',\n",
       " '京东自营-蜜纽康旗舰店',\n",
       " '快手小店-百威旗舰店',\n",
       " '抖音小店-斧头牌旗舰店',\n",
       " '社群品烜-圣悠活',\n",
       " '天猫-麦斯威尔旗舰店',\n",
       " '拼多多-人头马旗舰店',\n",
       " '金像牌旗舰店',\n",
       " '美玫牌旗舰店',\n",
       " '隆浩链食品专营店',\n",
       " 'manukahealth蜜纽康旗舰店',\n",
       " '拼多多-张裕白兰地旗舰店',\n",
       " '京东-雀巢优活水饮旗舰店',\n",
       " '南顺面粉店',\n",
       " '抖音小店-Dettol滴露康之信专卖店',\n",
       " '天猫国际直营-manukahealth蜜纽康旗舰店',\n",
       " '天猫国际直营-洋酒商家仓代销',\n",
       " '抖音-MAXWELL HOUSE麦斯威尔咖啡旗舰店',\n",
       " '天猫-Alpro旗舰店',\n",
       " '庄臣家庭清洁旗舰店',\n",
       " '团好货-庄臣旗舰店']"
      ]
     },
     "execution_count": 15,
     "metadata": {},
     "output_type": "execute_result"
    }
   ],
   "source": [
    "list"
   ]
  },
  {
   "cell_type": "code",
   "execution_count": 2,
   "id": "1aaa274f",
   "metadata": {},
   "outputs": [],
   "source": [
    "# 2022.01.13\n",
    "import glob \n",
    "import pandas as pd\n",
    "import os \n",
    "data_frame = []\n",
    "input_path = r\"C:\\Users\\vip\\Desktop\\1\"\n",
    "output_file = r\"C:\\Users\\vip\\Desktop\\库存台账_202112erpv1.2.xlsx\"\n",
    "for input_file in glob.glob(os.path.join(input_path,\"*.xlsx\")):\n",
    "    data = pd.read_excel(input_file)\n",
    "    data = data[data[\"期末库存\"]>0]\n",
    "    data[\"日期\"] = os.path.basename(input_file)\n",
    "    data_frame.append(data)\n",
    "data_frame_concat = pd.concat(data_frame)\n",
    "out_file_writer = pd.ExcelWriter(output_file)\n",
    "data_frame_concat.to_excel(out_file_writer,encoding=\"utf-8\")\n",
    "out_file_writer.save()"
   ]
  },
  {
   "cell_type": "code",
   "execution_count": 1,
   "id": "7cd9ee0e",
   "metadata": {},
   "outputs": [],
   "source": [
    "import glob \n",
    "import pandas as pd\n",
    "import os "
   ]
  },
  {
   "cell_type": "code",
   "execution_count": null,
   "id": "a203cd0b",
   "metadata": {},
   "outputs": [],
   "source": []
  }
 ],
 "metadata": {
  "kernelspec": {
   "display_name": "Python 3 (ipykernel)",
   "language": "python",
   "name": "python3"
  },
  "language_info": {
   "codemirror_mode": {
    "name": "ipython",
    "version": 3
   },
   "file_extension": ".py",
   "mimetype": "text/x-python",
   "name": "python",
   "nbconvert_exporter": "python",
   "pygments_lexer": "ipython3",
   "version": "3.9.7"
  }
 },
 "nbformat": 4,
 "nbformat_minor": 5
}
