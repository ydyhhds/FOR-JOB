{
 "cells": [
  {
   "cell_type": "code",
   "execution_count": 1,
   "id": "91e5b006",
   "metadata": {},
   "outputs": [],
   "source": [
    "#  To Be \n",
    "# 菜鸟协同仓"
   ]
  },
  {
   "cell_type": "code",
   "execution_count": 2,
   "id": "6da77349",
   "metadata": {},
   "outputs": [],
   "source": [
    "import pandas as pd\n",
    "import glob\n",
    "import os\n",
    "import re"
   ]
  },
  {
   "cell_type": "code",
   "execution_count": 4,
   "id": "992eeff4",
   "metadata": {},
   "outputs": [],
   "source": [
    "pd.options.display.max_rows = 100"
   ]
  },
  {
   "cell_type": "markdown",
   "id": "5791cae0",
   "metadata": {},
   "source": [
    "#### 1、菜鸟协同仓 物流费用分析"
   ]
  },
  {
   "cell_type": "markdown",
   "id": "7f4d2bc4",
   "metadata": {},
   "source": [
    "contents = []\n",
    "input_file = r\"D:\\我的坚果云\\Work  Share\\许程晨\\5、Billing Summary\\10.0 菜鸟金掌柜\\计费时间\\维他奶\"\n",
    "\n",
    "\n",
    "for input_path in glob.glob(os.path.join(input_file,\"*.csv\")):\n",
    "    frame = pd.read_csv(input_path,encoding=\"gbk\")\n",
    "    frame[\"filename\"] = os.path.basename(input_path)\n",
    "    contents.append(frame)\n",
    "all_data_concat = pd.concat(contents)\n",
    "\n",
    "# Order_Handing = all_data_concat[all_data_concat.]"
   ]
  },
  {
   "cell_type": "markdown",
   "id": "7d9f7238",
   "metadata": {},
   "source": [
    "all_data_concat.shape"
   ]
  },
  {
   "cell_type": "code",
   "execution_count": 4,
   "id": "ea8d96c7",
   "metadata": {},
   "outputs": [
    {
     "data": {
      "text/plain": [
       "Index(['单据编号', '原始业务主单号', '商家名称', '服务产品', '物流商品', '业务时间', '计费时间', '支付时间',\n",
       "       '费用项', '计费币种', '计费金额', '支付币种', '支付金额', '支付方式', '账单类型', '支付状态', '结算周期',\n",
       "       '结算账户', '支付流水号', '中文翻译', '数字公式', '调账原因', '订单SKU种类数量', 'ERP订单号',\n",
       "       '服务产品.1', '包材型号', '当季度存储计费月份数', '件型', 'erp单号', '正向物流宝订单号', '店铺名称',\n",
       "       '店铺ID', '交易订单号', '运单号', '仓库名称', 'CN订单SKU总重量(克)', '商品数量总和',\n",
       "       'CN订单SKU总体积(立方厘米)', '起始省', '起始市', '起始区', '目的省', '目的市', '目的区', '仓cp的编码',\n",
       "       '包裹总重量(克)', '原箱非原箱标', '单体防护方案编码', '商品数量', '包材数量', '商品ID', '周转天数',\n",
       "       '季度普通货品+赠品总库存周转天数', '泡重实重取大kg(重泡比4)', '订单SKU总体积包裹总计泡重8', '商品件数总和',\n",
       "       'DM单数量', 'CNSKU体积(立方厘米)', '主单公式翻译', '子单公式翻译', '整车/零担标', '调拨车型', '仓库类型',\n",
       "       '交易订单保价金额', '主单商品id', '主单商品名称', '配送包裹计费重量', '包裹运单号', '冷链配送时效标',\n",
       "       '包裹计费重量8000（克)', '无指令标', '签收运单抛重4000(kg)', '整车零担标CNBP', '顺丰包裹计费重量',\n",
       "       '冷链夏季包裹重量-商家-非上海', '商家月度普通货品+赠品总库存重量(含残次)', '货品运输单元体积(cm3)',\n",
       "       '非销售出库箱规拆零数', '非销售出库箱规整箱数', '冷链包裹重量g（按报价子类-WHC）',\n",
       "       'by仓类型月度“普通货品+赠品”日结余库存体积和(立方米)-外包装单元体积', 'by仓库类型月度普通货品+赠品良品总库存周转天数',\n",
       "       '服务类问题', '赔付单号', '天猫直送-次日达', '包裹重量(克)', '1688子单合单标', '包裹数量(结算加工)',\n",
       "       '折扣原总计费金额', '渗透率2_剔除618和双11', '折扣原始费用项编码', '包裹体积（立方厘米）', 'filename'],\n",
       "      dtype='object')"
      ]
     },
     "execution_count": 4,
     "metadata": {},
     "output_type": "execute_result"
    }
   ],
   "source": [
    "all_data_concat.columns"
   ]
  },
  {
   "cell_type": "markdown",
   "id": "5351a806",
   "metadata": {},
   "source": [
    "##### 1.0 前期准备 定义函数，从 <数字公式> 中提离出来包裹重量吧"
   ]
  },
  {
   "cell_type": "code",
   "execution_count": 62,
   "id": "73d483bb",
   "metadata": {},
   "outputs": [],
   "source": [
    "# 001 \n",
    "\n",
    "str1 = \"（ceil（（6500.0-3000）/1000））* 1.05+6\"\n",
    "str2 = \"3.65\"\n",
    "\n",
    "def find_weight(str1):\n",
    "    pattern = re.compile(r\"（ceil（（(\\d*.\\d)\")\n",
    "    try :\n",
    "        float(pattern.search(str1).group(1))\n",
    "        return float(pattern.search(str1).group(1))\n",
    "    except :\n",
    "        return 0 \n",
    "str1 = \"（ceil（（6500.0-3000）/1000））* 1.05+6\"\n",
    "find_weight(str1)\n",
    "find_weight(str2)\n",
    "\n",
    "\n",
    "# 002\n",
    "\n",
    "def Tier(weight):\n",
    "    if weight / 1000 > 10 :\n",
    "        Tier = \"X >10kg\"\n",
    "    elif weight / 1000 > 5 :\n",
    "        Tier = \"X >5kg,≤10kg\"\n",
    "    elif weight / 1000 > 3 :\n",
    "        Tier = \"X >3kg,≤5kg\"\n",
    "    elif weight / 1000 > 2 :\n",
    "        Tier = \"X >2kg, ≤3kg\"\n",
    "    elif weight / 1000 > 1 :\n",
    "        Tier = \"X >1kg, ≤2kg\"\n",
    "    elif weight / 1000 > 0.5 :\n",
    "        Tier = \"X >0.5kg, ≤1kg\"\n",
    "    elif weight / 1000 > 0.3 :\n",
    "        Tier = \"X >0.3kg, ≤0.5kg\"\n",
    "    else :\n",
    "        Tier = \"X ≤0.3kg\"\n",
    "    return Tier "
   ]
  },
  {
   "cell_type": "markdown",
   "id": "f507aa42",
   "metadata": {},
   "source": [
    "## Order_Handing = all_data_concat[all_data_concat[\"费用项\"]==\"尊享正向配送费\"].reset_index()\n",
    "\n"
   ]
  },
  {
   "cell_type": "code",
   "execution_count": 4,
   "id": "35da5507",
   "metadata": {},
   "outputs": [
    {
     "data": {
      "text/plain": [
       "正向配送费    176375\n",
       "系统使用费    140088\n",
       "货值赔付        545\n",
       "服务赔付         99\n",
       "货物装卸费         2\n",
       "Name: 费用项, dtype: int64"
      ]
     },
     "execution_count": 4,
     "metadata": {},
     "output_type": "execute_result"
    }
   ],
   "source": [
    "all_data_concat[\"费用项\"].value_counts()"
   ]
  },
  {
   "cell_type": "markdown",
   "id": "7ea3fd2c",
   "metadata": {},
   "source": [
    "###### 1.1、快递费"
   ]
  },
  {
   "cell_type": "code",
   "execution_count": 5,
   "id": "365f3288",
   "metadata": {},
   "outputs": [
    {
     "data": {
      "text/html": [
       "<div>\n",
       "<style scoped>\n",
       "    .dataframe tbody tr th:only-of-type {\n",
       "        vertical-align: middle;\n",
       "    }\n",
       "\n",
       "    .dataframe tbody tr th {\n",
       "        vertical-align: top;\n",
       "    }\n",
       "\n",
       "    .dataframe thead th {\n",
       "        text-align: right;\n",
       "    }\n",
       "</style>\n",
       "<table border=\"1\" class=\"dataframe\">\n",
       "  <thead>\n",
       "    <tr style=\"text-align: right;\">\n",
       "      <th></th>\n",
       "      <th>index</th>\n",
       "      <th>单据编号</th>\n",
       "      <th>原始业务主单号</th>\n",
       "      <th>商家名称</th>\n",
       "      <th>服务产品</th>\n",
       "      <th>物流商品</th>\n",
       "      <th>业务时间</th>\n",
       "      <th>计费时间</th>\n",
       "      <th>支付时间</th>\n",
       "      <th>费用项</th>\n",
       "      <th>...</th>\n",
       "      <th>天猫直送-次日达</th>\n",
       "      <th>包裹重量(克)</th>\n",
       "      <th>1688子单合单标</th>\n",
       "      <th>包裹数量(结算加工)</th>\n",
       "      <th>折扣原总计费金额</th>\n",
       "      <th>渗透率2_剔除618和双11</th>\n",
       "      <th>折扣原始费用项编码</th>\n",
       "      <th>包裹体积（立方厘米）</th>\n",
       "      <th>包裹防护方案编码</th>\n",
       "      <th>filename</th>\n",
       "    </tr>\n",
       "  </thead>\n",
       "  <tbody>\n",
       "  </tbody>\n",
       "</table>\n",
       "<p>0 rows × 95 columns</p>\n",
       "</div>"
      ],
      "text/plain": [
       "Empty DataFrame\n",
       "Columns: [index, 单据编号, 原始业务主单号, 商家名称, 服务产品, 物流商品, 业务时间, 计费时间, 支付时间, 费用项, 计费币种, 计费金额, 支付币种, 支付金额, 支付方式, 账单类型, 支付状态, 结算周期, 结算账户, 支付流水号, 中文翻译, 数字公式, 调账原因, 订单SKU种类数量, ERP订单号, 服务产品.1, 包材型号, 当季度存储计费月份数, 件型, erp单号, 正向物流宝订单号, 店铺名称, 店铺ID, 交易订单号, 运单号, 仓库名称, CN订单SKU总重量(克), 商品数量总和, CN订单SKU总体积(立方厘米), 起始省, 起始市, 起始区, 目的省, 目的市, 目的区, 仓cp的编码, 包裹总重量(克), 原箱非原箱标, 单体防护方案编码, 商品数量, 包材数量, 商品ID, 周转天数, 季度普通货品+赠品总库存周转天数, 泡重实重取大kg(重泡比4), 订单SKU总体积包裹总计泡重8, 商品件数总和, DM单数量, CNSKU体积(立方厘米), 主单公式翻译, 子单公式翻译, 整车/零担标, 调拨车型, 仓库类型, 交易订单保价金额, 主单商品id, 主单商品名称, 配送包裹计费重量, 包裹运单号, 冷链配送时效标, 包裹计费重量8000（克), 无指令标, 签收运单抛重4000(kg), 整车零担标CNBP, 顺丰包裹计费重量, 冷链夏季包裹重量-商家-非上海, 商家月度普通货品+赠品总库存重量(含残次), 货品运输单元体积(cm3), 非销售出库箱规拆零数, 非销售出库箱规整箱数, 冷链包裹重量g（按报价子类-WHC）, by仓类型月度“普通货品+赠品”日结余库存体积和(立方米)-外包装单元体积, by仓库类型月度普通货品+赠品良品总库存周转天数, 服务类问题, 赔付单号, 天猫直送-次日达, 包裹重量(克), 1688子单合单标, 包裹数量(结算加工), 折扣原总计费金额, 渗透率2_剔除618和双11, 折扣原始费用项编码, 包裹体积（立方厘米）, 包裹防护方案编码, filename]\n",
       "Index: []\n",
       "\n",
       "[0 rows x 95 columns]"
      ]
     },
     "execution_count": 5,
     "metadata": {},
     "output_type": "execute_result"
    }
   ],
   "source": [
    "Last_Mile_Delivery = all_data_concat[all_data_concat[\"费用项\"]==\"尊享正向配送费\"].reset_index()\n",
    "\n",
    "Last_Mile_Delivery"
   ]
  },
  {
   "cell_type": "markdown",
   "id": "68bbc6f6",
   "metadata": {},
   "source": [
    "* 1、拿Last_Mile_Delivery中一行记录看一下"
   ]
  },
  {
   "cell_type": "code",
   "execution_count": 6,
   "id": "1f068d38",
   "metadata": {},
   "outputs": [
    {
     "ename": "IndexError",
     "evalue": "single positional indexer is out-of-bounds",
     "output_type": "error",
     "traceback": [
      "\u001b[1;31m---------------------------------------------------------------------------\u001b[0m",
      "\u001b[1;31mIndexError\u001b[0m                                Traceback (most recent call last)",
      "\u001b[1;32mC:\\Users\\CHENGC~1\\AppData\\Local\\Temp/ipykernel_7696/2388838693.py\u001b[0m in \u001b[0;36m<module>\u001b[1;34m\u001b[0m\n\u001b[1;32m----> 1\u001b[1;33m \u001b[0mLast_Mile_Delivery\u001b[0m\u001b[1;33m.\u001b[0m\u001b[0miloc\u001b[0m\u001b[1;33m[\u001b[0m\u001b[1;36m0\u001b[0m\u001b[1;33m,\u001b[0m\u001b[1;33m:\u001b[0m\u001b[1;33m]\u001b[0m\u001b[1;33m.\u001b[0m\u001b[0mT\u001b[0m\u001b[1;33m\u001b[0m\u001b[1;33m\u001b[0m\u001b[0m\n\u001b[0m",
      "\u001b[1;32m~\\Anaconda3\\lib\\site-packages\\pandas\\core\\indexing.py\u001b[0m in \u001b[0;36m__getitem__\u001b[1;34m(self, key)\u001b[0m\n\u001b[0;32m    923\u001b[0m                 \u001b[1;32mwith\u001b[0m \u001b[0msuppress\u001b[0m\u001b[1;33m(\u001b[0m\u001b[0mKeyError\u001b[0m\u001b[1;33m,\u001b[0m \u001b[0mIndexError\u001b[0m\u001b[1;33m)\u001b[0m\u001b[1;33m:\u001b[0m\u001b[1;33m\u001b[0m\u001b[1;33m\u001b[0m\u001b[0m\n\u001b[0;32m    924\u001b[0m                     \u001b[1;32mreturn\u001b[0m \u001b[0mself\u001b[0m\u001b[1;33m.\u001b[0m\u001b[0mobj\u001b[0m\u001b[1;33m.\u001b[0m\u001b[0m_get_value\u001b[0m\u001b[1;33m(\u001b[0m\u001b[1;33m*\u001b[0m\u001b[0mkey\u001b[0m\u001b[1;33m,\u001b[0m \u001b[0mtakeable\u001b[0m\u001b[1;33m=\u001b[0m\u001b[0mself\u001b[0m\u001b[1;33m.\u001b[0m\u001b[0m_takeable\u001b[0m\u001b[1;33m)\u001b[0m\u001b[1;33m\u001b[0m\u001b[1;33m\u001b[0m\u001b[0m\n\u001b[1;32m--> 925\u001b[1;33m             \u001b[1;32mreturn\u001b[0m \u001b[0mself\u001b[0m\u001b[1;33m.\u001b[0m\u001b[0m_getitem_tuple\u001b[0m\u001b[1;33m(\u001b[0m\u001b[0mkey\u001b[0m\u001b[1;33m)\u001b[0m\u001b[1;33m\u001b[0m\u001b[1;33m\u001b[0m\u001b[0m\n\u001b[0m\u001b[0;32m    926\u001b[0m         \u001b[1;32melse\u001b[0m\u001b[1;33m:\u001b[0m\u001b[1;33m\u001b[0m\u001b[1;33m\u001b[0m\u001b[0m\n\u001b[0;32m    927\u001b[0m             \u001b[1;31m# we by definition only have the 0th axis\u001b[0m\u001b[1;33m\u001b[0m\u001b[1;33m\u001b[0m\u001b[0m\n",
      "\u001b[1;32m~\\Anaconda3\\lib\\site-packages\\pandas\\core\\indexing.py\u001b[0m in \u001b[0;36m_getitem_tuple\u001b[1;34m(self, tup)\u001b[0m\n\u001b[0;32m   1504\u001b[0m     \u001b[1;32mdef\u001b[0m \u001b[0m_getitem_tuple\u001b[0m\u001b[1;33m(\u001b[0m\u001b[0mself\u001b[0m\u001b[1;33m,\u001b[0m \u001b[0mtup\u001b[0m\u001b[1;33m:\u001b[0m \u001b[0mtuple\u001b[0m\u001b[1;33m)\u001b[0m\u001b[1;33m:\u001b[0m\u001b[1;33m\u001b[0m\u001b[1;33m\u001b[0m\u001b[0m\n\u001b[0;32m   1505\u001b[0m \u001b[1;33m\u001b[0m\u001b[0m\n\u001b[1;32m-> 1506\u001b[1;33m         \u001b[0mself\u001b[0m\u001b[1;33m.\u001b[0m\u001b[0m_has_valid_tuple\u001b[0m\u001b[1;33m(\u001b[0m\u001b[0mtup\u001b[0m\u001b[1;33m)\u001b[0m\u001b[1;33m\u001b[0m\u001b[1;33m\u001b[0m\u001b[0m\n\u001b[0m\u001b[0;32m   1507\u001b[0m         \u001b[1;32mwith\u001b[0m \u001b[0msuppress\u001b[0m\u001b[1;33m(\u001b[0m\u001b[0mIndexingError\u001b[0m\u001b[1;33m)\u001b[0m\u001b[1;33m:\u001b[0m\u001b[1;33m\u001b[0m\u001b[1;33m\u001b[0m\u001b[0m\n\u001b[0;32m   1508\u001b[0m             \u001b[1;32mreturn\u001b[0m \u001b[0mself\u001b[0m\u001b[1;33m.\u001b[0m\u001b[0m_getitem_lowerdim\u001b[0m\u001b[1;33m(\u001b[0m\u001b[0mtup\u001b[0m\u001b[1;33m)\u001b[0m\u001b[1;33m\u001b[0m\u001b[1;33m\u001b[0m\u001b[0m\n",
      "\u001b[1;32m~\\Anaconda3\\lib\\site-packages\\pandas\\core\\indexing.py\u001b[0m in \u001b[0;36m_has_valid_tuple\u001b[1;34m(self, key)\u001b[0m\n\u001b[0;32m    752\u001b[0m         \u001b[1;32mfor\u001b[0m \u001b[0mi\u001b[0m\u001b[1;33m,\u001b[0m \u001b[0mk\u001b[0m \u001b[1;32min\u001b[0m \u001b[0menumerate\u001b[0m\u001b[1;33m(\u001b[0m\u001b[0mkey\u001b[0m\u001b[1;33m)\u001b[0m\u001b[1;33m:\u001b[0m\u001b[1;33m\u001b[0m\u001b[1;33m\u001b[0m\u001b[0m\n\u001b[0;32m    753\u001b[0m             \u001b[1;32mtry\u001b[0m\u001b[1;33m:\u001b[0m\u001b[1;33m\u001b[0m\u001b[1;33m\u001b[0m\u001b[0m\n\u001b[1;32m--> 754\u001b[1;33m                 \u001b[0mself\u001b[0m\u001b[1;33m.\u001b[0m\u001b[0m_validate_key\u001b[0m\u001b[1;33m(\u001b[0m\u001b[0mk\u001b[0m\u001b[1;33m,\u001b[0m \u001b[0mi\u001b[0m\u001b[1;33m)\u001b[0m\u001b[1;33m\u001b[0m\u001b[1;33m\u001b[0m\u001b[0m\n\u001b[0m\u001b[0;32m    755\u001b[0m             \u001b[1;32mexcept\u001b[0m \u001b[0mValueError\u001b[0m \u001b[1;32mas\u001b[0m \u001b[0merr\u001b[0m\u001b[1;33m:\u001b[0m\u001b[1;33m\u001b[0m\u001b[1;33m\u001b[0m\u001b[0m\n\u001b[0;32m    756\u001b[0m                 raise ValueError(\n",
      "\u001b[1;32m~\\Anaconda3\\lib\\site-packages\\pandas\\core\\indexing.py\u001b[0m in \u001b[0;36m_validate_key\u001b[1;34m(self, key, axis)\u001b[0m\n\u001b[0;32m   1407\u001b[0m             \u001b[1;32mreturn\u001b[0m\u001b[1;33m\u001b[0m\u001b[1;33m\u001b[0m\u001b[0m\n\u001b[0;32m   1408\u001b[0m         \u001b[1;32melif\u001b[0m \u001b[0mis_integer\u001b[0m\u001b[1;33m(\u001b[0m\u001b[0mkey\u001b[0m\u001b[1;33m)\u001b[0m\u001b[1;33m:\u001b[0m\u001b[1;33m\u001b[0m\u001b[1;33m\u001b[0m\u001b[0m\n\u001b[1;32m-> 1409\u001b[1;33m             \u001b[0mself\u001b[0m\u001b[1;33m.\u001b[0m\u001b[0m_validate_integer\u001b[0m\u001b[1;33m(\u001b[0m\u001b[0mkey\u001b[0m\u001b[1;33m,\u001b[0m \u001b[0maxis\u001b[0m\u001b[1;33m)\u001b[0m\u001b[1;33m\u001b[0m\u001b[1;33m\u001b[0m\u001b[0m\n\u001b[0m\u001b[0;32m   1410\u001b[0m         \u001b[1;32melif\u001b[0m \u001b[0misinstance\u001b[0m\u001b[1;33m(\u001b[0m\u001b[0mkey\u001b[0m\u001b[1;33m,\u001b[0m \u001b[0mtuple\u001b[0m\u001b[1;33m)\u001b[0m\u001b[1;33m:\u001b[0m\u001b[1;33m\u001b[0m\u001b[1;33m\u001b[0m\u001b[0m\n\u001b[0;32m   1411\u001b[0m             \u001b[1;31m# a tuple should already have been caught by this point\u001b[0m\u001b[1;33m\u001b[0m\u001b[1;33m\u001b[0m\u001b[0m\n",
      "\u001b[1;32m~\\Anaconda3\\lib\\site-packages\\pandas\\core\\indexing.py\u001b[0m in \u001b[0;36m_validate_integer\u001b[1;34m(self, key, axis)\u001b[0m\n\u001b[0;32m   1498\u001b[0m         \u001b[0mlen_axis\u001b[0m \u001b[1;33m=\u001b[0m \u001b[0mlen\u001b[0m\u001b[1;33m(\u001b[0m\u001b[0mself\u001b[0m\u001b[1;33m.\u001b[0m\u001b[0mobj\u001b[0m\u001b[1;33m.\u001b[0m\u001b[0m_get_axis\u001b[0m\u001b[1;33m(\u001b[0m\u001b[0maxis\u001b[0m\u001b[1;33m)\u001b[0m\u001b[1;33m)\u001b[0m\u001b[1;33m\u001b[0m\u001b[1;33m\u001b[0m\u001b[0m\n\u001b[0;32m   1499\u001b[0m         \u001b[1;32mif\u001b[0m \u001b[0mkey\u001b[0m \u001b[1;33m>=\u001b[0m \u001b[0mlen_axis\u001b[0m \u001b[1;32mor\u001b[0m \u001b[0mkey\u001b[0m \u001b[1;33m<\u001b[0m \u001b[1;33m-\u001b[0m\u001b[0mlen_axis\u001b[0m\u001b[1;33m:\u001b[0m\u001b[1;33m\u001b[0m\u001b[1;33m\u001b[0m\u001b[0m\n\u001b[1;32m-> 1500\u001b[1;33m             \u001b[1;32mraise\u001b[0m \u001b[0mIndexError\u001b[0m\u001b[1;33m(\u001b[0m\u001b[1;34m\"single positional indexer is out-of-bounds\"\u001b[0m\u001b[1;33m)\u001b[0m\u001b[1;33m\u001b[0m\u001b[1;33m\u001b[0m\u001b[0m\n\u001b[0m\u001b[0;32m   1501\u001b[0m \u001b[1;33m\u001b[0m\u001b[0m\n\u001b[0;32m   1502\u001b[0m     \u001b[1;31m# -------------------------------------------------------------------\u001b[0m\u001b[1;33m\u001b[0m\u001b[1;33m\u001b[0m\u001b[0m\n",
      "\u001b[1;31mIndexError\u001b[0m: single positional indexer is out-of-bounds"
     ]
    }
   ],
   "source": [
    "Last_Mile_Delivery.iloc[0,:].T"
   ]
  },
  {
   "cell_type": "code",
   "execution_count": null,
   "id": "a79641fe",
   "metadata": {},
   "outputs": [],
   "source": []
  },
  {
   "cell_type": "markdown",
   "id": "75083b8d",
   "metadata": {},
   "source": [
    "* 2、从数字公式中把包裹重量剥离出来"
   ]
  },
  {
   "cell_type": "code",
   "execution_count": null,
   "id": "589c1633",
   "metadata": {},
   "outputs": [],
   "source": [
    "Last_Mile_Delivery[\"包裹重量_C\"] = Last_Mile_Delivery[\"数字公式\"].map(find_weight)/1000"
   ]
  },
  {
   "cell_type": "markdown",
   "id": "ef57859c",
   "metadata": {},
   "source": [
    "* 3、试验一下剥离出来的包裹重量和配送包裹计费重量是否一致吧，哈哈，Check "
   ]
  },
  {
   "cell_type": "code",
   "execution_count": null,
   "id": "20584959",
   "metadata": {},
   "outputs": [],
   "source": [
    "Last_Mile_Delivery[\"包裹重量_C\"][Last_Mile_Delivery[\"包裹重量_C\"]!=0].sum()"
   ]
  },
  {
   "cell_type": "code",
   "execution_count": null,
   "id": "9fa9eeb8",
   "metadata": {},
   "outputs": [],
   "source": [
    "Last_Mile_Delivery[\"配送包裹计费重量\"][Last_Mile_Delivery[\"包裹重量_C\"]!=0].sum()"
   ]
  },
  {
   "cell_type": "markdown",
   "id": "83026471",
   "metadata": {},
   "source": [
    "* 4、对中文翻译的公式去重"
   ]
  },
  {
   "cell_type": "code",
   "execution_count": null,
   "id": "53abd26e",
   "metadata": {
    "scrolled": true
   },
   "outputs": [],
   "source": [
    "Last_Mile_Delivery[\"中文翻译\"].unique()"
   ]
  },
  {
   "cell_type": "markdown",
   "id": "d0989633",
   "metadata": {},
   "source": [
    "* 5、建立快递费的重量段"
   ]
  },
  {
   "cell_type": "code",
   "execution_count": 63,
   "id": "fb468e17",
   "metadata": {},
   "outputs": [
    {
     "data": {
      "text/plain": [
       "X >5kg,≤10kg        289224\n",
       "X >10kg              64722\n",
       "X >3kg,≤5kg          60495\n",
       "X >1kg, ≤2kg          4134\n",
       "X >2kg, ≤3kg          3459\n",
       "X ≤0.3kg              2228\n",
       "X >0.5kg, ≤1kg        1312\n",
       "X >0.3kg, ≤0.5kg       602\n",
       "Name: Tier, dtype: int64"
      ]
     },
     "execution_count": 63,
     "metadata": {},
     "output_type": "execute_result"
    }
   ],
   "source": [
    "Last_Mile_Delivery[\"Tier\"] = Last_Mile_Delivery[\"配送包裹计费重量\"].map(Tier)\n",
    "\n",
    "Last_Mile_Delivery[\"Tier\"].value_counts()"
   ]
  },
  {
   "cell_type": "code",
   "execution_count": 143,
   "id": "e3056409",
   "metadata": {},
   "outputs": [],
   "source": [
    "Last_Mile_Delivery[\"配送包裹计费重量_C\"] = Last_Mile_Delivery[\"配送包裹计费重量\"]/1000"
   ]
  },
  {
   "cell_type": "code",
   "execution_count": 64,
   "id": "c8ab6910",
   "metadata": {},
   "outputs": [
    {
     "data": {
      "text/plain": [
       "X >5kg,≤10kg        0.678649\n",
       "X >10kg             0.151867\n",
       "X >3kg,≤5kg         0.141948\n",
       "X >1kg, ≤2kg        0.009700\n",
       "X >2kg, ≤3kg        0.008116\n",
       "X ≤0.3kg            0.005228\n",
       "X >0.5kg, ≤1kg      0.003079\n",
       "X >0.3kg, ≤0.5kg    0.001413\n",
       "Name: Tier, dtype: float64"
      ]
     },
     "execution_count": 64,
     "metadata": {},
     "output_type": "execute_result"
    }
   ],
   "source": [
    "Last_Mile_Delivery[\"Tier\"].value_counts()/Last_Mile_Delivery[\"Tier\"].value_counts().sum()"
   ]
  },
  {
   "cell_type": "markdown",
   "id": "0c53596f",
   "metadata": {},
   "source": [
    "* 6、去重原始订单量吧，咋样呢"
   ]
  },
  {
   "cell_type": "code",
   "execution_count": 131,
   "id": "4a6ddfff",
   "metadata": {},
   "outputs": [
    {
     "name": "stderr",
     "output_type": "stream",
     "text": [
      "C:\\Users\\CHENGC~1\\AppData\\Local\\Temp/ipykernel_6072/3705441298.py:1: SettingWithCopyWarning: \n",
      "A value is trying to be set on a copy of a slice from a DataFrame\n",
      "\n",
      "See the caveats in the documentation: https://pandas.pydata.org/pandas-docs/stable/user_guide/indexing.html#returning-a-view-versus-a-copy\n",
      "  Last_Mile_Delivery[\"原始订单_C\"][Last_Mile_Delivery[\"交易订单号\"].duplicated()==False] = 1\n",
      "C:\\Users\\CHENGC~1\\AppData\\Local\\Temp/ipykernel_6072/3705441298.py:2: SettingWithCopyWarning: \n",
      "A value is trying to be set on a copy of a slice from a DataFrame\n",
      "\n",
      "See the caveats in the documentation: https://pandas.pydata.org/pandas-docs/stable/user_guide/indexing.html#returning-a-view-versus-a-copy\n",
      "  Last_Mile_Delivery[\"原始订单_C\"][Last_Mile_Delivery[\"交易订单号\"].duplicated()==True] = 0\n"
     ]
    },
    {
     "data": {
      "text/plain": [
       "0         1\n",
       "1         1\n",
       "2         1\n",
       "3         0\n",
       "4         1\n",
       "         ..\n",
       "426171    1\n",
       "426172    0\n",
       "426173    1\n",
       "426174    1\n",
       "426175    1\n",
       "Name: 原始订单_C, Length: 426176, dtype: object"
      ]
     },
     "execution_count": 131,
     "metadata": {},
     "output_type": "execute_result"
    }
   ],
   "source": [
    "Last_Mile_Delivery[\"原始订单_C\"][Last_Mile_Delivery[\"交易订单号\"].duplicated()==False] = 1 \n",
    "Last_Mile_Delivery[\"原始订单_C\"][Last_Mile_Delivery[\"交易订单号\"].duplicated()==True] = 0 \n",
    "\n",
    "Last_Mile_Delivery[\"原始订单_C\"]"
   ]
  },
  {
   "cell_type": "code",
   "execution_count": 122,
   "id": "db4de48b",
   "metadata": {
    "scrolled": true
   },
   "outputs": [
    {
     "data": {
      "text/plain": [
       "0         '2379563569590344258\n",
       "1         '2380214523987571773\n",
       "2         '2378242548206761962\n",
       "3                             \n",
       "4         '2379310849414287953\n",
       "                  ...         \n",
       "426171    '2446236794238943060\n",
       "426172                        \n",
       "426173    '2448166611491582217\n",
       "426174    '2445083568158004921\n",
       "426175    '2446901137428560523\n",
       "Name: 原始订单_C, Length: 426176, dtype: object"
      ]
     },
     "execution_count": 122,
     "metadata": {},
     "output_type": "execute_result"
    }
   ],
   "source": [
    "Last_Mile_Delivery[\"原始订单_C\"]"
   ]
  },
  {
   "cell_type": "code",
   "execution_count": 75,
   "id": "cfaa4bf2",
   "metadata": {},
   "outputs": [
    {
     "data": {
      "text/plain": [
       "False    333825\n",
       "True      92351\n",
       "Name: 交易订单号, dtype: int64"
      ]
     },
     "execution_count": 75,
     "metadata": {},
     "output_type": "execute_result"
    }
   ],
   "source": [
    "Last_Mile_Delivery[\"交易订单号\"].duplicated().value_counts()"
   ]
  },
  {
   "cell_type": "markdown",
   "id": "2c7b582a",
   "metadata": {},
   "source": [
    "* 7、商品数量总和 去重"
   ]
  },
  {
   "cell_type": "code",
   "execution_count": 129,
   "id": "ac90865c",
   "metadata": {},
   "outputs": [],
   "source": [
    "Last_Mile_Delivery[\"商品数量_C\"] = Last_Mile_Delivery[[\"商品数量总和\",\"单据编号\"]].drop_duplicates(subset=[\"单据编号\"]).reindex([\"商品数量总和\"],axis=1)\n",
    "\n",
    "Last_Mile_Delivery[\"商品数量_C\"].fillna(0,inplace=True)"
   ]
  },
  {
   "cell_type": "code",
   "execution_count": 103,
   "id": "4b81676f",
   "metadata": {},
   "outputs": [
    {
     "data": {
      "text/plain": [
       "0         0.009180\n",
       "1         0.013450\n",
       "2         0.014866\n",
       "3         0.014866\n",
       "4         0.017071\n",
       "            ...   \n",
       "426171    0.014866\n",
       "426172    0.014866\n",
       "426173    0.014045\n",
       "426174    0.014866\n",
       "426175    0.014045\n",
       "Name: 包裹体积(m³)_C, Length: 426176, dtype: float64"
      ]
     },
     "execution_count": 103,
     "metadata": {},
     "output_type": "execute_result"
    }
   ],
   "source": [
    "Last_Mile_Delivery[\"包裹体积(m³)_C\"] = Last_Mile_Delivery[\"CN订单SKU总体积(立方厘米)\"]/Last_Mile_Delivery[\"商品数量总和\"]/1000000\n",
    "\n",
    "Last_Mile_Delivery[\"包裹体积(m³)_C\"]"
   ]
  },
  {
   "cell_type": "code",
   "execution_count": 102,
   "id": "2d873673",
   "metadata": {},
   "outputs": [
    {
     "data": {
      "text/plain": [
       "0          7\n",
       "1          9\n",
       "2         10\n",
       "3         10\n",
       "4         12\n",
       "          ..\n",
       "426171    11\n",
       "426172    11\n",
       "426173    10\n",
       "426174    11\n",
       "426175    11\n",
       "Name: 计费重量_C, Length: 426176, dtype: int64"
      ]
     },
     "execution_count": 102,
     "metadata": {},
     "output_type": "execute_result"
    }
   ],
   "source": [
    "Last_Mile_Delivery[\"计费重量_C\"] = Last_Mile_Delivery[\"包裹重量_C\"].map(int)+1\n",
    "\n",
    "Last_Mile_Delivery[\"计费重量_C\"]"
   ]
  },
  {
   "cell_type": "markdown",
   "id": "70588e74",
   "metadata": {},
   "source": [
    "* 8、拿更新过的表，重新看一下吧"
   ]
  },
  {
   "cell_type": "code",
   "execution_count": 144,
   "id": "4402fa03",
   "metadata": {},
   "outputs": [
    {
     "data": {
      "text/plain": [
       "index                           83753\n",
       "单据编号             'LBX0322728559135612\n",
       "原始业务主单号       'M{2379563569590344258}\n",
       "商家名称                        百威啤酒官方旗舰店\n",
       "服务产品                               快消\n",
       "                       ...           \n",
       "原始订单_C                              1\n",
       "商品数量_C                            1.0\n",
       "包裹体积(m³)_C                    0.00918\n",
       "计费重量_C                              7\n",
       "配送包裹计费重量_C                        6.5\n",
       "Name: 0, Length: 101, dtype: object"
      ]
     },
     "execution_count": 144,
     "metadata": {},
     "output_type": "execute_result"
    }
   ],
   "source": [
    "Last_Mile_Delivery.iloc[0,:].T"
   ]
  },
  {
   "cell_type": "code",
   "execution_count": 145,
   "id": "9fb1d4d2",
   "metadata": {
    "scrolled": true
   },
   "outputs": [
    {
     "data": {
      "text/html": [
       "<div>\n",
       "<style scoped>\n",
       "    .dataframe tbody tr th:only-of-type {\n",
       "        vertical-align: middle;\n",
       "    }\n",
       "\n",
       "    .dataframe tbody tr th {\n",
       "        vertical-align: top;\n",
       "    }\n",
       "\n",
       "    .dataframe thead th {\n",
       "        text-align: right;\n",
       "    }\n",
       "</style>\n",
       "<table border=\"1\" class=\"dataframe\">\n",
       "  <thead>\n",
       "    <tr style=\"text-align: right;\">\n",
       "      <th></th>\n",
       "      <th></th>\n",
       "      <th></th>\n",
       "      <th></th>\n",
       "      <th>原始订单_C</th>\n",
       "      <th>商品数量_C</th>\n",
       "      <th>计费重量_C</th>\n",
       "      <th>计费金额</th>\n",
       "      <th>运单号</th>\n",
       "      <th>配送包裹计费重量_C</th>\n",
       "    </tr>\n",
       "    <tr>\n",
       "      <th>店铺名称</th>\n",
       "      <th>起始市</th>\n",
       "      <th>Tier</th>\n",
       "      <th>目的省</th>\n",
       "      <th></th>\n",
       "      <th></th>\n",
       "      <th></th>\n",
       "      <th></th>\n",
       "      <th></th>\n",
       "      <th></th>\n",
       "    </tr>\n",
       "  </thead>\n",
       "  <tbody>\n",
       "    <tr>\n",
       "      <th rowspan=\"5\" valign=\"top\">GUINNESS健力士旗舰店</th>\n",
       "      <th rowspan=\"5\" valign=\"top\">嘉兴市</th>\n",
       "      <th rowspan=\"5\" valign=\"top\">X &gt;10kg</th>\n",
       "      <th>上海</th>\n",
       "      <td>255</td>\n",
       "      <td>365.0</td>\n",
       "      <td>4705</td>\n",
       "      <td>5.983350e+03</td>\n",
       "      <td>366</td>\n",
       "      <td>4.490969e+03</td>\n",
       "    </tr>\n",
       "    <tr>\n",
       "      <th>内蒙古自治区</th>\n",
       "      <td>16</td>\n",
       "      <td>20.0</td>\n",
       "      <td>267</td>\n",
       "      <td>7.128000e+02</td>\n",
       "      <td>20</td>\n",
       "      <td>2.552390e+02</td>\n",
       "    </tr>\n",
       "    <tr>\n",
       "      <th>北京</th>\n",
       "      <td>79</td>\n",
       "      <td>124.0</td>\n",
       "      <td>1626</td>\n",
       "      <td>4.341600e+03</td>\n",
       "      <td>122</td>\n",
       "      <td>1.551964e+03</td>\n",
       "    </tr>\n",
       "    <tr>\n",
       "      <th>吉林省</th>\n",
       "      <td>7</td>\n",
       "      <td>10.0</td>\n",
       "      <td>140</td>\n",
       "      <td>3.720000e+02</td>\n",
       "      <td>10</td>\n",
       "      <td>1.382390e+02</td>\n",
       "    </tr>\n",
       "    <tr>\n",
       "      <th>四川省</th>\n",
       "      <td>7</td>\n",
       "      <td>8.0</td>\n",
       "      <td>112</td>\n",
       "      <td>2.976000e+02</td>\n",
       "      <td>8</td>\n",
       "      <td>1.108160e+02</td>\n",
       "    </tr>\n",
       "    <tr>\n",
       "      <th>...</th>\n",
       "      <th>...</th>\n",
       "      <th>...</th>\n",
       "      <th>...</th>\n",
       "      <td>...</td>\n",
       "      <td>...</td>\n",
       "      <td>...</td>\n",
       "      <td>...</td>\n",
       "      <td>...</td>\n",
       "      <td>...</td>\n",
       "    </tr>\n",
       "    <tr>\n",
       "      <th rowspan=\"4\" valign=\"top\">鹅岛啤酒旗舰店</th>\n",
       "      <th rowspan=\"4\" valign=\"top\">武汉市</th>\n",
       "      <th rowspan=\"4\" valign=\"top\">X &gt;10kg</th>\n",
       "      <th>湖北省</th>\n",
       "      <td>5</td>\n",
       "      <td>7.0</td>\n",
       "      <td>112</td>\n",
       "      <td>1.375500e+02</td>\n",
       "      <td>7</td>\n",
       "      <td>1.087030e+02</td>\n",
       "    </tr>\n",
       "    <tr>\n",
       "      <th>湖南省</th>\n",
       "      <td>2</td>\n",
       "      <td>2.0</td>\n",
       "      <td>32</td>\n",
       "      <td>3.930000e+01</td>\n",
       "      <td>2</td>\n",
       "      <td>3.105800e+01</td>\n",
       "    </tr>\n",
       "    <tr>\n",
       "      <th>福建省</th>\n",
       "      <td>1</td>\n",
       "      <td>2.0</td>\n",
       "      <td>34</td>\n",
       "      <td>8.880000e+01</td>\n",
       "      <td>2</td>\n",
       "      <td>3.209800e+01</td>\n",
       "    </tr>\n",
       "    <tr>\n",
       "      <th>黑龙江省</th>\n",
       "      <td>1</td>\n",
       "      <td>1.0</td>\n",
       "      <td>17</td>\n",
       "      <td>4.440000e+01</td>\n",
       "      <td>1</td>\n",
       "      <td>1.634900e+01</td>\n",
       "    </tr>\n",
       "    <tr>\n",
       "      <th>All</th>\n",
       "      <th></th>\n",
       "      <th></th>\n",
       "      <th></th>\n",
       "      <td>333825</td>\n",
       "      <td>445271.0</td>\n",
       "      <td>3810773</td>\n",
       "      <td>6.561776e+06</td>\n",
       "      <td>426176</td>\n",
       "      <td>3.610146e+06</td>\n",
       "    </tr>\n",
       "  </tbody>\n",
       "</table>\n",
       "<p>2708 rows × 6 columns</p>\n",
       "</div>"
      ],
      "text/plain": [
       "                                   原始订单_C    商品数量_C   计费重量_C          计费金额  \\\n",
       "店铺名称           起始市 Tier    目的省                                               \n",
       "GUINNESS健力士旗舰店 嘉兴市 X >10kg 上海         255     365.0     4705  5.983350e+03   \n",
       "                           内蒙古自治区      16      20.0      267  7.128000e+02   \n",
       "                           北京          79     124.0     1626  4.341600e+03   \n",
       "                           吉林省          7      10.0      140  3.720000e+02   \n",
       "                           四川省          7       8.0      112  2.976000e+02   \n",
       "...                                   ...       ...      ...           ...   \n",
       "鹅岛啤酒旗舰店        武汉市 X >10kg 湖北省          5       7.0      112  1.375500e+02   \n",
       "                           湖南省          2       2.0       32  3.930000e+01   \n",
       "                           福建省          1       2.0       34  8.880000e+01   \n",
       "                           黑龙江省         1       1.0       17  4.440000e+01   \n",
       "All                                333825  445271.0  3810773  6.561776e+06   \n",
       "\n",
       "                                      运单号    配送包裹计费重量_C  \n",
       "店铺名称           起始市 Tier    目的省                           \n",
       "GUINNESS健力士旗舰店 嘉兴市 X >10kg 上海         366  4.490969e+03  \n",
       "                           内蒙古自治区      20  2.552390e+02  \n",
       "                           北京         122  1.551964e+03  \n",
       "                           吉林省         10  1.382390e+02  \n",
       "                           四川省          8  1.108160e+02  \n",
       "...                                   ...           ...  \n",
       "鹅岛啤酒旗舰店        武汉市 X >10kg 湖北省          7  1.087030e+02  \n",
       "                           湖南省          2  3.105800e+01  \n",
       "                           福建省          2  3.209800e+01  \n",
       "                           黑龙江省         1  1.634900e+01  \n",
       "All                                426176  3.610146e+06  \n",
       "\n",
       "[2708 rows x 6 columns]"
      ]
     },
     "execution_count": 145,
     "metadata": {},
     "output_type": "execute_result"
    }
   ],
   "source": [
    "pivot_table1 = Last_Mile_Delivery.pivot_table(index= [\"店铺名称\",\"起始市\",\"Tier\",\"目的省\"],\n",
    "                               values=[\"原始订单_C\",\"运单号\",\"商品数量_C\",\"配送包裹计费重量_C\",\"计费重量_C\",\"计费金额\"],\n",
    "                               aggfunc={\"原始订单_C\":sum,\"运单号\":pd.Series.count,\"商品数量_C\":sum,\"配送包裹计费重量_C\":sum,\"计费重量_C\":sum,\"计费金额\":sum},\n",
    "                               margins = True)\n",
    "\n",
    "pivot_table1"
   ]
  },
  {
   "cell_type": "code",
   "execution_count": 146,
   "id": "5120bb93",
   "metadata": {},
   "outputs": [],
   "source": [
    "pivot_table1.to_excel(os.path.join(input_path2,\"pivot_table1.xlsx\"))"
   ]
  },
  {
   "cell_type": "code",
   "execution_count": null,
   "id": "69f5b988",
   "metadata": {},
   "outputs": [],
   "source": []
  }
 ],
 "metadata": {
  "kernelspec": {
   "display_name": "Python 3 (ipykernel)",
   "language": "python",
   "name": "python3"
  },
  "language_info": {
   "codemirror_mode": {
    "name": "ipython",
    "version": 3
   },
   "file_extension": ".py",
   "mimetype": "text/x-python",
   "name": "python",
   "nbconvert_exporter": "python",
   "pygments_lexer": "ipython3",
   "version": "3.9.7"
  }
 },
 "nbformat": 4,
 "nbformat_minor": 5
}
