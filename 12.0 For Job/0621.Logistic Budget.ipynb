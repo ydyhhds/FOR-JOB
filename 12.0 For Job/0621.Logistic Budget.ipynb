{
 "cells": [
  {
   "cell_type": "code",
   "execution_count": null,
   "id": "9ab8ff32",
   "metadata": {},
   "outputs": [],
   "source": [
    "import os\n",
    "import pandas as pd\n",
    "import math\n",
    "import glob "
   ]
  },
  {
   "cell_type": "markdown",
   "id": "eddaf3d4",
   "metadata": {},
   "source": [
    "##### 1.2 订单处理费<21年7月-21年12月>"
   ]
  },
  {
   "cell_type": "code",
   "execution_count": 31,
   "id": "dce1851f",
   "metadata": {
    "scrolled": false
   },
   "outputs": [
    {
     "name": "stderr",
     "output_type": "stream",
     "text": [
      "C:\\Users\\vip\\AppData\\Local\\Temp/ipykernel_14288/1970902349.py:21: SettingWithCopyWarning: \n",
      "A value is trying to be set on a copy of a slice from a DataFrame\n",
      "\n",
      "See the caveats in the documentation: https://pandas.pydata.org/pandas-docs/stable/user_guide/indexing.html#returning-a-view-versus-a-copy\n",
      "  data_pivot[\"订单结构\"][data_pivot[\"货品数量\"]<=5] = \"<=5\"\n",
      "C:\\Users\\vip\\AppData\\Local\\Temp/ipykernel_14288/1970902349.py:21: SettingWithCopyWarning: \n",
      "A value is trying to be set on a copy of a slice from a DataFrame\n",
      "\n",
      "See the caveats in the documentation: https://pandas.pydata.org/pandas-docs/stable/user_guide/indexing.html#returning-a-view-versus-a-copy\n",
      "  data_pivot[\"订单结构\"][data_pivot[\"货品数量\"]<=5] = \"<=5\"\n",
      "C:\\Users\\vip\\AppData\\Local\\Temp/ipykernel_14288/1970902349.py:21: SettingWithCopyWarning: \n",
      "A value is trying to be set on a copy of a slice from a DataFrame\n",
      "\n",
      "See the caveats in the documentation: https://pandas.pydata.org/pandas-docs/stable/user_guide/indexing.html#returning-a-view-versus-a-copy\n",
      "  data_pivot[\"订单结构\"][data_pivot[\"货品数量\"]<=5] = \"<=5\"\n",
      "C:\\Users\\vip\\AppData\\Local\\Temp/ipykernel_14288/1970902349.py:21: SettingWithCopyWarning: \n",
      "A value is trying to be set on a copy of a slice from a DataFrame\n",
      "\n",
      "See the caveats in the documentation: https://pandas.pydata.org/pandas-docs/stable/user_guide/indexing.html#returning-a-view-versus-a-copy\n",
      "  data_pivot[\"订单结构\"][data_pivot[\"货品数量\"]<=5] = \"<=5\"\n",
      "C:\\Users\\vip\\AppData\\Local\\Temp/ipykernel_14288/1970902349.py:21: SettingWithCopyWarning: \n",
      "A value is trying to be set on a copy of a slice from a DataFrame\n",
      "\n",
      "See the caveats in the documentation: https://pandas.pydata.org/pandas-docs/stable/user_guide/indexing.html#returning-a-view-versus-a-copy\n",
      "  data_pivot[\"订单结构\"][data_pivot[\"货品数量\"]<=5] = \"<=5\"\n",
      "C:\\Users\\vip\\AppData\\Local\\Temp/ipykernel_14288/1970902349.py:21: SettingWithCopyWarning: \n",
      "A value is trying to be set on a copy of a slice from a DataFrame\n",
      "\n",
      "See the caveats in the documentation: https://pandas.pydata.org/pandas-docs/stable/user_guide/indexing.html#returning-a-view-versus-a-copy\n",
      "  data_pivot[\"订单结构\"][data_pivot[\"货品数量\"]<=5] = \"<=5\"\n",
      "C:\\Users\\vip\\AppData\\Local\\Temp/ipykernel_14288/1970902349.py:21: SettingWithCopyWarning: \n",
      "A value is trying to be set on a copy of a slice from a DataFrame\n",
      "\n",
      "See the caveats in the documentation: https://pandas.pydata.org/pandas-docs/stable/user_guide/indexing.html#returning-a-view-versus-a-copy\n",
      "  data_pivot[\"订单结构\"][data_pivot[\"货品数量\"]<=5] = \"<=5\"\n",
      "C:\\Users\\vip\\AppData\\Local\\Temp/ipykernel_14288/1970902349.py:21: SettingWithCopyWarning: \n",
      "A value is trying to be set on a copy of a slice from a DataFrame\n",
      "\n",
      "See the caveats in the documentation: https://pandas.pydata.org/pandas-docs/stable/user_guide/indexing.html#returning-a-view-versus-a-copy\n",
      "  data_pivot[\"订单结构\"][data_pivot[\"货品数量\"]<=5] = \"<=5\"\n",
      "C:\\Users\\vip\\AppData\\Local\\Temp/ipykernel_14288/1970902349.py:21: SettingWithCopyWarning: \n",
      "A value is trying to be set on a copy of a slice from a DataFrame\n",
      "\n",
      "See the caveats in the documentation: https://pandas.pydata.org/pandas-docs/stable/user_guide/indexing.html#returning-a-view-versus-a-copy\n",
      "  data_pivot[\"订单结构\"][data_pivot[\"货品数量\"]<=5] = \"<=5\"\n",
      "C:\\Users\\vip\\AppData\\Local\\Temp/ipykernel_14288/1970902349.py:21: SettingWithCopyWarning: \n",
      "A value is trying to be set on a copy of a slice from a DataFrame\n",
      "\n",
      "See the caveats in the documentation: https://pandas.pydata.org/pandas-docs/stable/user_guide/indexing.html#returning-a-view-versus-a-copy\n",
      "  data_pivot[\"订单结构\"][data_pivot[\"货品数量\"]<=5] = \"<=5\"\n",
      "C:\\Users\\vip\\AppData\\Local\\Temp/ipykernel_14288/1970902349.py:21: SettingWithCopyWarning: \n",
      "A value is trying to be set on a copy of a slice from a DataFrame\n",
      "\n",
      "See the caveats in the documentation: https://pandas.pydata.org/pandas-docs/stable/user_guide/indexing.html#returning-a-view-versus-a-copy\n",
      "  data_pivot[\"订单结构\"][data_pivot[\"货品数量\"]<=5] = \"<=5\"\n",
      "C:\\Users\\vip\\AppData\\Local\\Temp/ipykernel_14288/1970902349.py:21: SettingWithCopyWarning: \n",
      "A value is trying to be set on a copy of a slice from a DataFrame\n",
      "\n",
      "See the caveats in the documentation: https://pandas.pydata.org/pandas-docs/stable/user_guide/indexing.html#returning-a-view-versus-a-copy\n",
      "  data_pivot[\"订单结构\"][data_pivot[\"货品数量\"]<=5] = \"<=5\"\n"
     ]
    }
   ],
   "source": [
    "# 品牌 Final  21年7月_21年12月\n",
    "input_path = r\"C:\\Users\\vip\\Documents\\我的坚果云\\Work  Share\\许程晨\\2022年预算\\Details_202107-202112\"\n",
    "# input_file = r\"审计销售出库明细导出。。07.xlsx\"\n",
    "\n",
    "import os\n",
    "import pandas as pd\n",
    "import math\n",
    "import glob \n",
    "\n",
    "all_dataframe = []\n",
    "for file in glob.glob(os.path.join(input_path,\"*.xlsx\")):\n",
    "    data = pd.read_excel(file,parse_dates=True)\n",
    "    data[:5]\n",
    "    data = data[data[\"品牌名称\"]!=\"包材\"]\n",
    "    data = data[data[\"品牌名称\"]!=\"的卢包材\"]\n",
    "    data[\"发货时间\"] = pd.to_datetime(data[\"发货时间\"])\n",
    "    data = data.set_index(\"发货时间\",drop=False)\n",
    "    data[\"月份\"] = data.index.month\n",
    "    data_pivot = data.pivot_table(index=[\"月份\",\"店铺名称\",\"出库单编号\",\"品牌名称\"],values=\"货品数量\",aggfunc=\"sum\")\n",
    "    data_pivot[\"订单结构\"] = \">5\"\n",
    "    data_pivot[\"订单结构\"][data_pivot[\"货品数量\"]<=5] = \"<=5\"\n",
    "    data_pivot.reset_index(inplace=True)\n",
    "    data_pivot_pivot = data_pivot.pivot_table(index=[\"月份\",\"店铺名称\",\"订单结构\",\"品牌名称\"],values=[\"货品数量\",\"出库单编号\"],aggfunc={\"货品数量\":\"sum\",\"出库单编号\":\"count\"})\n",
    "    data_pivot_pivot.reset_index(inplace=True)\n",
    "    all_dataframe.append(data_pivot_pivot)\n",
    "data_frame_concat = pd.concat(all_dataframe,axis = 0,ignore_index = True)\n",
    "data_frame_concat.to_excel(r\"C:\\Users\\vip\\Desktop\\订单处理费_202107_202112.xlsx\")"
   ]
  },
  {
   "cell_type": "markdown",
   "id": "5dfc69c3",
   "metadata": {},
   "source": [
    "##### 1.2 订单处理费<22年1月-22年5月>"
   ]
  },
  {
   "cell_type": "code",
   "execution_count": 29,
   "id": "bbf45ebc",
   "metadata": {},
   "outputs": [
    {
     "name": "stderr",
     "output_type": "stream",
     "text": [
      "C:\\Users\\vip\\AppData\\Local\\Temp/ipykernel_14288/1044785302.py:21: SettingWithCopyWarning: \n",
      "A value is trying to be set on a copy of a slice from a DataFrame\n",
      "\n",
      "See the caveats in the documentation: https://pandas.pydata.org/pandas-docs/stable/user_guide/indexing.html#returning-a-view-versus-a-copy\n",
      "  data_pivot[\"订单结构\"][data_pivot[\"货品数量\"]<=5] = \"<=5\"\n"
     ]
    }
   ],
   "source": [
    "# 无品牌 Final  21年7月_21年12月\n",
    "input_path = r\"C:\\Users\\vip\\Documents\\我的坚果云\\Work  Share\\许程晨\\2022年预算\\Details_202201_202205\"\n",
    "# input_file = r\"审计销售出库明细导出。。07.xlsx\"\n",
    "\n",
    "import os\n",
    "import pandas as pd\n",
    "import math\n",
    "import glob \n",
    "\n",
    "all_dataframe = []\n",
    "for file in glob.glob(os.path.join(input_path,\"*.xlsx\")):\n",
    "    data = pd.read_excel(file,parse_dates=True)\n",
    "    data[:5]\n",
    "    data = data[data[\"品牌\"]!=\"包材\"]\n",
    "    data = data[data[\"品牌\"]!=\"的卢包材\"]\n",
    "    data[\"发货时间\"] = pd.to_datetime(data[\"发货时间\"])\n",
    "    data = data.set_index(\"发货时间\",drop=False)\n",
    "    data[\"月份\"] = data.index.month\n",
    "    data_pivot = data.pivot_table(index=[\"月份\",\"店铺\",\"出库单编号\",\"品牌\"],values=\"货品数量\",aggfunc=\"sum\")\n",
    "    data_pivot[\"订单结构\"] = \">5\"\n",
    "    data_pivot[\"订单结构\"][data_pivot[\"货品数量\"]<=5] = \"<=5\"\n",
    "    data_pivot.reset_index(inplace=True)\n",
    "    data_pivot_pivot = data_pivot.pivot_table(index=[\"月份\",\"店铺\",\"订单结构\",\"品牌\"],values=[\"货品数量\",\"出库单编号\"],aggfunc={\"货品数量\":\"sum\",\"出库单编号\":\"count\"})\n",
    "    data_pivot_pivot.reset_index(inplace=True)\n",
    "    all_dataframe.append(data_pivot_pivot)\n",
    "data_frame_concat = pd.concat(all_dataframe,axis = 0,ignore_index = True)\n",
    "data_frame_concat.to_excel(r\"C:\\Users\\vip\\Desktop\\订单处理费_202201_202205.xlsx\")"
   ]
  },
  {
   "cell_type": "markdown",
   "id": "0c603bf4",
   "metadata": {},
   "source": [
    "##### 2.1 快递费<21年7月-21年12月>"
   ]
  },
  {
   "cell_type": "code",
   "execution_count": null,
   "id": "7fa4162d",
   "metadata": {},
   "outputs": [],
   "source": [
    "def Tier(weight):\n",
    "    if weight > 3 :\n",
    "        Tier = \"X >3kg\"\n",
    "    elif weight > 2 :\n",
    "        Tier = \"X >2kg,≤3kg\"\n",
    "    elif weight > 3 :\n",
    "        Tier = \"X >1kg,≤2kg\"\n",
    "    elif weight > 2 :\n",
    "        Tier = \"X >0.5kg, ≤1kg\"\n",
    "    else :\n",
    "        Tier = \"X ≤0.5kg\"\n",
    "    return Tier"
   ]
  },
  {
   "cell_type": "code",
   "execution_count": null,
   "id": "d3f76b83",
   "metadata": {},
   "outputs": [],
   "source": []
  },
  {
   "cell_type": "code",
   "execution_count": 34,
   "id": "608e0786",
   "metadata": {},
   "outputs": [
    {
     "ename": "TypeError",
     "evalue": "unhashable type: 'list'",
     "output_type": "error",
     "traceback": [
      "\u001b[1;31m---------------------------------------------------------------------------\u001b[0m",
      "\u001b[1;31mTypeError\u001b[0m                                 Traceback (most recent call last)",
      "\u001b[1;32m~\\AppData\\Local\\Temp/ipykernel_14288/4064160050.py\u001b[0m in \u001b[0;36m<module>\u001b[1;34m\u001b[0m\n\u001b[0;32m     16\u001b[0m     \u001b[0mdata\u001b[0m \u001b[1;33m=\u001b[0m \u001b[0mdata\u001b[0m\u001b[1;33m.\u001b[0m\u001b[0mset_index\u001b[0m\u001b[1;33m(\u001b[0m\u001b[1;34m\"发货时间\"\u001b[0m\u001b[1;33m,\u001b[0m\u001b[0mdrop\u001b[0m\u001b[1;33m=\u001b[0m\u001b[1;32mFalse\u001b[0m\u001b[1;33m)\u001b[0m\u001b[1;33m\u001b[0m\u001b[1;33m\u001b[0m\u001b[0m\n\u001b[0;32m     17\u001b[0m     \u001b[0mdata\u001b[0m\u001b[1;33m[\u001b[0m\u001b[1;34m\"月份\"\u001b[0m\u001b[1;33m]\u001b[0m \u001b[1;33m=\u001b[0m \u001b[0mdata\u001b[0m\u001b[1;33m.\u001b[0m\u001b[0mindex\u001b[0m\u001b[1;33m.\u001b[0m\u001b[0mmonth\u001b[0m\u001b[1;33m\u001b[0m\u001b[1;33m\u001b[0m\u001b[0m\n\u001b[1;32m---> 18\u001b[1;33m     \u001b[0mdata\u001b[0m\u001b[1;33m[\u001b[0m\u001b[1;34m\"省份\"\u001b[0m\u001b[1;33m]\u001b[0m\u001b[1;33m[\u001b[0m\u001b[0mdata\u001b[0m\u001b[1;33m[\u001b[0m\u001b[1;34m\"城市\"\u001b[0m\u001b[1;33m]\u001b[0m\u001b[1;33m.\u001b[0m\u001b[0mstr\u001b[0m\u001b[1;33m.\u001b[0m\u001b[0mcontains\u001b[0m\u001b[1;33m(\u001b[0m\u001b[1;33m[\u001b[0m\u001b[1;34m\"深圳\"\u001b[0m\u001b[1;33m,\u001b[0m\u001b[1;34m\"深圳市\"\u001b[0m\u001b[1;33m]\u001b[0m\u001b[1;33m)\u001b[0m\u001b[1;33m]\u001b[0m \u001b[1;33m=\u001b[0m \u001b[1;34m\"深圳\"\u001b[0m\u001b[1;33m\u001b[0m\u001b[1;33m\u001b[0m\u001b[0m\n\u001b[0m\u001b[0;32m     19\u001b[0m     \u001b[0mdata\u001b[0m\u001b[1;33m.\u001b[0m\u001b[0mdrop_duplicates\u001b[0m\u001b[1;33m(\u001b[0m\u001b[0msubset\u001b[0m\u001b[1;33m=\u001b[0m\u001b[1;33m[\u001b[0m\u001b[1;34m\"出库编号\"\u001b[0m\u001b[1;33m]\u001b[0m\u001b[1;33m,\u001b[0m\u001b[0minplace\u001b[0m\u001b[1;33m=\u001b[0m\u001b[1;32mTrue\u001b[0m\u001b[1;33m)\u001b[0m\u001b[1;33m\u001b[0m\u001b[1;33m\u001b[0m\u001b[0m\n\u001b[0;32m     20\u001b[0m     \u001b[0mdata\u001b[0m\u001b[1;33m[\u001b[0m\u001b[1;34m\"重量段\"\u001b[0m\u001b[1;33m]\u001b[0m \u001b[1;33m=\u001b[0m \u001b[0mdata\u001b[0m\u001b[1;33m[\u001b[0m\u001b[1;34m\"预估重量\"\u001b[0m\u001b[1;33m]\u001b[0m\u001b[1;33m.\u001b[0m\u001b[0mmap\u001b[0m\u001b[1;33m(\u001b[0m\u001b[0mTier\u001b[0m\u001b[1;33m)\u001b[0m\u001b[1;33m\u001b[0m\u001b[1;33m\u001b[0m\u001b[0m\n",
      "\u001b[1;32m~\\anaconda3\\lib\\site-packages\\pandas\\core\\strings\\accessor.py\u001b[0m in \u001b[0;36mwrapper\u001b[1;34m(self, *args, **kwargs)\u001b[0m\n\u001b[0;32m    114\u001b[0m                 )\n\u001b[0;32m    115\u001b[0m                 \u001b[1;32mraise\u001b[0m \u001b[0mTypeError\u001b[0m\u001b[1;33m(\u001b[0m\u001b[0mmsg\u001b[0m\u001b[1;33m)\u001b[0m\u001b[1;33m\u001b[0m\u001b[1;33m\u001b[0m\u001b[0m\n\u001b[1;32m--> 116\u001b[1;33m             \u001b[1;32mreturn\u001b[0m \u001b[0mfunc\u001b[0m\u001b[1;33m(\u001b[0m\u001b[0mself\u001b[0m\u001b[1;33m,\u001b[0m \u001b[1;33m*\u001b[0m\u001b[0margs\u001b[0m\u001b[1;33m,\u001b[0m \u001b[1;33m**\u001b[0m\u001b[0mkwargs\u001b[0m\u001b[1;33m)\u001b[0m\u001b[1;33m\u001b[0m\u001b[1;33m\u001b[0m\u001b[0m\n\u001b[0m\u001b[0;32m    117\u001b[0m \u001b[1;33m\u001b[0m\u001b[0m\n\u001b[0;32m    118\u001b[0m         \u001b[0mwrapper\u001b[0m\u001b[1;33m.\u001b[0m\u001b[0m__name__\u001b[0m \u001b[1;33m=\u001b[0m \u001b[0mfunc_name\u001b[0m\u001b[1;33m\u001b[0m\u001b[1;33m\u001b[0m\u001b[0m\n",
      "\u001b[1;32m~\\anaconda3\\lib\\site-packages\\pandas\\core\\strings\\accessor.py\u001b[0m in \u001b[0;36mcontains\u001b[1;34m(self, pat, case, flags, na, regex)\u001b[0m\n\u001b[0;32m   1151\u001b[0m         \u001b[0mdtype\u001b[0m\u001b[1;33m:\u001b[0m \u001b[0mbool\u001b[0m\u001b[1;33m\u001b[0m\u001b[1;33m\u001b[0m\u001b[0m\n\u001b[0;32m   1152\u001b[0m         \"\"\"\n\u001b[1;32m-> 1153\u001b[1;33m         \u001b[1;32mif\u001b[0m \u001b[0mregex\u001b[0m \u001b[1;32mand\u001b[0m \u001b[0mre\u001b[0m\u001b[1;33m.\u001b[0m\u001b[0mcompile\u001b[0m\u001b[1;33m(\u001b[0m\u001b[0mpat\u001b[0m\u001b[1;33m)\u001b[0m\u001b[1;33m.\u001b[0m\u001b[0mgroups\u001b[0m\u001b[1;33m:\u001b[0m\u001b[1;33m\u001b[0m\u001b[1;33m\u001b[0m\u001b[0m\n\u001b[0m\u001b[0;32m   1154\u001b[0m             warnings.warn(\n\u001b[0;32m   1155\u001b[0m                 \u001b[1;34m\"This pattern has match groups. To actually get the \"\u001b[0m\u001b[1;33m\u001b[0m\u001b[1;33m\u001b[0m\u001b[0m\n",
      "\u001b[1;32m~\\anaconda3\\lib\\re.py\u001b[0m in \u001b[0;36mcompile\u001b[1;34m(pattern, flags)\u001b[0m\n\u001b[0;32m    250\u001b[0m \u001b[1;32mdef\u001b[0m \u001b[0mcompile\u001b[0m\u001b[1;33m(\u001b[0m\u001b[0mpattern\u001b[0m\u001b[1;33m,\u001b[0m \u001b[0mflags\u001b[0m\u001b[1;33m=\u001b[0m\u001b[1;36m0\u001b[0m\u001b[1;33m)\u001b[0m\u001b[1;33m:\u001b[0m\u001b[1;33m\u001b[0m\u001b[1;33m\u001b[0m\u001b[0m\n\u001b[0;32m    251\u001b[0m     \u001b[1;34m\"Compile a regular expression pattern, returning a Pattern object.\"\u001b[0m\u001b[1;33m\u001b[0m\u001b[1;33m\u001b[0m\u001b[0m\n\u001b[1;32m--> 252\u001b[1;33m     \u001b[1;32mreturn\u001b[0m \u001b[0m_compile\u001b[0m\u001b[1;33m(\u001b[0m\u001b[0mpattern\u001b[0m\u001b[1;33m,\u001b[0m \u001b[0mflags\u001b[0m\u001b[1;33m)\u001b[0m\u001b[1;33m\u001b[0m\u001b[1;33m\u001b[0m\u001b[0m\n\u001b[0m\u001b[0;32m    253\u001b[0m \u001b[1;33m\u001b[0m\u001b[0m\n\u001b[0;32m    254\u001b[0m \u001b[1;32mdef\u001b[0m \u001b[0mpurge\u001b[0m\u001b[1;33m(\u001b[0m\u001b[1;33m)\u001b[0m\u001b[1;33m:\u001b[0m\u001b[1;33m\u001b[0m\u001b[1;33m\u001b[0m\u001b[0m\n",
      "\u001b[1;32m~\\anaconda3\\lib\\re.py\u001b[0m in \u001b[0;36m_compile\u001b[1;34m(pattern, flags)\u001b[0m\n\u001b[0;32m    292\u001b[0m         \u001b[0mflags\u001b[0m \u001b[1;33m=\u001b[0m \u001b[0mflags\u001b[0m\u001b[1;33m.\u001b[0m\u001b[0mvalue\u001b[0m\u001b[1;33m\u001b[0m\u001b[1;33m\u001b[0m\u001b[0m\n\u001b[0;32m    293\u001b[0m     \u001b[1;32mtry\u001b[0m\u001b[1;33m:\u001b[0m\u001b[1;33m\u001b[0m\u001b[1;33m\u001b[0m\u001b[0m\n\u001b[1;32m--> 294\u001b[1;33m         \u001b[1;32mreturn\u001b[0m \u001b[0m_cache\u001b[0m\u001b[1;33m[\u001b[0m\u001b[0mtype\u001b[0m\u001b[1;33m(\u001b[0m\u001b[0mpattern\u001b[0m\u001b[1;33m)\u001b[0m\u001b[1;33m,\u001b[0m \u001b[0mpattern\u001b[0m\u001b[1;33m,\u001b[0m \u001b[0mflags\u001b[0m\u001b[1;33m]\u001b[0m\u001b[1;33m\u001b[0m\u001b[1;33m\u001b[0m\u001b[0m\n\u001b[0m\u001b[0;32m    295\u001b[0m     \u001b[1;32mexcept\u001b[0m \u001b[0mKeyError\u001b[0m\u001b[1;33m:\u001b[0m\u001b[1;33m\u001b[0m\u001b[1;33m\u001b[0m\u001b[0m\n\u001b[0;32m    296\u001b[0m         \u001b[1;32mpass\u001b[0m\u001b[1;33m\u001b[0m\u001b[1;33m\u001b[0m\u001b[0m\n",
      "\u001b[1;31mTypeError\u001b[0m: unhashable type: 'list'"
     ]
    }
   ],
   "source": [
    "input_path = r\"C:\\Users\\vip\\Documents\\我的坚果云\\Work  Share\\许程晨\\2022年预算\\Details_202107-202112\"\n",
    "# input_file = r\"审计销售出库明细导出。。07.xlsx\"\n",
    "\n",
    "import os\n",
    "import pandas as pd\n",
    "import math\n",
    "import glob\n",
    "\n",
    "all_dataframe = []\n",
    "for file in glob.glob(os.path.join(input_path,\"*.xlsx\")):\n",
    "    data = pd.read_excel(file,parse_dates=True)\n",
    "    data[:5]\n",
    "    data = data[data[\"品牌名称\"]!=\"包材\"]\n",
    "    data = data[data[\"品牌名称\"]!=\"的卢包材\"]\n",
    "    data[\"发货时间\"] = pd.to_datetime(data[\"发货时间\"])\n",
    "    data = data.set_index(\"发货时间\",drop=False)\n",
    "    data[\"月份\"] = data.index.month\n",
    "    data[\"省份\"][data[\"城市\"].str.contains(\"深圳\")|data[\"城市\"].str.contains(\"深圳\")] = \"深圳\"\n",
    "    data.drop_duplicates(subset=[\"出库编号\"],inplace=True)\n",
    "    data[\"重量段\"] = data[\"预估重量\"].map(Tier)\n",
    "    data[\"计费重量\"] = df[\"预估重量\"].map(math.ceil)\n",
    "    data_pivot = data.pivot_table(index=[\"月份\",\"店铺名称\",\"品牌名称\",\"省份\",\"重量段\"],values=[\"计费重量\",\"预估重量\"],aggfunc=\"sum\")\n",
    "    data_pivot.reset_index(inplace=True)\n",
    "    all_dataframe.append(data_pivot)\n",
    "data_frame_concat = pd.concat(all_dataframe,axis = 0,ignore_index = True)\n",
    "data_frame_concat.to_excel(r\"C:\\Users\\vip\\Desktop\\订单处理费_202107_202112.xlsx\")"
   ]
  },
  {
   "cell_type": "code",
   "execution_count": null,
   "id": "3d81b5da",
   "metadata": {},
   "outputs": [],
   "source": []
  }
 ],
 "metadata": {
  "kernelspec": {
   "display_name": "Python 3 (ipykernel)",
   "language": "python",
   "name": "python3"
  },
  "language_info": {
   "codemirror_mode": {
    "name": "ipython",
    "version": 3
   },
   "file_extension": ".py",
   "mimetype": "text/x-python",
   "name": "python",
   "nbconvert_exporter": "python",
   "pygments_lexer": "ipython3",
   "version": "3.9.7"
  }
 },
 "nbformat": 4,
 "nbformat_minor": 5
}
