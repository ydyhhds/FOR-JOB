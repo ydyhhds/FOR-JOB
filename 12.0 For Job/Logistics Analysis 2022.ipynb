{
 "cells": [
  {
   "cell_type": "code",
   "execution_count": null,
   "id": "49349902",
   "metadata": {},
   "outputs": [],
   "source": [
    "# Tasking TO Be \n",
    "# 1、物流费用分析表；\n",
    "# 2、的卢消杀模板；\n",
    "# 3、菜鸟赔付确认； \n",
    "# 4、景田账单修正; 已发陈仲超。\n",
    "# 5、莹莹快递费上涨的邮件。 已和树贤沟通，已解决。"
   ]
  },
  {
   "cell_type": "code",
   "execution_count": null,
   "id": "91e5b006",
   "metadata": {},
   "outputs": [],
   "source": [
    "#  To Be \n",
    "# 菜鸟前置仓"
   ]
  },
  {
   "cell_type": "code",
   "execution_count": 3,
   "id": "6da77349",
   "metadata": {},
   "outputs": [],
   "source": [
    "import pandas as pd\n",
    "import glob\n",
    "import os\n",
    "import re "
   ]
  },
  {
   "cell_type": "code",
   "execution_count": 4,
   "id": "992eeff4",
   "metadata": {},
   "outputs": [],
   "source": [
    "pd.options.display.max_rows = 100"
   ]
  },
  {
   "cell_type": "markdown",
   "id": "5791cae0",
   "metadata": {},
   "source": [
    "#### 1、菜鸟前置仓 物流费用分析"
   ]
  },
  {
   "cell_type": "code",
   "execution_count": 7,
   "id": "5efa5dfb",
   "metadata": {},
   "outputs": [
    {
     "name": "stderr",
     "output_type": "stream",
     "text": [
      "C:\\Users\\ChengChen Xu\\Anaconda3\\lib\\site-packages\\IPython\\core\\interactiveshell.py:3444: DtypeWarning: Columns (23,29,33,47) have mixed types.Specify dtype option on import or set low_memory=False.\n",
      "  exec(code_obj, self.user_global_ns, self.user_ns)\n"
     ]
    }
   ],
   "source": [
    "contents = []\n",
    "input_file = r\"D:\\我的坚果云\\Work  Share\\许程晨\\8、VLC_2022\\菜鸟前置仓\\202201\"\n",
    "\n",
    "\n",
    "for input_path in glob.glob(os.path.join(input_file,\"*.csv\")):\n",
    "    frame = pd.read_csv(input_path,encoding=\"gbk\")\n",
    "    frame[\"filename\"] = os.path.basename(input_path)\n",
    "    contents.append(frame)\n",
    "all_data_concat = pd.concat(contents)\n",
    "\n",
    "# Order_Handing = all_data_concat[all_data_concat.]"
   ]
  },
  {
   "cell_type": "code",
   "execution_count": 3,
   "id": "6316e090",
   "metadata": {},
   "outputs": [
    {
     "data": {
      "text/plain": [
       "(1150135, 93)"
      ]
     },
     "execution_count": 3,
     "metadata": {},
     "output_type": "execute_result"
    }
   ],
   "source": [
    "all_data_concat.shape"
   ]
  },
  {
   "cell_type": "code",
   "execution_count": 4,
   "id": "ea8d96c7",
   "metadata": {},
   "outputs": [
    {
     "data": {
      "text/plain": [
       "Index(['单据编号', '原始业务主单号', '商家名称', '服务产品', '物流商品', '业务时间', '计费时间', '支付时间',\n",
       "       '费用项', '计费币种', '计费金额', '支付币种', '支付金额', '支付方式', '账单类型', '支付状态', '结算周期',\n",
       "       '结算账户', '支付流水号', '中文翻译', '数字公式', '调账原因', '订单SKU种类数量', 'ERP订单号',\n",
       "       '服务产品.1', '包材型号', '当季度存储计费月份数', '件型', 'erp单号', '正向物流宝订单号', '店铺名称',\n",
       "       '店铺ID', '交易订单号', '运单号', '仓库名称', 'CN订单SKU总重量(克)', '商品数量总和',\n",
       "       'CN订单SKU总体积(立方厘米)', '起始省', '起始市', '起始区', '目的省', '目的市', '目的区', '仓cp的编码',\n",
       "       '包裹总重量(克)', '原箱非原箱标', '单体防护方案编码', '商品数量', '包材数量', '商品ID', '周转天数',\n",
       "       '季度普通货品+赠品总库存周转天数', '泡重实重取大kg(重泡比4)', '订单SKU总体积包裹总计泡重8', '商品件数总和',\n",
       "       'DM单数量', 'CNSKU体积(立方厘米)', '主单公式翻译', '子单公式翻译', '整车/零担标', '调拨车型', '仓库类型',\n",
       "       '交易订单保价金额', '主单商品id', '主单商品名称', '配送包裹计费重量', '包裹运单号', '冷链配送时效标',\n",
       "       '包裹计费重量8000（克)', '无指令标', '签收运单抛重4000(kg)', '整车零担标CNBP', '顺丰包裹计费重量',\n",
       "       '冷链夏季包裹重量-商家-非上海', '商家月度普通货品+赠品总库存重量(含残次)', '货品运输单元体积(cm3)',\n",
       "       '非销售出库箱规拆零数', '非销售出库箱规整箱数', '冷链包裹重量g（按报价子类-WHC）',\n",
       "       'by仓类型月度“普通货品+赠品”日结余库存体积和(立方米)-外包装单元体积', 'by仓库类型月度普通货品+赠品良品总库存周转天数',\n",
       "       '服务类问题', '赔付单号', '天猫直送-次日达', '包裹重量(克)', '1688子单合单标', '包裹数量(结算加工)',\n",
       "       '折扣原总计费金额', '渗透率2_剔除618和双11', '折扣原始费用项编码', '包裹体积（立方厘米）', 'filename'],\n",
       "      dtype='object')"
      ]
     },
     "execution_count": 4,
     "metadata": {},
     "output_type": "execute_result"
    }
   ],
   "source": [
    "all_data_concat.columns"
   ]
  },
  {
   "cell_type": "markdown",
   "id": "5351a806",
   "metadata": {},
   "source": [
    "##### 1.0 前期准备 定义函数，从 <数字公式> 中提离出来包裹重量吧"
   ]
  },
  {
   "cell_type": "code",
   "execution_count": 62,
   "id": "73d483bb",
   "metadata": {},
   "outputs": [],
   "source": [
    "# 001 \n",
    "\n",
    "str1 = \"（ceil（（6500.0-3000）/1000））* 1.05+6\"\n",
    "str2 = \"3.65\"\n",
    "\n",
    "def find_weight(str1):\n",
    "    pattern = re.compile(r\"（ceil（（(\\d*.\\d)\")\n",
    "    try :\n",
    "        float(pattern.search(str1).group(1))\n",
    "        return float(pattern.search(str1).group(1))\n",
    "    except :\n",
    "        return 0 \n",
    "str1 = \"（ceil（（6500.0-3000）/1000））* 1.05+6\"\n",
    "find_weight(str1)\n",
    "find_weight(str2)\n",
    "\n",
    "\n",
    "# 002\n",
    "\n",
    "def Tier(weight):\n",
    "    if weight / 1000 > 10 :\n",
    "        Tier = \"X >10kg\"\n",
    "    elif weight / 1000 > 5 :\n",
    "        Tier = \"X >5kg,≤10kg\"\n",
    "    elif weight / 1000 > 3 :\n",
    "        Tier = \"X >3kg,≤5kg\"\n",
    "    elif weight / 1000 > 2 :\n",
    "        Tier = \"X >2kg, ≤3kg\"\n",
    "    elif weight / 1000 > 1 :\n",
    "        Tier = \"X >1kg, ≤2kg\"\n",
    "    elif weight / 1000 > 0.5 :\n",
    "        Tier = \"X >0.5kg, ≤1kg\"\n",
    "    elif weight / 1000 > 0.3 :\n",
    "        Tier = \"X >0.3kg, ≤0.5kg\"\n",
    "    else :\n",
    "        Tier = \"X ≤0.3kg\"\n",
    "    return Tier "
   ]
  },
  {
   "cell_type": "code",
   "execution_count": null,
   "id": "41d07f7b",
   "metadata": {},
   "outputs": [],
   "source": [
    "Order_Handing = all_data_concat[all_data_concat[\"费用项\"]==\"尊享正向配送费\"].reset_index()\n",
    "\n"
   ]
  },
  {
   "cell_type": "code",
   "execution_count": 2,
   "id": "35da5507",
   "metadata": {},
   "outputs": [
    {
     "ename": "NameError",
     "evalue": "name 'all_data_concat' is not defined",
     "output_type": "error",
     "traceback": [
      "\u001b[1;31m---------------------------------------------------------------------------\u001b[0m",
      "\u001b[1;31mNameError\u001b[0m                                 Traceback (most recent call last)",
      "\u001b[1;32mC:\\Users\\CHENGC~1\\AppData\\Local\\Temp/ipykernel_14296/178010793.py\u001b[0m in \u001b[0;36m<module>\u001b[1;34m\u001b[0m\n\u001b[1;32m----> 1\u001b[1;33m \u001b[0mall_data_concat\u001b[0m\u001b[1;33m[\u001b[0m\u001b[1;34m\"费用项\"\u001b[0m\u001b[1;33m]\u001b[0m\u001b[1;33m.\u001b[0m\u001b[0mvalue_counts\u001b[0m\u001b[1;33m(\u001b[0m\u001b[1;33m)\u001b[0m\u001b[1;33m\u001b[0m\u001b[1;33m\u001b[0m\u001b[0m\n\u001b[0m",
      "\u001b[1;31mNameError\u001b[0m: name 'all_data_concat' is not defined"
     ]
    }
   ],
   "source": [
    "all_data_concat[\"费用项\"].value_counts()"
   ]
  },
  {
   "cell_type": "markdown",
   "id": "7ea3fd2c",
   "metadata": {},
   "source": [
    "###### 1.1、快递费"
   ]
  },
  {
   "cell_type": "code",
   "execution_count": 8,
   "id": "365f3288",
   "metadata": {},
   "outputs": [
    {
     "data": {
      "text/html": [
       "<div>\n",
       "<style scoped>\n",
       "    .dataframe tbody tr th:only-of-type {\n",
       "        vertical-align: middle;\n",
       "    }\n",
       "\n",
       "    .dataframe tbody tr th {\n",
       "        vertical-align: top;\n",
       "    }\n",
       "\n",
       "    .dataframe thead th {\n",
       "        text-align: right;\n",
       "    }\n",
       "</style>\n",
       "<table border=\"1\" class=\"dataframe\">\n",
       "  <thead>\n",
       "    <tr style=\"text-align: right;\">\n",
       "      <th></th>\n",
       "      <th>index</th>\n",
       "      <th>单据编号</th>\n",
       "      <th>原始业务主单号</th>\n",
       "      <th>商家名称</th>\n",
       "      <th>服务产品</th>\n",
       "      <th>物流商品</th>\n",
       "      <th>业务时间</th>\n",
       "      <th>计费时间</th>\n",
       "      <th>支付时间</th>\n",
       "      <th>费用项</th>\n",
       "      <th>...</th>\n",
       "      <th>赔付单号</th>\n",
       "      <th>天猫直送-次日达</th>\n",
       "      <th>包裹重量(克)</th>\n",
       "      <th>1688子单合单标</th>\n",
       "      <th>包裹数量(结算加工)</th>\n",
       "      <th>折扣原总计费金额</th>\n",
       "      <th>渗透率2_剔除618和双11</th>\n",
       "      <th>折扣原始费用项编码</th>\n",
       "      <th>包裹体积（立方厘米）</th>\n",
       "      <th>filename</th>\n",
       "    </tr>\n",
       "  </thead>\n",
       "  <tbody>\n",
       "    <tr>\n",
       "      <th>0</th>\n",
       "      <td>83753</td>\n",
       "      <td>'LBX0322728559135612</td>\n",
       "      <td>'M{2379563569590344258}</td>\n",
       "      <td>百威啤酒官方旗舰店</td>\n",
       "      <td>快消</td>\n",
       "      <td>快消仓配物流商品</td>\n",
       "      <td>2022-01-01 08:17:24</td>\n",
       "      <td>2022-01-01 08:17:50</td>\n",
       "      <td>NaN</td>\n",
       "      <td>尊享正向配送费</td>\n",
       "      <td>...</td>\n",
       "      <td>NaN</td>\n",
       "      <td>NaN</td>\n",
       "      <td>NaN</td>\n",
       "      <td>0.0</td>\n",
       "      <td>1.0</td>\n",
       "      <td>NaN</td>\n",
       "      <td>NaN</td>\n",
       "      <td>NaN</td>\n",
       "      <td>NaN</td>\n",
       "      <td>合并账单_快消_历史_202201_2508879272_3279900_1.csv</td>\n",
       "    </tr>\n",
       "    <tr>\n",
       "      <th>1</th>\n",
       "      <td>83754</td>\n",
       "      <td>'LBX0322728557998973</td>\n",
       "      <td>'M{2380214523987571773}</td>\n",
       "      <td>百威啤酒官方旗舰店</td>\n",
       "      <td>快消</td>\n",
       "      <td>快消仓配物流商品</td>\n",
       "      <td>2022-01-01 08:27:31</td>\n",
       "      <td>2022-01-01 08:27:53</td>\n",
       "      <td>NaN</td>\n",
       "      <td>尊享正向配送费</td>\n",
       "      <td>...</td>\n",
       "      <td>NaN</td>\n",
       "      <td>NaN</td>\n",
       "      <td>NaN</td>\n",
       "      <td>0.0</td>\n",
       "      <td>1.0</td>\n",
       "      <td>NaN</td>\n",
       "      <td>NaN</td>\n",
       "      <td>NaN</td>\n",
       "      <td>NaN</td>\n",
       "      <td>合并账单_快消_历史_202201_2508879272_3279900_1.csv</td>\n",
       "    </tr>\n",
       "    <tr>\n",
       "      <th>2</th>\n",
       "      <td>83755</td>\n",
       "      <td>'LBX0322728558600120</td>\n",
       "      <td>'M{2378242548206761962}</td>\n",
       "      <td>百威啤酒官方旗舰店</td>\n",
       "      <td>快消</td>\n",
       "      <td>快消仓配物流商品</td>\n",
       "      <td>2022-01-01 08:23:49</td>\n",
       "      <td>2022-01-01 08:24:09</td>\n",
       "      <td>NaN</td>\n",
       "      <td>尊享正向配送费</td>\n",
       "      <td>...</td>\n",
       "      <td>NaN</td>\n",
       "      <td>NaN</td>\n",
       "      <td>NaN</td>\n",
       "      <td>0.0</td>\n",
       "      <td>2.0</td>\n",
       "      <td>NaN</td>\n",
       "      <td>NaN</td>\n",
       "      <td>NaN</td>\n",
       "      <td>NaN</td>\n",
       "      <td>合并账单_快消_历史_202201_2508879272_3279900_1.csv</td>\n",
       "    </tr>\n",
       "    <tr>\n",
       "      <th>3</th>\n",
       "      <td>83756</td>\n",
       "      <td>'LBX0322728558600120</td>\n",
       "      <td>'M{2378242548206761962}</td>\n",
       "      <td>百威啤酒官方旗舰店</td>\n",
       "      <td>快消</td>\n",
       "      <td>快消仓配物流商品</td>\n",
       "      <td>2022-01-01 08:23:49</td>\n",
       "      <td>2022-01-01 08:24:09</td>\n",
       "      <td>NaN</td>\n",
       "      <td>尊享正向配送费</td>\n",
       "      <td>...</td>\n",
       "      <td>NaN</td>\n",
       "      <td>NaN</td>\n",
       "      <td>NaN</td>\n",
       "      <td>0.0</td>\n",
       "      <td>2.0</td>\n",
       "      <td>NaN</td>\n",
       "      <td>NaN</td>\n",
       "      <td>NaN</td>\n",
       "      <td>NaN</td>\n",
       "      <td>合并账单_快消_历史_202201_2508879272_3279900_1.csv</td>\n",
       "    </tr>\n",
       "    <tr>\n",
       "      <th>4</th>\n",
       "      <td>83757</td>\n",
       "      <td>'LBX0322728558460061</td>\n",
       "      <td>'M{2379310849414287953}</td>\n",
       "      <td>百威啤酒官方旗舰店</td>\n",
       "      <td>快消</td>\n",
       "      <td>快消仓配物流商品</td>\n",
       "      <td>2022-01-01 08:24:26</td>\n",
       "      <td>2022-01-01 08:24:41</td>\n",
       "      <td>NaN</td>\n",
       "      <td>尊享正向配送费</td>\n",
       "      <td>...</td>\n",
       "      <td>NaN</td>\n",
       "      <td>NaN</td>\n",
       "      <td>NaN</td>\n",
       "      <td>0.0</td>\n",
       "      <td>1.0</td>\n",
       "      <td>NaN</td>\n",
       "      <td>NaN</td>\n",
       "      <td>NaN</td>\n",
       "      <td>NaN</td>\n",
       "      <td>合并账单_快消_历史_202201_2508879272_3279900_1.csv</td>\n",
       "    </tr>\n",
       "    <tr>\n",
       "      <th>...</th>\n",
       "      <td>...</td>\n",
       "      <td>...</td>\n",
       "      <td>...</td>\n",
       "      <td>...</td>\n",
       "      <td>...</td>\n",
       "      <td>...</td>\n",
       "      <td>...</td>\n",
       "      <td>...</td>\n",
       "      <td>...</td>\n",
       "      <td>...</td>\n",
       "      <td>...</td>\n",
       "      <td>...</td>\n",
       "      <td>...</td>\n",
       "      <td>...</td>\n",
       "      <td>...</td>\n",
       "      <td>...</td>\n",
       "      <td>...</td>\n",
       "      <td>...</td>\n",
       "      <td>...</td>\n",
       "      <td>...</td>\n",
       "      <td>...</td>\n",
       "    </tr>\n",
       "    <tr>\n",
       "      <th>426171</th>\n",
       "      <td>509924</td>\n",
       "      <td>'LBX0322728779946802</td>\n",
       "      <td>'M{2446236794238943060}</td>\n",
       "      <td>百威啤酒官方旗舰店</td>\n",
       "      <td>快消</td>\n",
       "      <td>快消仓配物流商品</td>\n",
       "      <td>2022-01-31 18:09:33</td>\n",
       "      <td>2022-01-31 18:09:54</td>\n",
       "      <td>NaN</td>\n",
       "      <td>尊享正向配送费</td>\n",
       "      <td>...</td>\n",
       "      <td>NaN</td>\n",
       "      <td>NaN</td>\n",
       "      <td>NaN</td>\n",
       "      <td>0.0</td>\n",
       "      <td>2.0</td>\n",
       "      <td>NaN</td>\n",
       "      <td>NaN</td>\n",
       "      <td>NaN</td>\n",
       "      <td>NaN</td>\n",
       "      <td>合并账单_快消_历史_202201_2508879272_3279900_1.csv</td>\n",
       "    </tr>\n",
       "    <tr>\n",
       "      <th>426172</th>\n",
       "      <td>509925</td>\n",
       "      <td>'LBX0322728779946802</td>\n",
       "      <td>'M{2446236794238943060}</td>\n",
       "      <td>百威啤酒官方旗舰店</td>\n",
       "      <td>快消</td>\n",
       "      <td>快消仓配物流商品</td>\n",
       "      <td>2022-01-31 18:09:33</td>\n",
       "      <td>2022-01-31 18:09:54</td>\n",
       "      <td>NaN</td>\n",
       "      <td>尊享正向配送费</td>\n",
       "      <td>...</td>\n",
       "      <td>NaN</td>\n",
       "      <td>NaN</td>\n",
       "      <td>NaN</td>\n",
       "      <td>0.0</td>\n",
       "      <td>2.0</td>\n",
       "      <td>NaN</td>\n",
       "      <td>NaN</td>\n",
       "      <td>NaN</td>\n",
       "      <td>NaN</td>\n",
       "      <td>合并账单_快消_历史_202201_2508879272_3279900_1.csv</td>\n",
       "    </tr>\n",
       "    <tr>\n",
       "      <th>426173</th>\n",
       "      <td>509926</td>\n",
       "      <td>'LBX0322728779984327</td>\n",
       "      <td>'M{2448166611491582217}</td>\n",
       "      <td>百威啤酒官方旗舰店</td>\n",
       "      <td>快消</td>\n",
       "      <td>快消仓配物流商品</td>\n",
       "      <td>2022-01-31 18:10:37</td>\n",
       "      <td>2022-01-31 18:10:58</td>\n",
       "      <td>NaN</td>\n",
       "      <td>尊享正向配送费</td>\n",
       "      <td>...</td>\n",
       "      <td>NaN</td>\n",
       "      <td>NaN</td>\n",
       "      <td>NaN</td>\n",
       "      <td>0.0</td>\n",
       "      <td>1.0</td>\n",
       "      <td>NaN</td>\n",
       "      <td>NaN</td>\n",
       "      <td>NaN</td>\n",
       "      <td>NaN</td>\n",
       "      <td>合并账单_快消_历史_202201_2508879272_3279900_1.csv</td>\n",
       "    </tr>\n",
       "    <tr>\n",
       "      <th>426174</th>\n",
       "      <td>509927</td>\n",
       "      <td>'LBX0322728779968630</td>\n",
       "      <td>'M{2445083568158004921}</td>\n",
       "      <td>百威啤酒官方旗舰店</td>\n",
       "      <td>快消</td>\n",
       "      <td>快消仓配物流商品</td>\n",
       "      <td>2022-01-31 18:09:40</td>\n",
       "      <td>2022-01-31 18:09:54</td>\n",
       "      <td>NaN</td>\n",
       "      <td>尊享正向配送费</td>\n",
       "      <td>...</td>\n",
       "      <td>NaN</td>\n",
       "      <td>NaN</td>\n",
       "      <td>NaN</td>\n",
       "      <td>0.0</td>\n",
       "      <td>1.0</td>\n",
       "      <td>NaN</td>\n",
       "      <td>NaN</td>\n",
       "      <td>NaN</td>\n",
       "      <td>NaN</td>\n",
       "      <td>合并账单_快消_历史_202201_2508879272_3279900_1.csv</td>\n",
       "    </tr>\n",
       "    <tr>\n",
       "      <th>426175</th>\n",
       "      <td>509928</td>\n",
       "      <td>'LBX0322728779962621</td>\n",
       "      <td>'M{2446901137428560523}</td>\n",
       "      <td>百威啤酒官方旗舰店</td>\n",
       "      <td>快消</td>\n",
       "      <td>快消仓配物流商品</td>\n",
       "      <td>2022-01-31 18:09:38</td>\n",
       "      <td>2022-01-31 18:09:54</td>\n",
       "      <td>NaN</td>\n",
       "      <td>尊享正向配送费</td>\n",
       "      <td>...</td>\n",
       "      <td>NaN</td>\n",
       "      <td>NaN</td>\n",
       "      <td>NaN</td>\n",
       "      <td>0.0</td>\n",
       "      <td>1.0</td>\n",
       "      <td>NaN</td>\n",
       "      <td>NaN</td>\n",
       "      <td>NaN</td>\n",
       "      <td>NaN</td>\n",
       "      <td>合并账单_快消_历史_202201_2508879272_3279900_1.csv</td>\n",
       "    </tr>\n",
       "  </tbody>\n",
       "</table>\n",
       "<p>426176 rows × 94 columns</p>\n",
       "</div>"
      ],
      "text/plain": [
       "         index                  单据编号                  原始业务主单号       商家名称 服务产品  \\\n",
       "0        83753  'LBX0322728559135612  'M{2379563569590344258}  百威啤酒官方旗舰店   快消   \n",
       "1        83754  'LBX0322728557998973  'M{2380214523987571773}  百威啤酒官方旗舰店   快消   \n",
       "2        83755  'LBX0322728558600120  'M{2378242548206761962}  百威啤酒官方旗舰店   快消   \n",
       "3        83756  'LBX0322728558600120  'M{2378242548206761962}  百威啤酒官方旗舰店   快消   \n",
       "4        83757  'LBX0322728558460061  'M{2379310849414287953}  百威啤酒官方旗舰店   快消   \n",
       "...        ...                   ...                      ...        ...  ...   \n",
       "426171  509924  'LBX0322728779946802  'M{2446236794238943060}  百威啤酒官方旗舰店   快消   \n",
       "426172  509925  'LBX0322728779946802  'M{2446236794238943060}  百威啤酒官方旗舰店   快消   \n",
       "426173  509926  'LBX0322728779984327  'M{2448166611491582217}  百威啤酒官方旗舰店   快消   \n",
       "426174  509927  'LBX0322728779968630  'M{2445083568158004921}  百威啤酒官方旗舰店   快消   \n",
       "426175  509928  'LBX0322728779962621  'M{2446901137428560523}  百威啤酒官方旗舰店   快消   \n",
       "\n",
       "            物流商品                 业务时间                 计费时间  支付时间      费用项  \\\n",
       "0       快消仓配物流商品  2022-01-01 08:17:24  2022-01-01 08:17:50   NaN  尊享正向配送费   \n",
       "1       快消仓配物流商品  2022-01-01 08:27:31  2022-01-01 08:27:53   NaN  尊享正向配送费   \n",
       "2       快消仓配物流商品  2022-01-01 08:23:49  2022-01-01 08:24:09   NaN  尊享正向配送费   \n",
       "3       快消仓配物流商品  2022-01-01 08:23:49  2022-01-01 08:24:09   NaN  尊享正向配送费   \n",
       "4       快消仓配物流商品  2022-01-01 08:24:26  2022-01-01 08:24:41   NaN  尊享正向配送费   \n",
       "...          ...                  ...                  ...   ...      ...   \n",
       "426171  快消仓配物流商品  2022-01-31 18:09:33  2022-01-31 18:09:54   NaN  尊享正向配送费   \n",
       "426172  快消仓配物流商品  2022-01-31 18:09:33  2022-01-31 18:09:54   NaN  尊享正向配送费   \n",
       "426173  快消仓配物流商品  2022-01-31 18:10:37  2022-01-31 18:10:58   NaN  尊享正向配送费   \n",
       "426174  快消仓配物流商品  2022-01-31 18:09:40  2022-01-31 18:09:54   NaN  尊享正向配送费   \n",
       "426175  快消仓配物流商品  2022-01-31 18:09:38  2022-01-31 18:09:54   NaN  尊享正向配送费   \n",
       "\n",
       "        ... 赔付单号  天猫直送-次日达 包裹重量(克)  1688子单合单标 包裹数量(结算加工) 折扣原总计费金额  \\\n",
       "0       ...  NaN       NaN     NaN        0.0        1.0      NaN   \n",
       "1       ...  NaN       NaN     NaN        0.0        1.0      NaN   \n",
       "2       ...  NaN       NaN     NaN        0.0        2.0      NaN   \n",
       "3       ...  NaN       NaN     NaN        0.0        2.0      NaN   \n",
       "4       ...  NaN       NaN     NaN        0.0        1.0      NaN   \n",
       "...     ...  ...       ...     ...        ...        ...      ...   \n",
       "426171  ...  NaN       NaN     NaN        0.0        2.0      NaN   \n",
       "426172  ...  NaN       NaN     NaN        0.0        2.0      NaN   \n",
       "426173  ...  NaN       NaN     NaN        0.0        1.0      NaN   \n",
       "426174  ...  NaN       NaN     NaN        0.0        1.0      NaN   \n",
       "426175  ...  NaN       NaN     NaN        0.0        1.0      NaN   \n",
       "\n",
       "       渗透率2_剔除618和双11 折扣原始费用项编码  包裹体积（立方厘米）  \\\n",
       "0                 NaN       NaN         NaN   \n",
       "1                 NaN       NaN         NaN   \n",
       "2                 NaN       NaN         NaN   \n",
       "3                 NaN       NaN         NaN   \n",
       "4                 NaN       NaN         NaN   \n",
       "...               ...       ...         ...   \n",
       "426171            NaN       NaN         NaN   \n",
       "426172            NaN       NaN         NaN   \n",
       "426173            NaN       NaN         NaN   \n",
       "426174            NaN       NaN         NaN   \n",
       "426175            NaN       NaN         NaN   \n",
       "\n",
       "                                          filename  \n",
       "0       合并账单_快消_历史_202201_2508879272_3279900_1.csv  \n",
       "1       合并账单_快消_历史_202201_2508879272_3279900_1.csv  \n",
       "2       合并账单_快消_历史_202201_2508879272_3279900_1.csv  \n",
       "3       合并账单_快消_历史_202201_2508879272_3279900_1.csv  \n",
       "4       合并账单_快消_历史_202201_2508879272_3279900_1.csv  \n",
       "...                                            ...  \n",
       "426171  合并账单_快消_历史_202201_2508879272_3279900_1.csv  \n",
       "426172  合并账单_快消_历史_202201_2508879272_3279900_1.csv  \n",
       "426173  合并账单_快消_历史_202201_2508879272_3279900_1.csv  \n",
       "426174  合并账单_快消_历史_202201_2508879272_3279900_1.csv  \n",
       "426175  合并账单_快消_历史_202201_2508879272_3279900_1.csv  \n",
       "\n",
       "[426176 rows x 94 columns]"
      ]
     },
     "execution_count": 8,
     "metadata": {},
     "output_type": "execute_result"
    }
   ],
   "source": [
    "Last_Mile_Delivery = all_data_concat[all_data_concat[\"费用项\"]==\"尊享正向配送费\"].reset_index()\n",
    "\n",
    "Last_Mile_Delivery"
   ]
  },
  {
   "cell_type": "markdown",
   "id": "68bbc6f6",
   "metadata": {},
   "source": [
    "* 1、拿Last_Mile_Delivery中一行记录看一下"
   ]
  },
  {
   "cell_type": "code",
   "execution_count": 76,
   "id": "1f068d38",
   "metadata": {},
   "outputs": [
    {
     "data": {
      "text/plain": [
       "index                                                                         83753\n",
       "单据编号                                                           'LBX0322728559135612\n",
       "原始业务主单号                                                     'M{2379563569590344258}\n",
       "商家名称                                                                      百威啤酒官方旗舰店\n",
       "服务产品                                                                             快消\n",
       "物流商品                                                                       快消仓配物流商品\n",
       "业务时间                                                            2022-01-01 08:17:24\n",
       "计费时间                                                            2022-01-01 08:17:50\n",
       "支付时间                                                                            NaN\n",
       "费用项                                                                         尊享正向配送费\n",
       "计费币种                                                                            CNY\n",
       "计费金额                                                                           10.2\n",
       "支付币种                                                                            CNY\n",
       "支付金额                                                                           10.2\n",
       "支付方式                                                                             线下\n",
       "账单类型                                                                             正常\n",
       "支付状态                                                                            支付中\n",
       "结算周期                                                                            灵活月\n",
       "结算账户                                                                     2508879272\n",
       "支付流水号                                                                           NaN\n",
       "中文翻译                                       计费结果=（向上取整（（配送包裹计费重量-首重）/续重））* 续重价格+首重价格\n",
       "数字公式                                             （ceil（（6500.0-3000）/1000））* 1.05+6\n",
       "调账原因                                                                            NaN\n",
       "订单SKU种类数量                                                                       1.0\n",
       "ERP订单号                                                         'LBX0322728559135612\n",
       "服务产品.1                                                              5000000000059.0\n",
       "包材型号                                                                            NaN\n",
       "当季度存储计费月份数                                                                      NaN\n",
       "件型                                                                              NaN\n",
       "erp单号                                                               CK2021123126856\n",
       "正向物流宝订单号                                                                        NaN\n",
       "店铺名称                                                                franziskaner旗舰店\n",
       "店铺ID                                                                    505876697.0\n",
       "交易订单号                                                          '2379563569590344258\n",
       "运单号                                                                '612303586168906\n",
       "仓库名称                                                                    菜鸟东北沈阳标准5号仓\n",
       "CN订单SKU总重量(克)                                                                6500.0\n",
       "商品数量总和                                                                          1.0\n",
       "CN订单SKU总体积(立方厘米)                                                             9180.0\n",
       "起始省                                                                             辽宁省\n",
       "起始市                                                                             沈阳市\n",
       "起始区                                                                            浑南新区\n",
       "目的省                                                                             辽宁省\n",
       "目的市                                                                             沈阳市\n",
       "目的区                                                                             大东区\n",
       "仓cp的编码                                                                       SHE206\n",
       "包裹总重量(克)                                                                     6500.0\n",
       "原箱非原箱标                                                                          1.0\n",
       "单体防护方案编码                                                                        NaN\n",
       "商品数量                                                                            NaN\n",
       "包材数量                                                                            NaN\n",
       "商品ID                                                                            NaN\n",
       "周转天数                                                                            NaN\n",
       "季度普通货品+赠品总库存周转天数                                                                NaN\n",
       "泡重实重取大kg(重泡比4)                                                                6.432\n",
       "订单SKU总体积包裹总计泡重8                                                              6500.0\n",
       "商品件数总和                                                                          NaN\n",
       "DM单数量                                                                           NaN\n",
       "CNSKU体积(立方厘米)                                                                   NaN\n",
       "主单公式翻译                                                                          NaN\n",
       "子单公式翻译                                                                          NaN\n",
       "整车/零担标                                                                          NaN\n",
       "调拨车型                                                                            NaN\n",
       "仓库类型                                                                         ZONGHE\n",
       "交易订单保价金额                                                                        NaN\n",
       "主单商品id                                                                          NaN\n",
       "主单商品名称                                                                          NaN\n",
       "配送包裹计费重量                                                                     6500.0\n",
       "包裹运单号                                                                           NaN\n",
       "冷链配送时效标                                                                         24H\n",
       "包裹计费重量8000（克)                                                                6500.0\n",
       "无指令标                                                                            0.0\n",
       "签收运单抛重4000(kg)                                                                  NaN\n",
       "整车零担标CNBP                                                                       NaN\n",
       "顺丰包裹计费重量                                                                     6500.0\n",
       "冷链夏季包裹重量-商家-非上海                                                              7900.0\n",
       "商家月度普通货品+赠品总库存重量(含残次)                                                           NaN\n",
       "货品运输单元体积(cm3)                                                                9520.0\n",
       "非销售出库箱规拆零数                                                                      NaN\n",
       "非销售出库箱规整箱数                                                                      NaN\n",
       "冷链包裹重量g（按报价子类-WHC）                                                              NaN\n",
       "by仓类型月度“普通货品+赠品”日结余库存体积和(立方米)-外包装单元体积                                           NaN\n",
       "by仓库类型月度普通货品+赠品良品总库存周转天数                                                        NaN\n",
       "服务类问题                                                                           NaN\n",
       "赔付单号                                                                            NaN\n",
       "天猫直送-次日达                                                                        NaN\n",
       "包裹重量(克)                                                                         NaN\n",
       "1688子单合单标                                                                       0.0\n",
       "包裹数量(结算加工)                                                                      1.0\n",
       "折扣原总计费金额                                                                        NaN\n",
       "渗透率2_剔除618和双11                                                                  NaN\n",
       "折扣原始费用项编码                                                                       NaN\n",
       "包裹体积（立方厘米）                                                                      NaN\n",
       "filename                                 合并账单_快消_历史_202201_2508879272_3279900_1.csv\n",
       "包裹重量_C                                                                       6500.0\n",
       "Tier                                                                   X >5kg,≤10kg\n",
       "原始订单_C                                                         '2379563569590344258\n",
       "Name: 0, dtype: object"
      ]
     },
     "execution_count": 76,
     "metadata": {},
     "output_type": "execute_result"
    }
   ],
   "source": [
    "Last_Mile_Delivery.iloc[0,:].T"
   ]
  },
  {
   "cell_type": "code",
   "execution_count": null,
   "id": "a79641fe",
   "metadata": {},
   "outputs": [],
   "source": []
  },
  {
   "cell_type": "markdown",
   "id": "75083b8d",
   "metadata": {},
   "source": [
    "* 2、从数字公式中把包裹重量剥离出来"
   ]
  },
  {
   "cell_type": "code",
   "execution_count": 101,
   "id": "589c1633",
   "metadata": {},
   "outputs": [],
   "source": [
    "Last_Mile_Delivery[\"包裹重量_C\"] = Last_Mile_Delivery[\"数字公式\"].map(find_weight)/1000"
   ]
  },
  {
   "cell_type": "markdown",
   "id": "ef57859c",
   "metadata": {},
   "source": [
    "* 3、试验一下剥离出来的包裹重量和配送包裹计费重量是否一致吧，哈哈，Check "
   ]
  },
  {
   "cell_type": "code",
   "execution_count": 43,
   "id": "20584959",
   "metadata": {},
   "outputs": [
    {
     "data": {
      "text/plain": [
       "3608542925.5"
      ]
     },
     "execution_count": 43,
     "metadata": {},
     "output_type": "execute_result"
    }
   ],
   "source": [
    "Last_Mile_Delivery[\"包裹重量_C\"][Last_Mile_Delivery[\"包裹重量_C\"]!=0].sum()"
   ]
  },
  {
   "cell_type": "code",
   "execution_count": 50,
   "id": "9fa9eeb8",
   "metadata": {},
   "outputs": [
    {
     "data": {
      "text/plain": [
       "3608542962.723625"
      ]
     },
     "execution_count": 50,
     "metadata": {},
     "output_type": "execute_result"
    }
   ],
   "source": [
    "Last_Mile_Delivery[\"配送包裹计费重量\"][Last_Mile_Delivery[\"包裹重量_C\"]!=0].sum()"
   ]
  },
  {
   "cell_type": "markdown",
   "id": "83026471",
   "metadata": {},
   "source": [
    "* 4、对中文翻译的公式去重"
   ]
  },
  {
   "cell_type": "code",
   "execution_count": 49,
   "id": "53abd26e",
   "metadata": {
    "scrolled": true
   },
   "outputs": [
    {
     "data": {
      "text/plain": [
       "array(['计费结果=（向上取整（（配送包裹计费重量-首重）/续重））* 续重价格+首重价格', '计费结果=首重价格'],\n",
       "      dtype=object)"
      ]
     },
     "execution_count": 49,
     "metadata": {},
     "output_type": "execute_result"
    }
   ],
   "source": [
    "Last_Mile_Delivery[\"中文翻译\"].unique()"
   ]
  },
  {
   "cell_type": "markdown",
   "id": "d0989633",
   "metadata": {},
   "source": [
    "* 5、建立快递费的重量段"
   ]
  },
  {
   "cell_type": "code",
   "execution_count": 63,
   "id": "fb468e17",
   "metadata": {},
   "outputs": [
    {
     "data": {
      "text/plain": [
       "X >5kg,≤10kg        289224\n",
       "X >10kg              64722\n",
       "X >3kg,≤5kg          60495\n",
       "X >1kg, ≤2kg          4134\n",
       "X >2kg, ≤3kg          3459\n",
       "X ≤0.3kg              2228\n",
       "X >0.5kg, ≤1kg        1312\n",
       "X >0.3kg, ≤0.5kg       602\n",
       "Name: Tier, dtype: int64"
      ]
     },
     "execution_count": 63,
     "metadata": {},
     "output_type": "execute_result"
    }
   ],
   "source": [
    "Last_Mile_Delivery[\"Tier\"] = Last_Mile_Delivery[\"配送包裹计费重量\"].map(Tier)\n",
    "\n",
    "Last_Mile_Delivery[\"Tier\"].value_counts()"
   ]
  },
  {
   "cell_type": "code",
   "execution_count": 143,
   "id": "e3056409",
   "metadata": {},
   "outputs": [],
   "source": [
    "Last_Mile_Delivery[\"配送包裹计费重量_C\"] = Last_Mile_Delivery[\"配送包裹计费重量\"]/1000"
   ]
  },
  {
   "cell_type": "code",
   "execution_count": 64,
   "id": "c8ab6910",
   "metadata": {},
   "outputs": [
    {
     "data": {
      "text/plain": [
       "X >5kg,≤10kg        0.678649\n",
       "X >10kg             0.151867\n",
       "X >3kg,≤5kg         0.141948\n",
       "X >1kg, ≤2kg        0.009700\n",
       "X >2kg, ≤3kg        0.008116\n",
       "X ≤0.3kg            0.005228\n",
       "X >0.5kg, ≤1kg      0.003079\n",
       "X >0.3kg, ≤0.5kg    0.001413\n",
       "Name: Tier, dtype: float64"
      ]
     },
     "execution_count": 64,
     "metadata": {},
     "output_type": "execute_result"
    }
   ],
   "source": [
    "Last_Mile_Delivery[\"Tier\"].value_counts()/Last_Mile_Delivery[\"Tier\"].value_counts().sum()"
   ]
  },
  {
   "cell_type": "markdown",
   "id": "0c53596f",
   "metadata": {},
   "source": [
    "* 6、去重原始订单量吧，咋样呢"
   ]
  },
  {
   "cell_type": "code",
   "execution_count": 131,
   "id": "4a6ddfff",
   "metadata": {},
   "outputs": [
    {
     "name": "stderr",
     "output_type": "stream",
     "text": [
      "C:\\Users\\CHENGC~1\\AppData\\Local\\Temp/ipykernel_6072/3705441298.py:1: SettingWithCopyWarning: \n",
      "A value is trying to be set on a copy of a slice from a DataFrame\n",
      "\n",
      "See the caveats in the documentation: https://pandas.pydata.org/pandas-docs/stable/user_guide/indexing.html#returning-a-view-versus-a-copy\n",
      "  Last_Mile_Delivery[\"原始订单_C\"][Last_Mile_Delivery[\"交易订单号\"].duplicated()==False] = 1\n",
      "C:\\Users\\CHENGC~1\\AppData\\Local\\Temp/ipykernel_6072/3705441298.py:2: SettingWithCopyWarning: \n",
      "A value is trying to be set on a copy of a slice from a DataFrame\n",
      "\n",
      "See the caveats in the documentation: https://pandas.pydata.org/pandas-docs/stable/user_guide/indexing.html#returning-a-view-versus-a-copy\n",
      "  Last_Mile_Delivery[\"原始订单_C\"][Last_Mile_Delivery[\"交易订单号\"].duplicated()==True] = 0\n"
     ]
    },
    {
     "data": {
      "text/plain": [
       "0         1\n",
       "1         1\n",
       "2         1\n",
       "3         0\n",
       "4         1\n",
       "         ..\n",
       "426171    1\n",
       "426172    0\n",
       "426173    1\n",
       "426174    1\n",
       "426175    1\n",
       "Name: 原始订单_C, Length: 426176, dtype: object"
      ]
     },
     "execution_count": 131,
     "metadata": {},
     "output_type": "execute_result"
    }
   ],
   "source": [
    "Last_Mile_Delivery[\"原始订单_C\"][Last_Mile_Delivery[\"交易订单号\"].duplicated()==False] = 1 \n",
    "Last_Mile_Delivery[\"原始订单_C\"][Last_Mile_Delivery[\"交易订单号\"].duplicated()==True] = 0 \n",
    "\n",
    "Last_Mile_Delivery[\"原始订单_C\"]"
   ]
  },
  {
   "cell_type": "code",
   "execution_count": 122,
   "id": "db4de48b",
   "metadata": {
    "scrolled": true
   },
   "outputs": [
    {
     "data": {
      "text/plain": [
       "0         '2379563569590344258\n",
       "1         '2380214523987571773\n",
       "2         '2378242548206761962\n",
       "3                             \n",
       "4         '2379310849414287953\n",
       "                  ...         \n",
       "426171    '2446236794238943060\n",
       "426172                        \n",
       "426173    '2448166611491582217\n",
       "426174    '2445083568158004921\n",
       "426175    '2446901137428560523\n",
       "Name: 原始订单_C, Length: 426176, dtype: object"
      ]
     },
     "execution_count": 122,
     "metadata": {},
     "output_type": "execute_result"
    }
   ],
   "source": [
    "Last_Mile_Delivery[\"原始订单_C\"]"
   ]
  },
  {
   "cell_type": "code",
   "execution_count": 75,
   "id": "cfaa4bf2",
   "metadata": {},
   "outputs": [
    {
     "data": {
      "text/plain": [
       "False    333825\n",
       "True      92351\n",
       "Name: 交易订单号, dtype: int64"
      ]
     },
     "execution_count": 75,
     "metadata": {},
     "output_type": "execute_result"
    }
   ],
   "source": [
    "Last_Mile_Delivery[\"交易订单号\"].duplicated().value_counts()"
   ]
  },
  {
   "cell_type": "markdown",
   "id": "2c7b582a",
   "metadata": {},
   "source": [
    "* 7、商品数量总和 去重"
   ]
  },
  {
   "cell_type": "code",
   "execution_count": 129,
   "id": "ac90865c",
   "metadata": {},
   "outputs": [],
   "source": [
    "Last_Mile_Delivery[\"商品数量_C\"] = Last_Mile_Delivery[[\"商品数量总和\",\"单据编号\"]].drop_duplicates(subset=[\"单据编号\"]).reindex([\"商品数量总和\"],axis=1)\n",
    "\n",
    "Last_Mile_Delivery[\"商品数量_C\"].fillna(0,inplace=True)"
   ]
  },
  {
   "cell_type": "code",
   "execution_count": 103,
   "id": "4b81676f",
   "metadata": {},
   "outputs": [
    {
     "data": {
      "text/plain": [
       "0         0.009180\n",
       "1         0.013450\n",
       "2         0.014866\n",
       "3         0.014866\n",
       "4         0.017071\n",
       "            ...   \n",
       "426171    0.014866\n",
       "426172    0.014866\n",
       "426173    0.014045\n",
       "426174    0.014866\n",
       "426175    0.014045\n",
       "Name: 包裹体积(m³)_C, Length: 426176, dtype: float64"
      ]
     },
     "execution_count": 103,
     "metadata": {},
     "output_type": "execute_result"
    }
   ],
   "source": [
    "Last_Mile_Delivery[\"包裹体积(m³)_C\"] = Last_Mile_Delivery[\"CN订单SKU总体积(立方厘米)\"]/Last_Mile_Delivery[\"商品数量总和\"]/1000000\n",
    "\n",
    "Last_Mile_Delivery[\"包裹体积(m³)_C\"]"
   ]
  },
  {
   "cell_type": "code",
   "execution_count": 102,
   "id": "2d873673",
   "metadata": {},
   "outputs": [
    {
     "data": {
      "text/plain": [
       "0          7\n",
       "1          9\n",
       "2         10\n",
       "3         10\n",
       "4         12\n",
       "          ..\n",
       "426171    11\n",
       "426172    11\n",
       "426173    10\n",
       "426174    11\n",
       "426175    11\n",
       "Name: 计费重量_C, Length: 426176, dtype: int64"
      ]
     },
     "execution_count": 102,
     "metadata": {},
     "output_type": "execute_result"
    }
   ],
   "source": [
    "Last_Mile_Delivery[\"计费重量_C\"] = Last_Mile_Delivery[\"包裹重量_C\"].map(int)+1\n",
    "\n",
    "Last_Mile_Delivery[\"计费重量_C\"]"
   ]
  },
  {
   "cell_type": "markdown",
   "id": "70588e74",
   "metadata": {},
   "source": [
    "* 8、拿更新过的表，重新看一下吧"
   ]
  },
  {
   "cell_type": "code",
   "execution_count": 144,
   "id": "4402fa03",
   "metadata": {},
   "outputs": [
    {
     "data": {
      "text/plain": [
       "index                           83753\n",
       "单据编号             'LBX0322728559135612\n",
       "原始业务主单号       'M{2379563569590344258}\n",
       "商家名称                        百威啤酒官方旗舰店\n",
       "服务产品                               快消\n",
       "                       ...           \n",
       "原始订单_C                              1\n",
       "商品数量_C                            1.0\n",
       "包裹体积(m³)_C                    0.00918\n",
       "计费重量_C                              7\n",
       "配送包裹计费重量_C                        6.5\n",
       "Name: 0, Length: 101, dtype: object"
      ]
     },
     "execution_count": 144,
     "metadata": {},
     "output_type": "execute_result"
    }
   ],
   "source": [
    "Last_Mile_Delivery.iloc[0,:].T"
   ]
  },
  {
   "cell_type": "code",
   "execution_count": 145,
   "id": "9fb1d4d2",
   "metadata": {
    "scrolled": true
   },
   "outputs": [
    {
     "data": {
      "text/html": [
       "<div>\n",
       "<style scoped>\n",
       "    .dataframe tbody tr th:only-of-type {\n",
       "        vertical-align: middle;\n",
       "    }\n",
       "\n",
       "    .dataframe tbody tr th {\n",
       "        vertical-align: top;\n",
       "    }\n",
       "\n",
       "    .dataframe thead th {\n",
       "        text-align: right;\n",
       "    }\n",
       "</style>\n",
       "<table border=\"1\" class=\"dataframe\">\n",
       "  <thead>\n",
       "    <tr style=\"text-align: right;\">\n",
       "      <th></th>\n",
       "      <th></th>\n",
       "      <th></th>\n",
       "      <th></th>\n",
       "      <th>原始订单_C</th>\n",
       "      <th>商品数量_C</th>\n",
       "      <th>计费重量_C</th>\n",
       "      <th>计费金额</th>\n",
       "      <th>运单号</th>\n",
       "      <th>配送包裹计费重量_C</th>\n",
       "    </tr>\n",
       "    <tr>\n",
       "      <th>店铺名称</th>\n",
       "      <th>起始市</th>\n",
       "      <th>Tier</th>\n",
       "      <th>目的省</th>\n",
       "      <th></th>\n",
       "      <th></th>\n",
       "      <th></th>\n",
       "      <th></th>\n",
       "      <th></th>\n",
       "      <th></th>\n",
       "    </tr>\n",
       "  </thead>\n",
       "  <tbody>\n",
       "    <tr>\n",
       "      <th rowspan=\"5\" valign=\"top\">GUINNESS健力士旗舰店</th>\n",
       "      <th rowspan=\"5\" valign=\"top\">嘉兴市</th>\n",
       "      <th rowspan=\"5\" valign=\"top\">X &gt;10kg</th>\n",
       "      <th>上海</th>\n",
       "      <td>255</td>\n",
       "      <td>365.0</td>\n",
       "      <td>4705</td>\n",
       "      <td>5.983350e+03</td>\n",
       "      <td>366</td>\n",
       "      <td>4.490969e+03</td>\n",
       "    </tr>\n",
       "    <tr>\n",
       "      <th>内蒙古自治区</th>\n",
       "      <td>16</td>\n",
       "      <td>20.0</td>\n",
       "      <td>267</td>\n",
       "      <td>7.128000e+02</td>\n",
       "      <td>20</td>\n",
       "      <td>2.552390e+02</td>\n",
       "    </tr>\n",
       "    <tr>\n",
       "      <th>北京</th>\n",
       "      <td>79</td>\n",
       "      <td>124.0</td>\n",
       "      <td>1626</td>\n",
       "      <td>4.341600e+03</td>\n",
       "      <td>122</td>\n",
       "      <td>1.551964e+03</td>\n",
       "    </tr>\n",
       "    <tr>\n",
       "      <th>吉林省</th>\n",
       "      <td>7</td>\n",
       "      <td>10.0</td>\n",
       "      <td>140</td>\n",
       "      <td>3.720000e+02</td>\n",
       "      <td>10</td>\n",
       "      <td>1.382390e+02</td>\n",
       "    </tr>\n",
       "    <tr>\n",
       "      <th>四川省</th>\n",
       "      <td>7</td>\n",
       "      <td>8.0</td>\n",
       "      <td>112</td>\n",
       "      <td>2.976000e+02</td>\n",
       "      <td>8</td>\n",
       "      <td>1.108160e+02</td>\n",
       "    </tr>\n",
       "    <tr>\n",
       "      <th>...</th>\n",
       "      <th>...</th>\n",
       "      <th>...</th>\n",
       "      <th>...</th>\n",
       "      <td>...</td>\n",
       "      <td>...</td>\n",
       "      <td>...</td>\n",
       "      <td>...</td>\n",
       "      <td>...</td>\n",
       "      <td>...</td>\n",
       "    </tr>\n",
       "    <tr>\n",
       "      <th rowspan=\"4\" valign=\"top\">鹅岛啤酒旗舰店</th>\n",
       "      <th rowspan=\"4\" valign=\"top\">武汉市</th>\n",
       "      <th rowspan=\"4\" valign=\"top\">X &gt;10kg</th>\n",
       "      <th>湖北省</th>\n",
       "      <td>5</td>\n",
       "      <td>7.0</td>\n",
       "      <td>112</td>\n",
       "      <td>1.375500e+02</td>\n",
       "      <td>7</td>\n",
       "      <td>1.087030e+02</td>\n",
       "    </tr>\n",
       "    <tr>\n",
       "      <th>湖南省</th>\n",
       "      <td>2</td>\n",
       "      <td>2.0</td>\n",
       "      <td>32</td>\n",
       "      <td>3.930000e+01</td>\n",
       "      <td>2</td>\n",
       "      <td>3.105800e+01</td>\n",
       "    </tr>\n",
       "    <tr>\n",
       "      <th>福建省</th>\n",
       "      <td>1</td>\n",
       "      <td>2.0</td>\n",
       "      <td>34</td>\n",
       "      <td>8.880000e+01</td>\n",
       "      <td>2</td>\n",
       "      <td>3.209800e+01</td>\n",
       "    </tr>\n",
       "    <tr>\n",
       "      <th>黑龙江省</th>\n",
       "      <td>1</td>\n",
       "      <td>1.0</td>\n",
       "      <td>17</td>\n",
       "      <td>4.440000e+01</td>\n",
       "      <td>1</td>\n",
       "      <td>1.634900e+01</td>\n",
       "    </tr>\n",
       "    <tr>\n",
       "      <th>All</th>\n",
       "      <th></th>\n",
       "      <th></th>\n",
       "      <th></th>\n",
       "      <td>333825</td>\n",
       "      <td>445271.0</td>\n",
       "      <td>3810773</td>\n",
       "      <td>6.561776e+06</td>\n",
       "      <td>426176</td>\n",
       "      <td>3.610146e+06</td>\n",
       "    </tr>\n",
       "  </tbody>\n",
       "</table>\n",
       "<p>2708 rows × 6 columns</p>\n",
       "</div>"
      ],
      "text/plain": [
       "                                   原始订单_C    商品数量_C   计费重量_C          计费金额  \\\n",
       "店铺名称           起始市 Tier    目的省                                               \n",
       "GUINNESS健力士旗舰店 嘉兴市 X >10kg 上海         255     365.0     4705  5.983350e+03   \n",
       "                           内蒙古自治区      16      20.0      267  7.128000e+02   \n",
       "                           北京          79     124.0     1626  4.341600e+03   \n",
       "                           吉林省          7      10.0      140  3.720000e+02   \n",
       "                           四川省          7       8.0      112  2.976000e+02   \n",
       "...                                   ...       ...      ...           ...   \n",
       "鹅岛啤酒旗舰店        武汉市 X >10kg 湖北省          5       7.0      112  1.375500e+02   \n",
       "                           湖南省          2       2.0       32  3.930000e+01   \n",
       "                           福建省          1       2.0       34  8.880000e+01   \n",
       "                           黑龙江省         1       1.0       17  4.440000e+01   \n",
       "All                                333825  445271.0  3810773  6.561776e+06   \n",
       "\n",
       "                                      运单号    配送包裹计费重量_C  \n",
       "店铺名称           起始市 Tier    目的省                           \n",
       "GUINNESS健力士旗舰店 嘉兴市 X >10kg 上海         366  4.490969e+03  \n",
       "                           内蒙古自治区      20  2.552390e+02  \n",
       "                           北京         122  1.551964e+03  \n",
       "                           吉林省         10  1.382390e+02  \n",
       "                           四川省          8  1.108160e+02  \n",
       "...                                   ...           ...  \n",
       "鹅岛啤酒旗舰店        武汉市 X >10kg 湖北省          7  1.087030e+02  \n",
       "                           湖南省          2  3.105800e+01  \n",
       "                           福建省          2  3.209800e+01  \n",
       "                           黑龙江省         1  1.634900e+01  \n",
       "All                                426176  3.610146e+06  \n",
       "\n",
       "[2708 rows x 6 columns]"
      ]
     },
     "execution_count": 145,
     "metadata": {},
     "output_type": "execute_result"
    }
   ],
   "source": [
    "pivot_table1 = Last_Mile_Delivery.pivot_table(index= [\"店铺名称\",\"起始市\",\"Tier\",\"目的省\"],\n",
    "                               values=[\"原始订单_C\",\"运单号\",\"商品数量_C\",\"配送包裹计费重量_C\",\"计费重量_C\",\"计费金额\"],\n",
    "                               aggfunc={\"原始订单_C\":sum,\"运单号\":pd.Series.count,\"商品数量_C\":sum,\"配送包裹计费重量_C\":sum,\"计费重量_C\":sum,\"计费金额\":sum},\n",
    "                               margins = True)\n",
    "\n",
    "pivot_table1"
   ]
  },
  {
   "cell_type": "code",
   "execution_count": 146,
   "id": "5120bb93",
   "metadata": {},
   "outputs": [],
   "source": [
    "pivot_table1.to_excel(os.path.join(input_path2,\"pivot_table1.xlsx\"))"
   ]
  },
  {
   "cell_type": "code",
   "execution_count": null,
   "id": "69f5b988",
   "metadata": {},
   "outputs": [],
   "source": []
  }
 ],
 "metadata": {
  "kernelspec": {
   "display_name": "Python 3 (ipykernel)",
   "language": "python",
   "name": "python3"
  },
  "language_info": {
   "codemirror_mode": {
    "name": "ipython",
    "version": 3
   },
   "file_extension": ".py",
   "mimetype": "text/x-python",
   "name": "python",
   "nbconvert_exporter": "python",
   "pygments_lexer": "ipython3",
   "version": "3.9.7"
  }
 },
 "nbformat": 4,
 "nbformat_minor": 5
}
