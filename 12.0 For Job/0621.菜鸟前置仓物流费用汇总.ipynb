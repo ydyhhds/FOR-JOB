{
 "cells": [
  {
   "cell_type": "code",
   "execution_count": 1,
   "id": "e0866f5d",
   "metadata": {},
   "outputs": [],
   "source": [
    "import pandas as pd \n",
    "import os \n",
    "import glob "
   ]
  },
  {
   "cell_type": "code",
   "execution_count": 13,
   "id": "e5d16c43",
   "metadata": {},
   "outputs": [
    {
     "name": "stderr",
     "output_type": "stream",
     "text": [
      "C:\\Users\\vip\\AppData\\Local\\Temp/ipykernel_8616/4011742157.py:6: SettingWithCopyWarning: \n",
      "A value is trying to be set on a copy of a slice from a DataFrame\n",
      "\n",
      "See the caveats in the documentation: https://pandas.pydata.org/pandas-docs/stable/user_guide/indexing.html#returning-a-view-versus-a-copy\n",
      "  df[\"店铺名称\"][df[\"店铺名称\"].isnull()]=\"Others\"\n"
     ]
    }
   ],
   "source": [
    "data_frame = []\n",
    "for file in glob.glob(os.path.join(r\"C:\\Users\\vip\\Desktop\\1\",\"*.csv\")):\n",
    "    df = pd.read_csv(file,encoding=\"gbk\",parse_dates=True)\n",
    "    df.set_index(\"计费时间\",inplace=True)\n",
    "    df[\"月份\"] = os.path.basename(file)\n",
    "    df[\"店铺名称\"][df[\"店铺名称\"].isnull()]=\"Others\"\n",
    "    df_pivot = df.pivot_table(index=[\"月份\",\"店铺名称\",\"费用项\"],values=\"计费金额\",aggfunc=\"sum\")\n",
    "    df_pivot.reset_index(inplace=True)\n",
    "    data_frame.append(df_pivot)\n",
    "df = pd.concat(data_frame,axis=0,ignore_index=True)\n",
    "df.to_excel(r\"C:\\Users\\vip\\Desktop\\Budweiser.xlsx\")"
   ]
  },
  {
   "cell_type": "code",
   "execution_count": null,
   "id": "91da8b5e",
   "metadata": {},
   "outputs": [],
   "source": []
  }
 ],
 "metadata": {
  "kernelspec": {
   "display_name": "Python 3 (ipykernel)",
   "language": "python",
   "name": "python3"
  },
  "language_info": {
   "codemirror_mode": {
    "name": "ipython",
    "version": 3
   },
   "file_extension": ".py",
   "mimetype": "text/x-python",
   "name": "python",
   "nbconvert_exporter": "python",
   "pygments_lexer": "ipython3",
   "version": "3.9.7"
  }
 },
 "nbformat": 4,
 "nbformat_minor": 5
}
